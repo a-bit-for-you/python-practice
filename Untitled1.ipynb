{
 "cells": [
  {
   "cell_type": "code",
   "execution_count": 4,
   "metadata": {},
   "outputs": [
    {
     "name": "stdout",
     "output_type": "stream",
     "text": [
      "Processing finished in 12.956347227096558 seconds.\n"
     ]
    }
   ],
   "source": [
    "import time \n",
    "#a=[2,1,5,2,3,2]\n",
    "#a=[2,1,5,2,8]\n",
    "a=[3,0,1,1,6]\n",
    "start_time = time.time()\n",
    "def fun():\n",
    "    li = [3,0,1,1,6]*2000\n",
    "    s = 8\n",
    "    len_li = len(li)\n",
    "    length = len_li\n",
    "    for i in range(len_li):\n",
    "        add,cnt = 0,0\n",
    "        for j in range(i,len_li):\n",
    "            add = add+li[j]\n",
    "            cnt+=1\n",
    "            if add >= s:\n",
    "                if cnt < length:\n",
    "                    length = cnt\n",
    "                break\n",
    "for _ in range(1000):\n",
    "    fun()\n",
    "print('Processing finished in' ,time.time() - start_time,'seconds.')"
   ]
  },
  {
   "cell_type": "code",
   "execution_count": 4,
   "metadata": {},
   "outputs": [
    {
     "name": "stdout",
     "output_type": "stream",
     "text": [
      "Processing finished in 20.163254022598267 seconds.\n"
     ]
    }
   ],
   "source": [
    "import time \n",
    "start_time = time.time()\n",
    "def fun():\n",
    "    li=[3,4,1,1,6]*20000\n",
    "    s = 8\n",
    "    add,index = 0, 1\n",
    "    length = s\n",
    "    for i in li:\n",
    "        if i>=s:\n",
    "            return 1\n",
    "            break\n",
    "        if add+i >= s:\n",
    "            if index < length:\n",
    "                length = index    \n",
    "            index = 1\n",
    "            add = i\n",
    "        else:\n",
    "            add+=i\n",
    "        index+=1\n",
    "    return length\n",
    "for _ in range(1000):\n",
    "    fun()\n",
    "print('Processing finished in' ,time.time() - start_time,'seconds.')"
   ]
  }
 ],
 "metadata": {
  "kernelspec": {
   "display_name": "Python 3",
   "language": "python",
   "name": "python3"
  },
  "language_info": {
   "codemirror_mode": {
    "name": "ipython",
    "version": 3
   },
   "file_extension": ".py",
   "mimetype": "text/x-python",
   "name": "python",
   "nbconvert_exporter": "python",
   "pygments_lexer": "ipython3",
   "version": "3.7.3"
  }
 },
 "nbformat": 4,
 "nbformat_minor": 4
}
