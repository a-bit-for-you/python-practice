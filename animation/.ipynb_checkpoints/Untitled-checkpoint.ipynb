{
 "cells": [
  {
   "cell_type": "code",
   "execution_count": 34,
   "metadata": {},
   "outputs": [],
   "source": [
    "from tkinter import *\n",
    "import time\n",
    "\n",
    "tk = Tk()\n",
    "#tk.attributes('-fullscreen', True)\n",
    "canvas = Canvas(tk,width = 1366, height = 768)\n",
    "canvas.pack()\n",
    "circle_a = canvas.create_oval(10,10,60,60, fill = 'yellow')\n",
    "a = canvas.create_text(35,30,text='A')\n",
    "\n",
    "\n",
    "def move_object(obj1,obj2, xspeed,yspeed,t,loop):\n",
    "    for i in range(loop):\n",
    "        canvas.move(obj1,xspeed,yspeed)\n",
    "        canvas.move(obj2,xspeed,yspeed)\n",
    "        tk.update()\n",
    "        time.sleep(t)\n",
    "        \n",
    "#move_object(circle_a,a,xspeed,yspeed,0.03,100)\n",
    "#move_object(ball,xspeed,yspeed,0.03)\n",
    "\n",
    "circle_b = canvas.create_oval(10,10,60,60, fill = 'yellow')\n",
    "b = canvas.create_text(35,30,text='B')\n",
    "\n",
    "circle_c = canvas.create_oval(10,10,60,60, fill = 'yellow')\n",
    "c = canvas.create_text(35,30,text='C')\n",
    "\n",
    "move_object(circle_b,b, 1,0,0,400)\n",
    "move_object(circle_c,c,1,2,0,200)\n",
    "\n",
    "for i in range(200):\n",
    "    canvas.move(circle_a,1,2)\n",
    "    canvas.move(a,1,2)\n",
    "    canvas.move(circle_b,-1,2)\n",
    "    canvas.move(b,-1,2)\n",
    "    tk.update()\n",
    "    time.sleep(0.04)\n",
    "\n",
    "# move_object(circle_a,a,1,2,0.05,200)\n",
    "# move_object(circle_b,b,-1,2,0.05,200)\n",
    "\n",
    "    \n",
    "tk.mainloop()"
   ]
  },
  {
   "cell_type": "code",
   "execution_count": null,
   "metadata": {},
   "outputs": [],
   "source": []
  }
 ],
 "metadata": {
  "kernelspec": {
   "display_name": "Python 3",
   "language": "python",
   "name": "python3"
  },
  "language_info": {
   "codemirror_mode": {
    "name": "ipython",
    "version": 3
   },
   "file_extension": ".py",
   "mimetype": "text/x-python",
   "name": "python",
   "nbconvert_exporter": "python",
   "pygments_lexer": "ipython3",
   "version": "3.7.3"
  }
 },
 "nbformat": 4,
 "nbformat_minor": 4
}
