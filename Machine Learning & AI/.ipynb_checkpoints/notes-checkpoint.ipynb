{
 "cells": [
  {
   "cell_type": "markdown",
   "metadata": {},
   "source": [
    "# 1. Inroduction to Machine Learning"
   ]
  },
  {
   "cell_type": "raw",
   "metadata": {},
   "source": [
    "What is machine learning?\n",
    "Machine learning is a subset of AI. This technique enables machines to improve based on experience.\n",
    "There are three types of Machine learning:\n",
    "1. Supervised Machine Learning \n",
    "2. Unsupervised Machine Learning\n",
    "3. Reinforcement Machine Learning"
   ]
  },
  {
   "cell_type": "markdown",
   "metadata": {},
   "source": [
    "### Supervised Machine Learning"
   ]
  },
  {
   "cell_type": "raw",
   "metadata": {},
   "source": [
    "In supervised machine learning we need to provide and input data set. Based on that input data machines can make predictions and decisions.\n",
    "\n",
    "Example:\n",
    "Image recognition\n",
    "Virtual Assistant\n",
    "Biometric Attencdance\n",
    "\n",
    "Machine Learning Algorithm examples \n",
    "1.Linear regression \n",
    "Logistic regression\n",
    "Decision tree"
   ]
  },
  {
   "cell_type": "markdown",
   "metadata": {},
   "source": [
    "### Unsupervised Machine Learning"
   ]
  },
  {
   "cell_type": "raw",
   "metadata": {},
   "source": [
    "In unsupervised machine learning we don't need to provide huge data set. \n",
    "Unsupervised machine learning helps you to finds all kind of unknown patterns in data.\n",
    "\n",
    "Example:\n",
    "Recommendation of products on ecommerce websites.\n",
    "\n",
    "In this technique the model creates clusters based on similar attributes. \n",
    "For example: Input Animals and birds, Output: Two different Clusters of animals and birds.\n",
    "\n",
    "Machine Learning Algorithm examples \n",
    "K means\n",
    "Apriori\n",
    "Hierarchichal clustering"
   ]
  },
  {
   "cell_type": "markdown",
   "metadata": {},
   "source": [
    "### Reinforcement learning"
   ]
  },
  {
   "cell_type": "markdown",
   "metadata": {},
   "source": [
    "Reinforcement learning (RL) is learning by environment interactions.\n",
    "If the RL agent makes a correct decision it gets a reward else a penalty.\n",
    "The goal of RL agent is to maximize the reward. (Its similar to training a dog.)\n",
    "\n",
    "Eg. In ecommerce sector: Reducing excess stock with dynamic pricing\n"
   ]
  },
  {
   "cell_type": "markdown",
   "metadata": {},
   "source": [
    "# 2. AI vs ML vs Deep Learning"
   ]
  },
  {
   "cell_type": "raw",
   "metadata": {},
   "source": [
    "ML is a subset of AI\n",
    "Deep learning is a subset of ML"
   ]
  },
  {
   "cell_type": "markdown",
   "metadata": {},
   "source": [
    "### Artificial Intelligence"
   ]
  },
  {
   "cell_type": "raw",
   "metadata": {},
   "source": [
    "AI is a technique that enables machines to mimic human behaviour.\n",
    "\n",
    "Examples:\n",
    "Google assistant\n",
    "Chess playing computer\n",
    "Tesla self driving car"
   ]
  },
  {
   "cell_type": "markdown",
   "metadata": {},
   "source": [
    "# Statistics and Probabilty"
   ]
  },
  {
   "cell_type": "markdown",
   "metadata": {},
   "source": [
    "# Supervised Machine Learning"
   ]
  },
  {
   "cell_type": "markdown",
   "metadata": {},
   "source": [
    "# Unsupervised Machine Learning"
   ]
  },
  {
   "cell_type": "markdown",
   "metadata": {},
   "source": [
    "# Reinforcement learning"
   ]
  },
  {
   "cell_type": "markdown",
   "metadata": {},
   "source": [
    "# Get Industry ready"
   ]
  },
  {
   "cell_type": "code",
   "execution_count": null,
   "metadata": {},
   "outputs": [],
   "source": []
  }
 ],
 "metadata": {
  "kernelspec": {
   "display_name": "Python 3",
   "language": "python",
   "name": "python3"
  },
  "language_info": {
   "codemirror_mode": {
    "name": "ipython",
    "version": 3
   },
   "file_extension": ".py",
   "mimetype": "text/x-python",
   "name": "python",
   "nbconvert_exporter": "python",
   "pygments_lexer": "ipython3",
   "version": "3.7.3"
  }
 },
 "nbformat": 4,
 "nbformat_minor": 4
}
