{
 "cells": [
  {
   "cell_type": "markdown",
   "metadata": {},
   "source": [
    "# Open Jupyter notebook"
   ]
  },
  {
   "cell_type": "code",
   "execution_count": 13,
   "metadata": {},
   "outputs": [],
   "source": [
    "import pyautogui as pg\n",
    "import time\n",
    "time.sleep(0.5)\n",
    "def press(command):\n",
    "    pg.press(command)\n",
    "    time.sleep(2)\n",
    "\n",
    "def typewrite(command):\n",
    "    pg.typewrite(command)\n",
    "    time.sleep(2)\n",
    "    \n",
    "press('win')\n",
    "typewrite('Anaconda')\n",
    "press('enter')\n",
    "typewrite('f:')\n",
    "press('enter')\n",
    "typewrite('jupyter notebook')\n",
    "press('enter')"
   ]
  },
  {
   "cell_type": "markdown",
   "metadata": {},
   "source": [
    "# Create directories"
   ]
  },
  {
   "cell_type": "code",
   "execution_count": null,
   "metadata": {},
   "outputs": [],
   "source": [
    "import pyautogui as pg\n",
    "import time\n",
    "time.sleep(1)\n",
    "def press(command):\n",
    "    pg.press(command)\n",
    "    time.sleep(1)\n",
    "    \n",
    "def hotkey(*command):\n",
    "    pg.hotkey(*command)\n",
    "    time.sleep(1)\n",
    "    \n",
    "\n",
    "def click(x,y):\n",
    "    pg.click(x,y)\n",
    "    time.sleep(2)\n",
    "\n",
    "\n",
    "hotkey('win', 'e') #opens file explorer\n",
    "click(x=78, y=230) #find outs desktop\n",
    "click(x=483, y=101)# create new folder\n",
    "pg.typewrite('Schools')\n",
    "press('enter')\n",
    "press('enter')\n",
    "\n"
   ]
  },
  {
   "cell_type": "code",
   "execution_count": 39,
   "metadata": {},
   "outputs": [
    {
     "name": "stdout",
     "output_type": "stream",
     "text": [
      "Point(x=483, y=101)\n"
     ]
    }
   ],
   "source": [
    "print(pg.position())"
   ]
  },
  {
   "cell_type": "markdown",
   "metadata": {},
   "source": [
    "# Searching for image"
   ]
  },
  {
   "cell_type": "code",
   "execution_count": 30,
   "metadata": {},
   "outputs": [],
   "source": [
    "import pyautogui as pg\n",
    "import time\n",
    "time.sleep(0.5)\n",
    "def press(command):\n",
    "    pg.press(command)\n",
    "    time.sleep(2)\n",
    "\n",
    "def typewrite(command):\n",
    "    pg.typewrite(command)\n",
    "    time.sleep(2)\n",
    "      \n",
    "\n",
    "def click(x,y):\n",
    "    pg.click(x,y)\n",
    "    time.sleep(2)\n",
    "    \n",
    "click(x=612, y=748)#opens google chrome\n",
    "typewrite('https://www.google.co.in/imghp?hl=en')\n",
    "press('enter')\n",
    "typewrite('tulip')\n",
    "press('enter')"
   ]
  },
  {
   "cell_type": "code",
   "execution_count": null,
   "metadata": {},
   "outputs": [],
   "source": []
  }
 ],
 "metadata": {
  "kernelspec": {
   "display_name": "Python 3",
   "language": "python",
   "name": "python3"
  },
  "language_info": {
   "codemirror_mode": {
    "name": "ipython",
    "version": 3
   },
   "file_extension": ".py",
   "mimetype": "text/x-python",
   "name": "python",
   "nbconvert_exporter": "python",
   "pygments_lexer": "ipython3",
   "version": "3.7.3"
  }
 },
 "nbformat": 4,
 "nbformat_minor": 4
}
