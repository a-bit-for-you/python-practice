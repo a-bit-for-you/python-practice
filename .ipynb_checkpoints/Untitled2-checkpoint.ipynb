{
 "cells": [
  {
   "cell_type": "code",
   "execution_count": 11,
   "metadata": {},
   "outputs": [
    {
     "name": "stdout",
     "output_type": "stream",
     "text": [
      "Processing finished in 5.393612623214722 seconds.\n"
     ]
    }
   ],
   "source": [
    "import time \n",
    "start_time = time.time()\n",
    "def fun():\n",
    "    a = [2,1,5,2,3,2]*2000\n",
    "    s = 7\n",
    "    var=0\n",
    "    for _ in range(len(a)):\n",
    "        var+=1\n",
    "        for x in range(len(a)):\n",
    "            if sum(a[x:x+var])>=s:\n",
    "                return var\n",
    "for _ in range(1000):\n",
    "    fun()\n",
    "print('Processing finished in' ,time.time() - start_time,'seconds.')"
   ]
  },
  {
   "cell_type": "code",
   "execution_count": 2,
   "metadata": {},
   "outputs": [
    {
     "name": "stdout",
     "output_type": "stream",
     "text": [
      "2\n",
      "Processing finished in 0.000997304916381836 seconds.\n"
     ]
    }
   ],
   "source": [
    "import time \n",
    "start_time = time.time()\n",
    "def fun():\n",
    "    a=[2,1,5,2,3,2]*2000\n",
    "    s=7\n",
    "    var=0\n",
    "    for _ in range(len(a)):\n",
    "        var+=1\n",
    "        num=sum(a[0:var])\n",
    "        if num>=s:\n",
    "            return var\n",
    "        else:\n",
    "            for x in range(var,len(a)):\n",
    "                num=num+(a[x]-a[x-var])\n",
    "                if num>=s:\n",
    "                    return var\n",
    "\n",
    "for _ in range(1000):\n",
    "    fun()\n",
    "print('Processing finished in' ,time.time() - start_time,'seconds.')"
   ]
  }
 ],
 "metadata": {
  "kernelspec": {
   "display_name": "Python 3",
   "language": "python",
   "name": "python3"
  },
  "language_info": {
   "codemirror_mode": {
    "name": "ipython",
    "version": 3
   },
   "file_extension": ".py",
   "mimetype": "text/x-python",
   "name": "python",
   "nbconvert_exporter": "python",
   "pygments_lexer": "ipython3",
   "version": "3.7.3"
  }
 },
 "nbformat": 4,
 "nbformat_minor": 4
}
