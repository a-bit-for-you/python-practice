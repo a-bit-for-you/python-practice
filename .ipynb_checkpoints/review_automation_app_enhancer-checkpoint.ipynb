{
 "cells": [
  {
   "cell_type": "code",
   "execution_count": 9,
   "metadata": {},
   "outputs": [],
   "source": [
    "import pyautogui as pg\n",
    "import time\n",
    "time.sleep(1)\n",
    "def press(command):\n",
    "    pg.press(command)\n",
    "    time.sleep(1)\n",
    "    \n",
    "def hotkey(*command):\n",
    "    pg.hotkey(*command)\n",
    "    time.sleep(1)\n",
    "    \n",
    "def typewrite(command):\n",
    "    pg.typewrite(command)\n",
    "    time.sleep(1)\n",
    "\n",
    "\n",
    "def click(x,y):\n",
    "    pg.click(x,y)\n",
    "    time.sleep(2)\n",
    "\n",
    "hotkey('ctrl','shift','n')#opens incagnito mode\n",
    "typewrite('https://www.appenhancer.com/auth/login/')\n",
    "press('enter')"
   ]
  },
  {
   "cell_type": "code",
   "execution_count": null,
   "metadata": {},
   "outputs": [],
   "source": []
  }
 ],
 "metadata": {
  "kernelspec": {
   "display_name": "Python 3",
   "language": "python",
   "name": "python3"
  },
  "language_info": {
   "codemirror_mode": {
    "name": "ipython",
    "version": 3
   },
   "file_extension": ".py",
   "mimetype": "text/x-python",
   "name": "python",
   "nbconvert_exporter": "python",
   "pygments_lexer": "ipython3",
   "version": "3.7.3"
  }
 },
 "nbformat": 4,
 "nbformat_minor": 4
}
