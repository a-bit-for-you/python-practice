{
 "cells": [
  {
   "cell_type": "code",
   "execution_count": 66,
   "metadata": {},
   "outputs": [
    {
     "name": "stdout",
     "output_type": "stream",
     "text": [
      "11.024637699127197\n"
     ]
    }
   ],
   "source": [
    "from math import inf\n",
    "li=[2,1,5,2,3,2]*2000\n",
    "#li=[2,1,5,2,8]*2000\n",
    "#li=[3,4,1,1,6]*2000\n",
    "s = 7\n",
    "import time\n",
    "start_time = time.time()\n",
    "def smallest_subarray_with_given_sum(s, arr):\n",
    "    start_pointer, end_pointer = 0, 0\n",
    "    min_count = inf\n",
    "    window_sum = 0\n",
    "    while end_pointer < len(arr): \n",
    "        if window_sum < s:\n",
    "            window_sum += arr[end_pointer]\n",
    "            end_pointer += 1\n",
    "        while window_sum >= s:\n",
    "            min_count = min(min_count , end_pointer - start_pointer)\n",
    "            window_sum -= arr[start_pointer]\n",
    "            start_pointer += 1\n",
    "    return min_count\n",
    "for _ in range(1000):\n",
    "    smallest_subarray_with_given_sum(s, li)\n",
    "print(time.time()-start_time)"
   ]
  },
  {
   "cell_type": "code",
   "execution_count": 67,
   "metadata": {},
   "outputs": [
    {
     "name": "stdout",
     "output_type": "stream",
     "text": [
      "2.3460700511932373\n"
     ]
    }
   ],
   "source": [
    "li=[2,1,5,2,3,2]*2000\n",
    "#li=[2,1,5,2,8]\n",
    "#li=[3,4,1,1,6]\n",
    "s = 7\n",
    "import time\n",
    "start_time = time.time()\n",
    "def find_smallest_sub_arr(li,s):\n",
    "    add = 0\n",
    "    index = 1\n",
    "    length = len(li)\n",
    "    for i in li:\n",
    "        if i >= s:\n",
    "            return 1\n",
    "        if add + i >= s:\n",
    "            if index < length:\n",
    "                length = index    \n",
    "            index = 1\n",
    "            add = i\n",
    "        else:\n",
    "            add += i\n",
    "        index+=1\n",
    "    return length\n",
    "for _ in range(1000):\n",
    "    find_smallest_sub_arr(li,s)\n",
    "print(time.time()-start_time)"
   ]
  },
  {
   "cell_type": "code",
   "execution_count": null,
   "metadata": {},
   "outputs": [],
   "source": []
  }
 ],
 "metadata": {
  "kernelspec": {
   "display_name": "Python 3",
   "language": "python",
   "name": "python3"
  },
  "language_info": {
   "codemirror_mode": {
    "name": "ipython",
    "version": 3
   },
   "file_extension": ".py",
   "mimetype": "text/x-python",
   "name": "python",
   "nbconvert_exporter": "python",
   "pygments_lexer": "ipython3",
   "version": "3.7.3"
  }
 },
 "nbformat": 4,
 "nbformat_minor": 4
}
