{
 "cells": [
  {
   "cell_type": "markdown",
   "metadata": {},
   "source": [
    "# String"
   ]
  },
  {
   "cell_type": "code",
   "execution_count": 1,
   "metadata": {},
   "outputs": [
    {
     "name": "stdout",
     "output_type": "stream",
     "text": [
      "tera tera tera suroor\n"
     ]
    }
   ],
   "source": [
    "print(\"tera \"*3 + \"suroor\")"
   ]
  },
  {
   "cell_type": "markdown",
   "metadata": {},
   "source": [
    "<b>Upper lower<b>"
   ]
  },
  {
   "cell_type": "code",
   "execution_count": 2,
   "metadata": {},
   "outputs": [
    {
     "name": "stdout",
     "output_type": "stream",
     "text": [
      "MANISH YADAV\n",
      "sachin\n"
     ]
    }
   ],
   "source": [
    "s = 'manish yadav'\n",
    "s2 = 'SACHIN'\n",
    "print(s.upper())#\n",
    "print(s2.lower())"
   ]
  },
  {
   "cell_type": "markdown",
   "metadata": {},
   "source": [
    "<b>title<b>"
   ]
  },
  {
   "cell_type": "code",
   "execution_count": 3,
   "metadata": {
    "scrolled": true
   },
   "outputs": [
    {
     "data": {
      "text/plain": [
       "'Manish Yadav'"
      ]
     },
     "execution_count": 3,
     "metadata": {},
     "output_type": "execute_result"
    }
   ],
   "source": [
    "s= 'manish yadav'\n",
    "s.title()"
   ]
  },
  {
   "cell_type": "markdown",
   "metadata": {},
   "source": [
    "<b>Slicing<b>"
   ]
  },
  {
   "cell_type": "code",
   "execution_count": 4,
   "metadata": {},
   "outputs": [
    {
     "name": "stdout",
     "output_type": "stream",
     "text": [
      "mani\n",
      "anish\n",
      "yadav\n",
      "manish\n"
     ]
    }
   ],
   "source": [
    "s= 'manish yadav'\n",
    "print(s[0:4])# print mani\n",
    "print(s[1:6])# print anish\n",
    "print(s[-5:])#print yadav\n",
    "print(s[:6])#print manish"
   ]
  },
  {
   "cell_type": "markdown",
   "metadata": {},
   "source": [
    "<b>Strip<b>"
   ]
  },
  {
   "cell_type": "code",
   "execution_count": 5,
   "metadata": {},
   "outputs": [
    {
     "name": "stdout",
     "output_type": "stream",
     "text": [
      "  manish  \n",
      "manish\n"
     ]
    }
   ],
   "source": [
    "s = '  manish  '\n",
    "print(s)\n",
    "print(s.strip())"
   ]
  },
  {
   "cell_type": "markdown",
   "metadata": {},
   "source": [
    "<b>lstrip<b>"
   ]
  },
  {
   "cell_type": "code",
   "execution_count": 6,
   "metadata": {},
   "outputs": [
    {
     "name": "stdout",
     "output_type": "stream",
     "text": [
      "  manish\n",
      "manish\n"
     ]
    }
   ],
   "source": [
    "s = '  manish'\n",
    "print(s)\n",
    "print(s.lstrip())"
   ]
  },
  {
   "cell_type": "markdown",
   "metadata": {},
   "source": [
    "<b>rstrip<b>"
   ]
  },
  {
   "cell_type": "code",
   "execution_count": 7,
   "metadata": {},
   "outputs": [
    {
     "name": "stdout",
     "output_type": "stream",
     "text": [
      "manish  \n",
      "manish\n"
     ]
    }
   ],
   "source": [
    "s = 'manish  '\n",
    "print(s)\n",
    "print(s.rstrip())"
   ]
  },
  {
   "cell_type": "markdown",
   "metadata": {},
   "source": [
    "<b>split<b>"
   ]
  },
  {
   "cell_type": "code",
   "execution_count": 8,
   "metadata": {},
   "outputs": [
    {
     "name": "stdout",
     "output_type": "stream",
     "text": [
      "['manish', 'yadav']\n",
      "['m', 'nish y', 'd', 'v']\n"
     ]
    }
   ],
   "source": [
    "s= 'manish yadav'\n",
    "print(s.split())#split with space\n",
    "print(s.split('a'))#split by a (returns a list)"
   ]
  },
  {
   "cell_type": "markdown",
   "metadata": {},
   "source": [
    "<b>replace<b>"
   ]
  },
  {
   "cell_type": "code",
   "execution_count": 9,
   "metadata": {},
   "outputs": [
    {
     "data": {
      "text/plain": [
       "'manish gupta'"
      ]
     },
     "execution_count": 9,
     "metadata": {},
     "output_type": "execute_result"
    }
   ],
   "source": [
    "s= 'manish yadav'\n",
    "s.replace('yadav','gupta')"
   ]
  },
  {
   "cell_type": "markdown",
   "metadata": {},
   "source": [
    "<b>count<b>"
   ]
  },
  {
   "cell_type": "code",
   "execution_count": 10,
   "metadata": {},
   "outputs": [
    {
     "data": {
      "text/plain": [
       "3"
      ]
     },
     "execution_count": 10,
     "metadata": {},
     "output_type": "execute_result"
    }
   ],
   "source": [
    "s= 'manish yadav'\n",
    "s.count('a')"
   ]
  },
  {
   "cell_type": "markdown",
   "metadata": {},
   "source": [
    "# List"
   ]
  },
  {
   "cell_type": "code",
   "execution_count": 11,
   "metadata": {},
   "outputs": [
    {
     "data": {
      "text/plain": [
       "[12, 55, 35, 85, 175]"
      ]
     },
     "execution_count": 11,
     "metadata": {},
     "output_type": "execute_result"
    }
   ],
   "source": [
    "nums = [12,55,35,85,175]\n",
    "nums"
   ]
  },
  {
   "cell_type": "code",
   "execution_count": 12,
   "metadata": {},
   "outputs": [
    {
     "data": {
      "text/plain": [
       "[12, 55, 35, 85, 175, 89]"
      ]
     },
     "execution_count": 12,
     "metadata": {},
     "output_type": "execute_result"
    }
   ],
   "source": [
    "nums.append(89)\n",
    "nums"
   ]
  },
  {
   "cell_type": "code",
   "execution_count": 13,
   "metadata": {},
   "outputs": [
    {
     "data": {
      "text/plain": [
       "[12, 55, 35, 85, 175, 555, 89]"
      ]
     },
     "execution_count": 13,
     "metadata": {},
     "output_type": "execute_result"
    }
   ],
   "source": [
    "nums.insert(5,555)\n",
    "nums"
   ]
  },
  {
   "cell_type": "code",
   "execution_count": 14,
   "metadata": {},
   "outputs": [
    {
     "data": {
      "text/plain": [
       "[12, 35, 85, 175, 555, 89]"
      ]
     },
     "execution_count": 14,
     "metadata": {},
     "output_type": "execute_result"
    }
   ],
   "source": [
    "nums.remove(55)\n",
    "nums"
   ]
  },
  {
   "cell_type": "code",
   "execution_count": 15,
   "metadata": {},
   "outputs": [
    {
     "data": {
      "text/plain": [
       "89"
      ]
     },
     "execution_count": 15,
     "metadata": {},
     "output_type": "execute_result"
    }
   ],
   "source": [
    "nums.pop()"
   ]
  },
  {
   "cell_type": "code",
   "execution_count": 16,
   "metadata": {},
   "outputs": [
    {
     "data": {
      "text/plain": [
       "[12, 35, 85, 175, 555]"
      ]
     },
     "execution_count": 16,
     "metadata": {},
     "output_type": "execute_result"
    }
   ],
   "source": [
    "nums"
   ]
  },
  {
   "cell_type": "code",
   "execution_count": 17,
   "metadata": {},
   "outputs": [
    {
     "data": {
      "text/plain": [
       "85"
      ]
     },
     "execution_count": 17,
     "metadata": {},
     "output_type": "execute_result"
    }
   ],
   "source": [
    "nums.pop(2)"
   ]
  },
  {
   "cell_type": "code",
   "execution_count": 18,
   "metadata": {},
   "outputs": [
    {
     "data": {
      "text/plain": [
       "[12, 35, 175, 555]"
      ]
     },
     "execution_count": 18,
     "metadata": {},
     "output_type": "execute_result"
    }
   ],
   "source": [
    "nums"
   ]
  },
  {
   "cell_type": "code",
   "execution_count": 19,
   "metadata": {},
   "outputs": [],
   "source": [
    "del nums[1:3]"
   ]
  },
  {
   "cell_type": "code",
   "execution_count": 20,
   "metadata": {},
   "outputs": [
    {
     "data": {
      "text/plain": [
       "[12, 555]"
      ]
     },
     "execution_count": 20,
     "metadata": {},
     "output_type": "execute_result"
    }
   ],
   "source": [
    "nums"
   ]
  },
  {
   "cell_type": "code",
   "execution_count": 21,
   "metadata": {},
   "outputs": [
    {
     "data": {
      "text/plain": [
       "1"
      ]
     },
     "execution_count": 21,
     "metadata": {},
     "output_type": "execute_result"
    }
   ],
   "source": [
    "nums.index(555)"
   ]
  },
  {
   "cell_type": "code",
   "execution_count": 22,
   "metadata": {},
   "outputs": [],
   "source": [
    "nums.extend([45,64,87])"
   ]
  },
  {
   "cell_type": "code",
   "execution_count": 23,
   "metadata": {},
   "outputs": [
    {
     "data": {
      "text/plain": [
       "[12, 555, 45, 64, 87]"
      ]
     },
     "execution_count": 23,
     "metadata": {},
     "output_type": "execute_result"
    }
   ],
   "source": [
    "nums"
   ]
  },
  {
   "cell_type": "code",
   "execution_count": 24,
   "metadata": {},
   "outputs": [
    {
     "data": {
      "text/plain": [
       "12"
      ]
     },
     "execution_count": 24,
     "metadata": {},
     "output_type": "execute_result"
    }
   ],
   "source": [
    "min(nums)"
   ]
  },
  {
   "cell_type": "code",
   "execution_count": 25,
   "metadata": {},
   "outputs": [
    {
     "data": {
      "text/plain": [
       "555"
      ]
     },
     "execution_count": 25,
     "metadata": {},
     "output_type": "execute_result"
    }
   ],
   "source": [
    "max(nums)"
   ]
  },
  {
   "cell_type": "code",
   "execution_count": 26,
   "metadata": {},
   "outputs": [
    {
     "data": {
      "text/plain": [
       "5"
      ]
     },
     "execution_count": 26,
     "metadata": {},
     "output_type": "execute_result"
    }
   ],
   "source": [
    "len(nums)"
   ]
  },
  {
   "cell_type": "code",
   "execution_count": 27,
   "metadata": {},
   "outputs": [
    {
     "data": {
      "text/plain": [
       "1"
      ]
     },
     "execution_count": 27,
     "metadata": {},
     "output_type": "execute_result"
    }
   ],
   "source": [
    "nums.count(12)"
   ]
  },
  {
   "cell_type": "code",
   "execution_count": 28,
   "metadata": {},
   "outputs": [],
   "source": [
    "nums.reverse()"
   ]
  },
  {
   "cell_type": "code",
   "execution_count": 29,
   "metadata": {},
   "outputs": [
    {
     "data": {
      "text/plain": [
       "[87, 64, 45, 555, 12]"
      ]
     },
     "execution_count": 29,
     "metadata": {},
     "output_type": "execute_result"
    }
   ],
   "source": [
    "nums"
   ]
  },
  {
   "cell_type": "code",
   "execution_count": 30,
   "metadata": {},
   "outputs": [],
   "source": [
    "nums.sort()"
   ]
  },
  {
   "cell_type": "code",
   "execution_count": 31,
   "metadata": {},
   "outputs": [
    {
     "data": {
      "text/plain": [
       "[12, 45, 64, 87, 555]"
      ]
     },
     "execution_count": 31,
     "metadata": {},
     "output_type": "execute_result"
    }
   ],
   "source": [
    "nums"
   ]
  },
  {
   "cell_type": "markdown",
   "metadata": {},
   "source": [
    "<b>Shallow copy<b>"
   ]
  },
  {
   "cell_type": "code",
   "execution_count": 32,
   "metadata": {},
   "outputs": [],
   "source": [
    "nums2 = nums"
   ]
  },
  {
   "cell_type": "code",
   "execution_count": 33,
   "metadata": {},
   "outputs": [
    {
     "data": {
      "text/plain": [
       "[12, 45, 64, 87, 555]"
      ]
     },
     "execution_count": 33,
     "metadata": {},
     "output_type": "execute_result"
    }
   ],
   "source": [
    "nums2"
   ]
  },
  {
   "cell_type": "code",
   "execution_count": 34,
   "metadata": {},
   "outputs": [],
   "source": [
    "nums2.append(2)#modify nums2"
   ]
  },
  {
   "cell_type": "code",
   "execution_count": 35,
   "metadata": {},
   "outputs": [
    {
     "data": {
      "text/plain": [
       "[12, 45, 64, 87, 555, 2]"
      ]
     },
     "execution_count": 35,
     "metadata": {},
     "output_type": "execute_result"
    }
   ],
   "source": [
    "nums2"
   ]
  },
  {
   "cell_type": "code",
   "execution_count": 36,
   "metadata": {},
   "outputs": [
    {
     "data": {
      "text/plain": [
       "[12, 45, 64, 87, 555, 2]"
      ]
     },
     "execution_count": 36,
     "metadata": {},
     "output_type": "execute_result"
    }
   ],
   "source": [
    "nums#nums gets modified automatically"
   ]
  },
  {
   "cell_type": "markdown",
   "metadata": {},
   "source": [
    "<b>Deep copy<b>"
   ]
  },
  {
   "cell_type": "code",
   "execution_count": 37,
   "metadata": {},
   "outputs": [],
   "source": [
    "nums3 = nums.copy()"
   ]
  },
  {
   "cell_type": "code",
   "execution_count": 38,
   "metadata": {},
   "outputs": [
    {
     "data": {
      "text/plain": [
       "[12, 45, 64, 87, 555, 2]"
      ]
     },
     "execution_count": 38,
     "metadata": {},
     "output_type": "execute_result"
    }
   ],
   "source": [
    "nums3"
   ]
  },
  {
   "cell_type": "code",
   "execution_count": 39,
   "metadata": {},
   "outputs": [
    {
     "data": {
      "text/plain": [
       "2"
      ]
     },
     "execution_count": 39,
     "metadata": {},
     "output_type": "execute_result"
    }
   ],
   "source": [
    "nums3.pop()#modify nums3.join"
   ]
  },
  {
   "cell_type": "code",
   "execution_count": 40,
   "metadata": {},
   "outputs": [
    {
     "data": {
      "text/plain": [
       "[12, 45, 64, 87, 555]"
      ]
     },
     "execution_count": 40,
     "metadata": {},
     "output_type": "execute_result"
    }
   ],
   "source": [
    "nums3"
   ]
  },
  {
   "cell_type": "code",
   "execution_count": 41,
   "metadata": {},
   "outputs": [
    {
     "data": {
      "text/plain": [
       "[12, 45, 64, 87, 555, 2]"
      ]
     },
     "execution_count": 41,
     "metadata": {},
     "output_type": "execute_result"
    }
   ],
   "source": [
    "nums#no effect on nums"
   ]
  },
  {
   "cell_type": "code",
   "execution_count": 42,
   "metadata": {},
   "outputs": [],
   "source": [
    "nums.clear()"
   ]
  },
  {
   "cell_type": "code",
   "execution_count": 43,
   "metadata": {},
   "outputs": [
    {
     "data": {
      "text/plain": [
       "[]"
      ]
     },
     "execution_count": 43,
     "metadata": {},
     "output_type": "execute_result"
    }
   ],
   "source": [
    "nums#list becomes empty"
   ]
  },
  {
   "cell_type": "code",
   "execution_count": 44,
   "metadata": {},
   "outputs": [],
   "source": [
    "del nums"
   ]
  },
  {
   "cell_type": "code",
   "execution_count": 45,
   "metadata": {},
   "outputs": [
    {
     "ename": "NameError",
     "evalue": "name 'nums' is not defined",
     "output_type": "error",
     "traceback": [
      "\u001b[1;31m---------------------------------------------------------------------------\u001b[0m",
      "\u001b[1;31mNameError\u001b[0m                                 Traceback (most recent call last)",
      "\u001b[1;32m<ipython-input-45-ca5497fd7f6f>\u001b[0m in \u001b[0;36m<module>\u001b[1;34m\u001b[0m\n\u001b[1;32m----> 1\u001b[1;33m \u001b[0mnums\u001b[0m\u001b[1;31m#list gets deleted permanently\u001b[0m\u001b[1;33m\u001b[0m\u001b[1;33m\u001b[0m\u001b[0m\n\u001b[0m",
      "\u001b[1;31mNameError\u001b[0m: name 'nums' is not defined"
     ]
    }
   ],
   "source": [
    "nums#list gets deleted permanently"
   ]
  },
  {
   "cell_type": "code",
   "execution_count": null,
   "metadata": {},
   "outputs": [],
   "source": [
    "import os\n",
    "li = os.listdir()\n",
    "for i in li:\n",
    "    if i.endswith('.txt'):\n",
    "        os.remove(i)"
   ]
  },
  {
   "cell_type": "code",
   "execution_count": null,
   "metadata": {},
   "outputs": [],
   "source": [
    "li2 = [1,1,2,2,2,3]"
   ]
  },
  {
   "cell_type": "code",
   "execution_count": null,
   "metadata": {},
   "outputs": [],
   "source": [
    "set(li2)"
   ]
  },
  {
   "cell_type": "code",
   "execution_count": null,
   "metadata": {},
   "outputs": [],
   "source": [
    "s1 = {1,2,3}\n",
    "s2 = {1,4,5}\n",
    "s1.union(s2)"
   ]
  },
  {
   "cell_type": "code",
   "execution_count": null,
   "metadata": {},
   "outputs": [],
   "source": [
    "s1.intersection(s2)"
   ]
  },
  {
   "cell_type": "markdown",
   "metadata": {},
   "source": [
    "<b> Set<b> "
   ]
  },
  {
   "cell_type": "code",
   "execution_count": null,
   "metadata": {},
   "outputs": [],
   "source": [
    "s = {1,2,3,4,5}"
   ]
  },
  {
   "cell_type": "code",
   "execution_count": null,
   "metadata": {},
   "outputs": [],
   "source": [
    "print(s)"
   ]
  },
  {
   "cell_type": "code",
   "execution_count": null,
   "metadata": {},
   "outputs": [],
   "source": [
    "for x in s:\n",
    "    print(x)"
   ]
  },
  {
   "cell_type": "code",
   "execution_count": null,
   "metadata": {},
   "outputs": [],
   "source": [
    "print(4 in s)"
   ]
  },
  {
   "cell_type": "code",
   "execution_count": null,
   "metadata": {},
   "outputs": [],
   "source": [
    "s.update([8,9])\n",
    "print(s)"
   ]
  },
  {
   "cell_type": "code",
   "execution_count": null,
   "metadata": {},
   "outputs": [],
   "source": [
    "s.discard(5)"
   ]
  },
  {
   "cell_type": "code",
   "execution_count": null,
   "metadata": {},
   "outputs": [],
   "source": [
    "print(s)"
   ]
  },
  {
   "cell_type": "code",
   "execution_count": null,
   "metadata": {},
   "outputs": [],
   "source": [
    "s1 = {0,1,2,3,4}\n",
    "s2 = {4,5,6,7,8,\"Man\"}\n",
    "s3 = s1.union(s2)\n",
    "print(s3)"
   ]
  },
  {
   "cell_type": "code",
   "execution_count": null,
   "metadata": {},
   "outputs": [],
   "source": [
    "s1.update(s2)\n",
    "print(s1)"
   ]
  },
  {
   "cell_type": "code",
   "execution_count": null,
   "metadata": {},
   "outputs": [],
   "source": [
    "abc = 1,000,000"
   ]
  },
  {
   "cell_type": "code",
   "execution_count": null,
   "metadata": {},
   "outputs": [],
   "source": [
    "type(abc)"
   ]
  },
  {
   "cell_type": "code",
   "execution_count": null,
   "metadata": {},
   "outputs": [],
   "source": [
    "dic = {1:'a',2:'b'}\n",
    "dic"
   ]
  },
  {
   "cell_type": "code",
   "execution_count": null,
   "metadata": {},
   "outputs": [],
   "source": [
    "dic[3]='c'\n",
    "dic"
   ]
  },
  {
   "cell_type": "code",
   "execution_count": null,
   "metadata": {},
   "outputs": [],
   "source": [
    "car = {\n",
    "  \"brand\": \"Ford\",\n",
    "  \"model\": \"Mustang\",\n",
    "  \"year\": 1964\n",
    "}\n",
    "\n",
    "x = car.keys()\n",
    "\n",
    "print(type(x))"
   ]
  },
  {
   "cell_type": "code",
   "execution_count": null,
   "metadata": {},
   "outputs": [],
   "source": [
    "dic = {\"name\": \"bike\",\n",
    "      \"model\": \"400\"}"
   ]
  },
  {
   "cell_type": "code",
   "execution_count": null,
   "metadata": {},
   "outputs": [],
   "source": [
    "print(dic)"
   ]
  },
  {
   "cell_type": "code",
   "execution_count": null,
   "metadata": {},
   "outputs": [],
   "source": [
    "x = dic[\"name\"]\n",
    "print(x)"
   ]
  },
  {
   "cell_type": "code",
   "execution_count": null,
   "metadata": {},
   "outputs": [],
   "source": [
    "x = dic.get(\"model\")\n",
    "print(x)"
   ]
  },
  {
   "cell_type": "code",
   "execution_count": null,
   "metadata": {},
   "outputs": [],
   "source": [
    "for x in dic:\n",
    "    print(dic[x])"
   ]
  },
  {
   "cell_type": "code",
   "execution_count": null,
   "metadata": {},
   "outputs": [],
   "source": [
    "for x in dic.values():\n",
    "    print(x)"
   ]
  },
  {
   "cell_type": "code",
   "execution_count": null,
   "metadata": {},
   "outputs": [],
   "source": [
    "for x,y in dic.items():\n",
    "        print(x,y)"
   ]
  },
  {
   "cell_type": "code",
   "execution_count": null,
   "metadata": {},
   "outputs": [],
   "source": [
    "if \"name\" in dic:\n",
    "     print(\"Yes, 'name' is one of the keys in the thisdict dictionary\")"
   ]
  },
  {
   "cell_type": "code",
   "execution_count": null,
   "metadata": {},
   "outputs": [],
   "source": [
    "print(len(dic))"
   ]
  },
  {
   "cell_type": "code",
   "execution_count": null,
   "metadata": {},
   "outputs": [],
   "source": [
    "dic[\"health\"] = \"Good\""
   ]
  },
  {
   "cell_type": "code",
   "execution_count": null,
   "metadata": {},
   "outputs": [],
   "source": [
    "print(dic)"
   ]
  },
  {
   "cell_type": "code",
   "execution_count": null,
   "metadata": {},
   "outputs": [],
   "source": [
    "dic.pop(\"health\")\n",
    "print(dic)"
   ]
  },
  {
   "cell_type": "code",
   "execution_count": null,
   "metadata": {},
   "outputs": [],
   "source": [
    "del dic[\"model\"]\n",
    "print(dic)"
   ]
  },
  {
   "cell_type": "code",
   "execution_count": null,
   "metadata": {},
   "outputs": [],
   "source": [
    "import json\n",
    "original_dict={'body':'{\"infra\":[\"dev4\",\"elk\"],\"type\":\"file_integrity\"}'}\n",
    "original_dict['body'] = json.loads(original_dict['body'])\n",
    "infra=original_dict['body']['infra']\n",
    "print(infra)"
   ]
  },
  {
   "cell_type": "code",
   "execution_count": null,
   "metadata": {},
   "outputs": [],
   "source": [
    "fruit_list = ['apple','mango','orange']\n",
    "for fruit in fruit_list:\n",
    "    print(fruit)"
   ]
  },
  {
   "cell_type": "code",
   "execution_count": null,
   "metadata": {},
   "outputs": [],
   "source": [
    "fruit_list = ['apple','mango','orange']\n",
    "for i in range(len(fruit_list)):\n",
    "    print(i+1,fruit_list[i])"
   ]
  },
  {
   "cell_type": "code",
   "execution_count": null,
   "metadata": {},
   "outputs": [],
   "source": [
    "name = input('Enter your name\\n')\n",
    "age = int(input())\n",
    "print(f'My name is {name} and my age is {age}')"
   ]
  },
  {
   "cell_type": "code",
   "execution_count": null,
   "metadata": {},
   "outputs": [],
   "source": [
    "name = input(\"Enter your name\\n\")\n",
    "age = int(input(\"Enter your age\\n\"))\n",
    "if age>=18:\n",
    "    print(f\"Congratulation! {name} You are eligible for vote\")\n",
    "else:\n",
    "    print(f\"Sorry {name} You are not eligible for vote\")\n",
    "    "
   ]
  },
  {
   "cell_type": "code",
   "execution_count": null,
   "metadata": {},
   "outputs": [],
   "source": [
    "num = int(input(\"Enter number:\"))\n",
    "if num<0:\n",
    "    print(\"The entered number is negative\")\n",
    "elif num>0:\n",
    "    print(\"The entered number is positive\")\n",
    "else:\n",
    "    print(\"The entered number is zero\")"
   ]
  },
  {
   "cell_type": "code",
   "execution_count": null,
   "metadata": {},
   "outputs": [],
   "source": [
    "num = int(input(\"Enter number:\"))\n",
    "if num %2 == 0:\n",
    "    print(\"The number is Even\")\n",
    "else:\n",
    "    print(\"The number is Odd\")"
   ]
  },
  {
   "cell_type": "code",
   "execution_count": null,
   "metadata": {},
   "outputs": [],
   "source": [
    "for i in range(10,0,-1):\n",
    "    print(i)"
   ]
  },
  {
   "cell_type": "code",
   "execution_count": null,
   "metadata": {},
   "outputs": [],
   "source": [
    "n = 3\n",
    "fact = 1\n",
    "for i in range(1,n+1):\n",
    "    fact = fact * i\n",
    "print(f'Factorial is {fact}')"
   ]
  },
  {
   "cell_type": "code",
   "execution_count": null,
   "metadata": {},
   "outputs": [],
   "source": [
    "5\n",
    "1+2+3+4+5"
   ]
  },
  {
   "cell_type": "code",
   "execution_count": null,
   "metadata": {},
   "outputs": [],
   "source": [
    "n = 5\n",
    "add = 0\n",
    "for i in range (1,n+1):\n",
    "    add = add+i\n",
    "print(f\"Addition is {add}\")"
   ]
  },
  {
   "cell_type": "code",
   "execution_count": null,
   "metadata": {},
   "outputs": [],
   "source": [
    "n = 5\n",
    "i = 1\n",
    "add = 0\n",
    "while i <= n:\n",
    "    add = add+i\n",
    "    i+=1\n",
    "print(f\"Addition is {add}\")        "
   ]
  },
  {
   "cell_type": "code",
   "execution_count": null,
   "metadata": {},
   "outputs": [],
   "source": [
    "n"
   ]
  },
  {
   "cell_type": "code",
   "execution_count": null,
   "metadata": {},
   "outputs": [],
   "source": [
    "n = int(input('Enter number\\n'))\n",
    "print(f'Addition is {n*(n+1)/2}')"
   ]
  },
  {
   "cell_type": "code",
   "execution_count": null,
   "metadata": {},
   "outputs": [],
   "source": [
    "n = 7\n",
    "k = 0\n",
    "for i in range(2,n//2+1):\n",
    "    if n % i == 0:\n",
    "        k = 1\n",
    "        break\n",
    "if k == 0:\n",
    "    print('number is prime')\n",
    "else:\n",
    "    print('number is not prime')     "
   ]
  },
  {
   "cell_type": "code",
   "execution_count": null,
   "metadata": {},
   "outputs": [],
   "source": [
    "s = 'sachin'\n",
    "print(s[::-1])"
   ]
  },
  {
   "cell_type": "code",
   "execution_count": null,
   "metadata": {},
   "outputs": [],
   "source": [
    "n = 'sachin'\n",
    "for i in range(len(n)-1,-1,-1):\n",
    "    #print(i)\n",
    "    print(n[i],end='')"
   ]
  },
  {
   "cell_type": "code",
   "execution_count": null,
   "metadata": {},
   "outputs": [],
   "source": [
    "n = 'sachin'\n",
    "rev = ''\n",
    "for i in n:\n",
    "    rev =  i + rev\n",
    "print (rev)"
   ]
  },
  {
   "cell_type": "code",
   "execution_count": null,
   "metadata": {
    "scrolled": true
   },
   "outputs": [],
   "source": [
    "s1 = \"sun\"\n",
    "s2 = \"bright\"\n",
    "s3 = f\"{s1} shines very {s2}\"\n",
    "s3 = s3.replace(\"sun\",\"The sun\")\n",
    "s3 = s3.replace('very','')\n",
    "print(s3)\n"
   ]
  },
  {
   "cell_type": "code",
   "execution_count": null,
   "metadata": {},
   "outputs": [],
   "source": [
    "def print_hello(name):\n",
    "    print(f\"Hello {name} from a function\")\n",
    "    \n",
    "print_hello('Sachin')\n",
    "print_hello('Manish')"
   ]
  },
  {
   "cell_type": "code",
   "execution_count": null,
   "metadata": {},
   "outputs": [],
   "source": [
    "a = 5\n",
    "b = 2\n",
    "c = a+b\n",
    "print(c)"
   ]
  },
  {
   "cell_type": "code",
   "execution_count": null,
   "metadata": {
    "scrolled": true
   },
   "outputs": [],
   "source": [
    "def addition(a,b):\n",
    "    c = a+b\n",
    "    print(c)\n",
    "addition(5,2)  "
   ]
  },
  {
   "cell_type": "code",
   "execution_count": null,
   "metadata": {
    "scrolled": true
   },
   "outputs": [],
   "source": [
    "def addition(a,b):\n",
    "    return a+b\n",
    "print(addition(5,2))"
   ]
  },
  {
   "cell_type": "code",
   "execution_count": null,
   "metadata": {},
   "outputs": [],
   "source": [
    "def name(fname,lname): \n",
    "    print(f'I am {fname} {lname}')\n",
    "name('Manish','Yadav')"
   ]
  },
  {
   "cell_type": "code",
   "execution_count": null,
   "metadata": {},
   "outputs": [],
   "source": [
    "def name(fname,lname): \n",
    "    return fname,lname\n",
    "print(name('Manish','Yadav'))"
   ]
  },
  {
   "cell_type": "code",
   "execution_count": null,
   "metadata": {
    "scrolled": true
   },
   "outputs": [],
   "source": [
    "def name(name):\n",
    "    print('My name is',name)\n",
    "name('Sachin')"
   ]
  },
  {
   "cell_type": "code",
   "execution_count": null,
   "metadata": {
    "scrolled": true
   },
   "outputs": [],
   "source": [
    "def name(*name):\n",
    "    print('Names: ',name)\n",
    "name('Sachin','Manish','Priya')"
   ]
  },
  {
   "cell_type": "code",
   "execution_count": null,
   "metadata": {},
   "outputs": [],
   "source": [
    "def child(child2,child1):\n",
    "    print('The youngest child is',child1)\n",
    "child(child1 = 'manish',child2 = 'sachin')"
   ]
  },
  {
   "cell_type": "code",
   "execution_count": null,
   "metadata": {},
   "outputs": [],
   "source": [
    "def children(**child):\n",
    "    print('The youngest child is',child['child1'])\n",
    "children(child1 = 'manish',child2 = 'sachin',child3 = 'Priya')"
   ]
  },
  {
   "cell_type": "code",
   "execution_count": null,
   "metadata": {},
   "outputs": [],
   "source": [
    "def country(country_name='India'):\n",
    "    print('the country is',country_name)\n",
    "country('US')"
   ]
  },
  {
   "cell_type": "code",
   "execution_count": null,
   "metadata": {},
   "outputs": [],
   "source": [
    "def my_function(food):\n",
    "  for x in food:\n",
    "    print(x)\n",
    "\n",
    "fruits = [\"apple\", \"banana\", \"cherry\"]\n",
    "\n",
    "my_function(fruits)\n",
    "my_function(['orange','watermelon'])"
   ]
  },
  {
   "cell_type": "code",
   "execution_count": null,
   "metadata": {},
   "outputs": [],
   "source": [
    "x = 200\n",
    "def myfunc():\n",
    "  x = 300\n",
    "  print(x)\n",
    "\n",
    "myfunc()\n",
    "print(x)"
   ]
  },
  {
   "cell_type": "code",
   "execution_count": null,
   "metadata": {},
   "outputs": [],
   "source": [
    "x = 300\n",
    "\n",
    "def myfunc():\n",
    "  print(x)\n",
    "\n",
    "myfunc()\n",
    "\n",
    "print(x)"
   ]
  },
  {
   "cell_type": "code",
   "execution_count": null,
   "metadata": {},
   "outputs": [],
   "source": [
    "a=5\n",
    "b=5\n",
    "c=a+b\n",
    "try:\n",
    "    print(z)\n",
    "except:\n",
    "    print(\"An exception occurred\")\n",
    "print(c)"
   ]
  },
  {
   "cell_type": "code",
   "execution_count": null,
   "metadata": {},
   "outputs": [],
   "source": [
    "f = open('hello.txt','w')\n",
    "f.write('hello sachin\\n')\n",
    "f.close()"
   ]
  },
  {
   "cell_type": "code",
   "execution_count": null,
   "metadata": {},
   "outputs": [],
   "source": [
    "f = open('hello.txt','r')\n",
    "data = f.read()\n",
    "f.close()\n",
    "print(data)"
   ]
  },
  {
   "cell_type": "code",
   "execution_count": null,
   "metadata": {},
   "outputs": [],
   "source": [
    "f = open('hello.txt','a')\n",
    "f.write('hello manish')\n",
    "f.close()"
   ]
  },
  {
   "cell_type": "code",
   "execution_count": null,
   "metadata": {},
   "outputs": [],
   "source": [
    "import os\n",
    "if not os.path.exists(r'F:\\Python Practice\\hello.txt'):\n",
    "    f = open('hello.txt','a')\n",
    "    f.write('hello Priya')\n",
    "    f.close()"
   ]
  },
  {
   "cell_type": "code",
   "execution_count": null,
   "metadata": {},
   "outputs": [],
   "source": [
    "file_name = 'hi.txt'\n",
    "with open(file_name,'w') as f:\n",
    "    f.write('hi sachin\\n')\n"
   ]
  },
  {
   "cell_type": "code",
   "execution_count": null,
   "metadata": {},
   "outputs": [],
   "source": [
    "a = open('myfile.txt','w')\n",
    "a.write('first hello\\n')\n",
    "a.close()"
   ]
  },
  {
   "cell_type": "code",
   "execution_count": null,
   "metadata": {},
   "outputs": [],
   "source": [
    "a = open('myfile.txt',\"r\")\n",
    "print(a.read())\n",
    "a.close()\n"
   ]
  },
  {
   "cell_type": "code",
   "execution_count": null,
   "metadata": {},
   "outputs": [],
   "source": [
    "a = open('myfile.txt',\"a\")\n",
    "a.write('my name is khan')\n",
    "a.close()"
   ]
  },
  {
   "cell_type": "code",
   "execution_count": null,
   "metadata": {},
   "outputs": [],
   "source": [
    "with open('newfile.txt','w') as a:\n",
    "        a.write('New file hai\\n')\n",
    "    \n",
    "\n"
   ]
  },
  {
   "cell_type": "code",
   "execution_count": null,
   "metadata": {},
   "outputs": [],
   "source": [
    "with open('newfile.txt','r') as a:\n",
    "        print(a.read())"
   ]
  },
  {
   "cell_type": "code",
   "execution_count": null,
   "metadata": {},
   "outputs": [],
   "source": [
    "with open('newfile.txt','a') as a:\n",
    "    a.write('net chal raha hai')\n"
   ]
  },
  {
   "cell_type": "code",
   "execution_count": null,
   "metadata": {},
   "outputs": [],
   "source": [
    "os.remove('newfile.txt')"
   ]
  },
  {
   "cell_type": "code",
   "execution_count": null,
   "metadata": {},
   "outputs": [],
   "source": [
    "os.mkdir(\"blank\")"
   ]
  },
  {
   "cell_type": "code",
   "execution_count": null,
   "metadata": {},
   "outputs": [],
   "source": [
    "os.rmdir(\"blank\")"
   ]
  },
  {
   "cell_type": "code",
   "execution_count": null,
   "metadata": {},
   "outputs": [],
   "source": [
    "with open(r'F:\\Python Practice\\blank\\a.txt',\"w\") as f:\n",
    "    f.write(\"i am manish\")"
   ]
  },
  {
   "cell_type": "code",
   "execution_count": null,
   "metadata": {},
   "outputs": [],
   "source": [
    "import shutil\n",
    "dir_path = r'F:\\Python Practice\\blank'\n",
    "#shutil.rmtree(dir_path)"
   ]
  },
  {
   "cell_type": "code",
   "execution_count": null,
   "metadata": {},
   "outputs": [],
   "source": [
    "s = input()\n",
    "if s == s[::-1]:\n",
    "    print(\"YES\")\n",
    "else:\n",
    "    print(\"NO\")"
   ]
  },
  {
   "cell_type": "code",
   "execution_count": null,
   "metadata": {},
   "outputs": [],
   "source": []
  },
  {
   "cell_type": "code",
   "execution_count": null,
   "metadata": {},
   "outputs": [],
   "source": [
    "\n",
    "s = '''<blockquote><p>1. All-day \n",
    "</p><p>is not the same, you need to wait and be patient for the good things to happen.</p>'''\n",
    "s2 = 'My name is Sachin. Sachin sachin'\n",
    "quote = re.search('<p>(.*?)</p>',s,re.S).group(1)\n",
    "sachin_list = re.findall('sachin',s2)\n"
   ]
  },
  {
   "cell_type": "code",
   "execution_count": null,
   "metadata": {},
   "outputs": [],
   "source": [
    "import pandas as pd\n",
    "import re\n",
    "import urllib\n",
    "import os\n",
    "\n",
    "site='quoteshacks'\n",
    "if not os.path.exists(site):\n",
    "    os.mkdir(site)\n",
    "\n",
    "#function\n",
    "def fetch_and_save(url,filename):\n",
    "    if os.path.exists(filename):\n",
    "        #print('File exists {}'.format(filename))\n",
    "        pass\n",
    "    else:\n",
    "        req=urllib.request.Request(\n",
    "                url,\n",
    "                data=None,\n",
    "                headers={\n",
    "                    'User-Agent':'Mozilla/5.0 (X11; Linux x86_64) AppleWebKit/537.36 (KHTML, like Gecko) Chrome/76.0.3809.100 Safari/537.36'\n",
    "                       }\n",
    "        )\n",
    "        f=urllib.request.urlopen(req)\n",
    "        source=f.read()\n",
    "        with open(filename,'wb') as f:\n",
    "            f.write(source)\n",
    "\n",
    "url='https://www.quoteshacks.com/sad-quotes/'\n",
    "filename=f'{site}/{site}.html'\n",
    "fetch_and_save(url,filename)\n",
    "\n",
    "with open (filename,'r') as f:\n",
    "    content = f.read()\n",
    "content = content.replace(r'&#8217;','\\'')\n",
    "    \n",
    "quoteshacks_quote_list = re.findall('<blockquote>\\s*<p>\\d+\\.\\s+(.*?)<',content,re.S)\n",
    "#print(quoteshacks_quote_list)\n",
    "df = pd.DataFrame(quoteshacks_quote_list,columns = ['Best Sad Quotes'])\n",
    "df.to_excel(f'{site}.xlsx')"
   ]
  },
  {
   "cell_type": "code",
   "execution_count": null,
   "metadata": {},
   "outputs": [],
   "source": [
    "import pandas as pd\n",
    "import re\n",
    "import urllib\n",
    "import os\n",
    "import codecs\n",
    "site='wisdomquotes'\n",
    "if not os.path.exists(site):\n",
    "    os.mkdir(site)\n",
    "\n",
    "#function\n",
    "def fetch_and_save(url,filename):\n",
    "    if os.path.exists(filename):\n",
    "        #print('File exists {}'.format(filename))\n",
    "        pass\n",
    "    else:\n",
    "        req=urllib.request.Request(\n",
    "                url,\n",
    "                data=None,\n",
    "                headers={\n",
    "                    'User-Agent':'Mozilla/5.0 (X11; Linux x86_64) AppleWebKit/537.36 (KHTML, like Gecko) Chrome/76.0.3809.100 Safari/537.36'\n",
    "                       }\n",
    "        )\n",
    "        f=urllib.request.urlopen(req)\n",
    "        source=f.read()\n",
    "        with open(filename,'wb') as f:\n",
    "            f.write(source)\n",
    "\n",
    "url='https://wisdomquotes.com/sad-quotes/'\n",
    "filename=f'{site}/{site}.html'\n",
    "fetch_and_save(url,filename)\n",
    "with codecs.open(filename,'r','utf-8',errors='ignore') as f:\n",
    "    data = f.read()\n",
    "data = data.replace(r'&#8217;','\\'')\n",
    "data = data.replace(r'&#8211;','-')\n",
    "wisdomquotes_list = re.findall(\"<blockquote>\\s*<p>(.*?)<\",data,re.S)\n",
    "\n",
    "quote_list = []\n",
    "for quote in wisdomquotes_list:\n",
    "        author = re.search('.*\\.(.*)',quote)\n",
    "        if author :\n",
    "            quote = quote.replace(author.group(1),'')\n",
    "        quote_list.append(quote)\n",
    "#print(quote_list)\n",
    "df = pd.DataFrame(quote_list,columns = ['300 Sad Quotes'])\n",
    "df.to_excel(f'{site}.xlsx')\n",
    "len(df)"
   ]
  },
  {
   "cell_type": "code",
   "execution_count": null,
   "metadata": {},
   "outputs": [],
   "source": [
    "import re\n",
    "\n",
    "#Search for an upper case \"S\" character in the beginning of a word, and print the word:\n",
    "\n",
    "txt = \"Search for an upper jjjjjjjjjjjjjjjjjjjjjjjjjjjjjjjjjjjjjjjjjjjjjcase character in the beginning\"\n"
   ]
  },
  {
   "cell_type": "code",
   "execution_count": null,
   "metadata": {},
   "outputs": [],
   "source": [
    "li = [1,2,3,4,5,6,7,8,9,10]\n",
    "li2 = []\n",
    "for number in li:\n",
    "    if number%2==0:\n",
    "        li2.append(number)\n",
    "print(li2)   \n",
    "\n",
    "#filter(lambda variable:condition,name of the iterator)\n",
    "li = list(filter(lambda number:number%2==0,li))"
   ]
  },
  {
   "cell_type": "code",
   "execution_count": null,
   "metadata": {},
   "outputs": [],
   "source": [
    "li = [1,2,3,4,5,6,7,8,9,10]\n",
    "li3 = [4,3,2,1]\n",
    "\n",
    "        \n",
    "def common_elements(l1,l2):\n",
    "    common_list = []\n",
    "    #find smallest list\n",
    "    if len(l1)<len(l2):\n",
    "        small_list = l1\n",
    "        big_list = l2\n",
    "    else:\n",
    "        small_list = l2\n",
    "        big_list = l1 \n",
    "        \n",
    "    for number in small_list:\n",
    "        if number in big_list:\n",
    "            common_list.append(number)\n",
    "    return common_list\n",
    "\n",
    "common_elements([1,5,7,8,6,7],[1,2,3,5,7])"
   ]
  },
  {
   "cell_type": "code",
   "execution_count": null,
   "metadata": {},
   "outputs": [],
   "source": [
    "li = [1,2,3,4,5,6,7,8,9,10]\n",
    "li3 = [4,11,20,1,]\n",
    "li3 = list(filter(lambda number:number in li,li3))\n",
    "li3"
   ]
  },
  {
   "cell_type": "code",
   "execution_count": null,
   "metadata": {},
   "outputs": [],
   "source": [
    "#['1','2','3']\n",
    "li = [1,2,3,4,5]\n",
    "li2 = []\n",
    "#num = 1\n",
    "#num = str(num)\n",
    "for i in li:\n",
    "    i = str(i)\n",
    "    li2.append(i)\n",
    "print(li2)"
   ]
  },
  {
   "cell_type": "code",
   "execution_count": null,
   "metadata": {},
   "outputs": [],
   "source": [
    "li = list(map(str,li))\n",
    "li"
   ]
  },
  {
   "cell_type": "code",
   "execution_count": null,
   "metadata": {},
   "outputs": [],
   "source": [
    "li = [1,2,3]\n",
    "li = list(map(lambda x:x*2,li))\n",
    "li"
   ]
  },
  {
   "cell_type": "code",
   "execution_count": null,
   "metadata": {},
   "outputs": [],
   "source": [
    "def number(n):\n",
    "    return 2*n\n",
    "number(5)"
   ]
  },
  {
   "cell_type": "code",
   "execution_count": null,
   "metadata": {},
   "outputs": [],
   "source": [
    "li = [1,2,3]\n",
    "li = list(map(lambda x:number(x),li))\n",
    "li"
   ]
  },
  {
   "cell_type": "code",
   "execution_count": null,
   "metadata": {},
   "outputs": [],
   "source": [
    "li = [1,2,3]\n",
    "mult = 1\n",
    "for i in li:\n",
    "    mult = mult*i\n",
    "print(mult)\n",
    "    "
   ]
  },
  {
   "cell_type": "code",
   "execution_count": null,
   "metadata": {},
   "outputs": [],
   "source": [
    "li = [1,2,3]\n",
    "mult=1\n",
    "for i in range(len(li)):\n",
    "    mult=mult*li[i]\n",
    "print(mult)"
   ]
  },
  {
   "cell_type": "code",
   "execution_count": null,
   "metadata": {},
   "outputs": [],
   "source": [
    "from functools import reduce\n",
    "li = [1,2,3]\n",
    "mult = reduce(lambda x,y:x*y,li)\n",
    "mult"
   ]
  },
  {
   "cell_type": "code",
   "execution_count": null,
   "metadata": {},
   "outputs": [],
   "source": [
    "li = ['manish','priya','manish','sachin']\n",
    "li.count('manish')"
   ]
  },
  {
   "cell_type": "code",
   "execution_count": null,
   "metadata": {},
   "outputs": [],
   "source": [
    "li = [2,3,5,9,7,50,15,45]\n",
    "max(li)"
   ]
  },
  {
   "cell_type": "code",
   "execution_count": null,
   "metadata": {},
   "outputs": [],
   "source": [
    "li = ['manish','priya','manish','sachin']\n",
    "li = list(set(li))"
   ]
  },
  {
   "cell_type": "code",
   "execution_count": null,
   "metadata": {},
   "outputs": [],
   "source": [
    "li = ['manish','priya','manish','sachin']\n",
    "li2 = []\n",
    "for name in li:\n",
    "    if name not in li2:\n",
    "        li2.append(name)\n",
    "print(li2)"
   ]
  },
  {
   "cell_type": "code",
   "execution_count": null,
   "metadata": {},
   "outputs": [],
   "source": [
    "list1=['sachin','komal','priya','hemu','nitu','kajal','shreya','prerna','pammi','achal']\n",
    "school1=['sachin','komal']\n",
    "school2=['priya','hemu','nitu','shreya']\n",
    "school3=[]\n",
    "for student in list1:\n",
    "    if student not in school1 and student not in school2:\n",
    "        school3.append(student)\n",
    "print(school3)"
   ]
  },
  {
   "cell_type": "code",
   "execution_count": null,
   "metadata": {},
   "outputs": [],
   "source": [
    "list1=['sachin','komal','priya','hemu','nitu','kajal','shreya','prerna','pammi','achal']\n",
    "school1=['sachin','komal']\n",
    "school2=['priya','hemu','nitu','shreya']\n",
    "school3 = []\n",
    "for names in list1:\n",
    "    if names not in school1 and names not in school2:\n",
    "        school3.append(names)\n",
    "print(school3)"
   ]
  },
  {
   "cell_type": "code",
   "execution_count": null,
   "metadata": {},
   "outputs": [],
   "source": [
    "list1=['sachin','komal','priya','hemu','nitu','kajal','shreya','prerna','pammi','achal']\n",
    "school1=['sachin','komal']\n",
    "school2=['priya','hemu','nitu','shreya']\n",
    "school3 = list(filter(lambda names:names not in school1 and names not in school2,list1))\n",
    "school3"
   ]
  },
  {
   "cell_type": "markdown",
   "metadata": {},
   "source": [
    "#a 2 b1 c3"
   ]
  },
  {
   "cell_type": "code",
   "execution_count": null,
   "metadata": {},
   "outputs": [],
   "source": [
    "s='abaccc'\n",
    "for i in sorted(set(s)):\n",
    "    print(i, s.count(i),end = ' ')  "
   ]
  },
  {
   "cell_type": "code",
   "execution_count": null,
   "metadata": {},
   "outputs": [],
   "source": [
    "s = 'abaccc'\n",
    "check = ''\n",
    "for i in s:\n",
    "    if i not in check:\n",
    "        check+=i\n",
    "        print(i,s.count(i))"
   ]
  },
  {
   "cell_type": "code",
   "execution_count": null,
   "metadata": {},
   "outputs": [],
   "source": [
    "s = 'manEish'\n",
    "for i in s:\n",
    "    if i not in 'AEIOUaeiou':\n",
    "        print(i,end = '')"
   ]
  },
  {
   "cell_type": "code",
   "execution_count": null,
   "metadata": {},
   "outputs": [],
   "source": [
    "s = 'manEish'\n",
    "s = ''.join(filter(lambda x:x not in 'AEIOUaeiou',s))\n",
    "s"
   ]
  },
  {
   "cell_type": "code",
   "execution_count": null,
   "metadata": {},
   "outputs": [],
   "source": [
    "n1 = 81\n",
    "n2 = 27\n",
    "if n1 < n2:\n",
    "    small = n1\n",
    "else:\n",
    "    small = n2\n",
    "for i in range(2,small+1):\n",
    "    if n1%i == 0 and n2%i ==0:\n",
    "        gcd = i\n",
    "print(gcd)"
   ]
  },
  {
   "cell_type": "code",
   "execution_count": null,
   "metadata": {},
   "outputs": [],
   "source": [
    "#5479 9745\n",
    "n = 5479\n",
    "reverse = 0\n",
    "while n>0:\n",
    "    x = n%10\n",
    "    reverse = (reverse*10)+x\n",
    "    n=n//10\n",
    "print(reverse)"
   ]
  },
  {
   "cell_type": "markdown",
   "metadata": {},
   "source": [
    "n = 5\n",
    "1\n",
    "12\n",
    "123\n",
    "1234\n",
    "12345"
   ]
  },
  {
   "cell_type": "code",
   "execution_count": null,
   "metadata": {},
   "outputs": [],
   "source": [
    "n = 5\n",
    "pattern = ''\n",
    "for i in range(1,n+1):\n",
    "    pattern = str(pattern) + str (i)\n",
    "    print(pattern)"
   ]
  },
  {
   "cell_type": "code",
   "execution_count": null,
   "metadata": {},
   "outputs": [],
   "source": [
    "n = 5\n",
    "star = '*'\n",
    "for i in range(1,n+1):\n",
    "    print(star*i)"
   ]
  },
  {
   "cell_type": "code",
   "execution_count": null,
   "metadata": {},
   "outputs": [],
   "source": [
    "n=5\n",
    "for i in range(1,n+1):\n",
    "    print(i*\"*\")"
   ]
  },
  {
   "cell_type": "code",
   "execution_count": null,
   "metadata": {},
   "outputs": [],
   "source": [
    "n=5\n",
    "pattern=\" \"\n",
    "for i in range(1,n+1):\n",
    "    pattern=str(pattern)+str(i)\n",
    "    print(pattern)\n"
   ]
  },
  {
   "cell_type": "code",
   "execution_count": null,
   "metadata": {},
   "outputs": [],
   "source": [
    "s='abaccc'\n",
    "us=sorted(set(s))\n",
    "for i in us:\n",
    "    print(i,s.count(i),end=' ')"
   ]
  },
  {
   "cell_type": "code",
   "execution_count": null,
   "metadata": {},
   "outputs": [],
   "source": [
    "class employee:\n",
    "    def __init__(self,name,id):\n",
    "        self.id = id\n",
    "        self.name = name\n",
    "        \n",
    "    def print_employee_details(self):\n",
    "        print(f'Employee name is {self.name} and Id is {self.id}.')\n",
    "        \n",
    "emp = employee('Sachin',76842)\n",
    "emp.print_employee_details()\n",
    "\n",
    "emp2 = employee('Manish',123)\n",
    "emp2.print_employee_details()"
   ]
  },
  {
   "cell_type": "code",
   "execution_count": null,
   "metadata": {},
   "outputs": [],
   "source": [
    "class student:\n",
    "    def __init__(self,name,rollno):\n",
    "        self.name = name\n",
    "        self.rollno = rollno\n",
    "    \n",
    "    def students_details(self):\n",
    "        print(f'Student name is {self.name} and Rollno is {self.rollno}')\n",
    "        \n",
    "stud = student('Manish',11)\n",
    "stud.students_details()\n",
    "\n",
    "man = student('Ravi',56)\n",
    "man.students_details()"
   ]
  },
  {
   "cell_type": "code",
   "execution_count": 13,
   "metadata": {},
   "outputs": [
    {
     "name": "stdout",
     "output_type": "stream",
     "text": [
      "******\n",
      "*****\n",
      "****\n",
      "***\n",
      "**\n",
      "*\n"
     ]
    }
   ],
   "source": [
    "n = 6\n",
    "for i in range(n,0,-1):\n",
    "    print(i*'*')"
   ]
  },
  {
   "cell_type": "code",
   "execution_count": 11,
   "metadata": {},
   "outputs": [
    {
     "name": "stdout",
     "output_type": "stream",
     "text": [
      "      *\n",
      "     * *\n",
      "    * * *\n",
      "   * * * *\n",
      "  * * * * *\n"
     ]
    }
   ],
   "source": [
    "n = 5\n",
    "for i in range(1,n+1):\n",
    "    print(n*' '+i*' *')\n",
    "    n-=1"
   ]
  },
  {
   "cell_type": "code",
   "execution_count": 2,
   "metadata": {},
   "outputs": [
    {
     "name": "stdout",
     "output_type": "stream",
     "text": [
      "5\n",
      "54\n",
      "543\n",
      "5432\n",
      "54321\n"
     ]
    }
   ],
   "source": [
    "n = 5\n",
    "pattern = \"\"\n",
    "for i in range(n,0,-1):\n",
    "    pattern = str(pattern) + str(i)\n",
    "    print(pattern)"
   ]
  },
  {
   "cell_type": "code",
   "execution_count": null,
   "metadata": {},
   "outputs": [],
   "source": [
    "'''54321\n",
    "4321\n",
    "321\n",
    "21\n",
    "1'''\n",
    "\n",
    "n = 5\n",
    "n = list(range(n,0,-1))\n",
    "n = list(map(str,n))\n",
    "n = ''.join(n)\n",
    "for i in range(len(n)):\n",
    "    print(n[i:])"
   ]
  },
  {
   "cell_type": "markdown",
   "metadata": {},
   "source": [
    " 1\n",
    " 12\n",
    " 123\n",
    " 1234\n",
    " 12345"
   ]
  },
  {
   "cell_type": "code",
   "execution_count": 1,
   "metadata": {},
   "outputs": [
    {
     "name": "stdout",
     "output_type": "stream",
     "text": [
      "1\n",
      "12\n",
      "123\n",
      "1234\n",
      "12345\n"
     ]
    }
   ],
   "source": [
    "n = 5\n",
    "pattern = 0\n",
    "for i in range(1,n+1):\n",
    "    pattern = pattern*10 + i\n",
    "    print(pattern)"
   ]
  },
  {
   "cell_type": "code",
   "execution_count": null,
   "metadata": {},
   "outputs": [],
   "source": [
    "n = 5\n",
    "for i in range(1,n+1):\n",
    "    for j in range(1,i+1):\n",
    "        print(j,end=' ')\n",
    "    print()"
   ]
  },
  {
   "cell_type": "code",
   "execution_count": null,
   "metadata": {},
   "outputs": [],
   "source": [
    "n = 16\n",
    "square_root = n**(1/2)\n",
    "print(square_root)"
   ]
  },
  {
   "cell_type": "code",
   "execution_count": null,
   "metadata": {},
   "outputs": [],
   "source": [
    "i = 10/7\n",
    "i"
   ]
  },
  {
   "cell_type": "code",
   "execution_count": null,
   "metadata": {},
   "outputs": [],
   "source": [
    "i = round(i,4)\n",
    "i"
   ]
  },
  {
   "cell_type": "code",
   "execution_count": null,
   "metadata": {},
   "outputs": [],
   "source": [
    "class student:\n",
    "    def __init__(self,name,age):\n",
    "        self.name = name\n",
    "        self.age = age\n",
    "    def check_eligibility(self):\n",
    "        if self.age >= 18:\n",
    "            print(self.name + ' is eligible to vote')\n",
    "        else:\n",
    "            print(self.name + ' is not eligible to vote')\n",
    "stud = student(\"Manish\",20)\n",
    "stud.check_eligibility()"
   ]
  },
  {
   "cell_type": "code",
   "execution_count": null,
   "metadata": {},
   "outputs": [],
   "source": [
    "a = [2,22,222,'as2d','z22','2']\n",
    "a = list(map(str,a))\n",
    "a = ''.join(a)\n",
    "cnt = 0\n",
    "for i in a:\n",
    "    if i == \"2\":\n",
    "        cnt+=1\n",
    "print(cnt)"
   ]
  },
  {
   "cell_type": "code",
   "execution_count": null,
   "metadata": {},
   "outputs": [],
   "source": [
    "inp = [2,22,222,'as2d','z22','2']\n",
    "inp = list(map(str,inp))\n",
    "print(inp)\n",
    "inp = ''.join(inp)\n",
    "print(inp)\n",
    "print(len(inp)-len(inp.replace(\"2\",\"\")))"
   ]
  },
  {
   "cell_type": "code",
   "execution_count": null,
   "metadata": {},
   "outputs": [],
   "source": [
    "import re\n",
    "a = [2,22,222,'as2d','z22','2']\n",
    "print(len(re.findall('2',''.join(list(map(str,a))))))"
   ]
  },
  {
   "cell_type": "code",
   "execution_count": null,
   "metadata": {},
   "outputs": [],
   "source": [
    "a = [2,22,222,'as2d','z22','2']\n",
    "a = list(map(str,a))\n",
    "a = ''.join(a)\n",
    "print(a)\n",
    "b = a.split(\"2\")"
   ]
  },
  {
   "cell_type": "code",
   "execution_count": null,
   "metadata": {},
   "outputs": [],
   "source": [
    "li=[23,10,18,51,5,13,31,54,48,62,29,8,37,6666666]\n",
    "buckets = [[] for _ in range(10)]\n",
    "len_max = len(str(max(li)))\n",
    "li = list(map(str,li))\n",
    "li = list(map(lambda x: x.zfill(len_max),li))\n",
    "print(li)\n",
    "for tense in range(-1,-len_max-1,-1):\n",
    "    buckets = [[] for _ in range(10)]\n",
    "    for i in range(len(li)):\n",
    "        buckets[int(li[i][tense])].append(li[i])\n",
    "    li.clear()\n",
    "    for k in buckets:\n",
    "            for l in k:\n",
    "                li.append(l) \n",
    "print(li)"
   ]
  },
  {
   "cell_type": "code",
   "execution_count": null,
   "metadata": {},
   "outputs": [],
   "source": [
    "li=[23,10,18,51,5,13,31,54,48,62,29,8,37]\n",
    "buckets = [[] for _ in range(10)]\n",
    "len_max = len(str(max(li)))\n",
    "li = list(map(str,li))\n",
    "li = list(map(lambda x: x.zfill(len_max),li))\n",
    "print(li)\n",
    "buckets[(int(li[0][-1]))]\n"
   ]
  },
  {
   "cell_type": "code",
   "execution_count": null,
   "metadata": {},
   "outputs": [],
   "source": [
    "int(li[0][-1])"
   ]
  },
  {
   "cell_type": "code",
   "execution_count": null,
   "metadata": {},
   "outputs": [],
   "source": [
    "class human:\n",
    "    def __init__(self,name,height):\n",
    "        self.name = name\n",
    "        self.height = height\n",
    "    def human_baby(self):\n",
    "        print('My name is',self.name ,'i am',self.height,'tall')\n",
    "humn = human('Priya',5)\n",
    "humn.human_baby()\n",
    "\n",
    "class animal(human):\n",
    "    \n"
   ]
  },
  {
   "cell_type": "code",
   "execution_count": null,
   "metadata": {},
   "outputs": [],
   "source": [
    "def other_func():\n",
    "    print('Hello World!')\n",
    "other_func()"
   ]
  },
  {
   "cell_type": "code",
   "execution_count": null,
   "metadata": {},
   "outputs": [],
   "source": [
    "list(range(10,100,10))"
   ]
  },
  {
   "cell_type": "code",
   "execution_count": null,
   "metadata": {},
   "outputs": [],
   "source": [
    "class it:\n",
    "    def __init__(self):\n",
    "        self.cnt = 1\n",
    "    def __iter__(self):\n",
    "        return self\n",
    "    def __next__(self):\n",
    "        val = self.cnt\n",
    "        if self.cnt <= 5:\n",
    "            self.cnt+=1\n",
    "            return val\n",
    "        raise StopIteration\n",
    "i = it()\n",
    "for j in i:\n",
    "    print(j)"
   ]
  },
  {
   "cell_type": "code",
   "execution_count": 7,
   "metadata": {},
   "outputs": [
    {
     "name": "stdout",
     "output_type": "stream",
     "text": [
      "***********\n",
      "Hi sir\n",
      "+++++++++++\n"
     ]
    }
   ],
   "source": [
    "def myfunc(func):\n",
    "    def wrap():\n",
    "        print(\"***********\")\n",
    "        func()\n",
    "        print(\"+++++++++++\")\n",
    "    return wrap\n",
    "\n",
    "@myfunc\n",
    "def other_func():\n",
    "    print(\"Hi sir\")\n",
    "other_func()"
   ]
  },
  {
   "cell_type": "code",
   "execution_count": 1,
   "metadata": {},
   "outputs": [
    {
     "data": {
      "text/plain": [
       "[0, 1, 2, 3, 4, 5, 6, 7, 8, 9]"
      ]
     },
     "execution_count": 1,
     "metadata": {},
     "output_type": "execute_result"
    }
   ],
   "source": [
    "def number(n):\n",
    "    for i in range(n):\n",
    "        yield i\n",
    "list(number(10))"
   ]
  },
  {
   "cell_type": "code",
   "execution_count": null,
   "metadata": {},
   "outputs": [],
   "source": [
    "li=[1,1,2,3,3,4,4,8,8]\n",
    "for i in li:\n",
    "    if li.count(i) == 1:\n",
    "        print(i)\n",
    "#count aisa element jo single time ho"
   ]
  },
  {
   "cell_type": "code",
   "execution_count": null,
   "metadata": {},
   "outputs": [],
   "source": [
    "tup=(\"hello\")\n",
    "print(tup)\n",
    "print(type(tup))"
   ]
  },
  {
   "cell_type": "code",
   "execution_count": null,
   "metadata": {},
   "outputs": [],
   "source": [
    "from gtts import gTTS\n",
    "import os\n",
    "mytext=\"hi priya how are you\"\n",
    "language=\"en\"\n",
    "output=gTTS(text=mytext,lang=language,slow=False)\n",
    "output.save(\"my.mp3\")\n",
    "os.system(\"start my.mp3\")"
   ]
  },
  {
   "cell_type": "code",
   "execution_count": 3,
   "metadata": {},
   "outputs": [
    {
     "name": "stdout",
     "output_type": "stream",
     "text": [
      "Factorial is 24\n"
     ]
    }
   ],
   "source": [
    "#factorial\n",
    "n = 4\n",
    "fact = 1\n",
    "for i in range(1,n+1):\n",
    "    fact = fact * i    \n",
    "print(f'Factorial is {fact}')"
   ]
  },
  {
   "cell_type": "code",
   "execution_count": null,
   "metadata": {},
   "outputs": [],
   "source": [
    "#prime number\n",
    "n=5\n",
    "k=0\n",
    "for i in range(2,n//2+1):\n",
    "    if n%i==0:\n",
    "        k=1\n",
    "        break\n",
    "if k==0:\n",
    "    print(\"numer is prime\")\n",
    "else:\n",
    "    print(\"number is not prime\")"
   ]
  },
  {
   "cell_type": "code",
   "execution_count": null,
   "metadata": {},
   "outputs": [],
   "source": [
    "#star pattern\n",
    "n=5\n",
    "for i in range(1,n+1):\n",
    "    print(\"*\"*i)"
   ]
  },
  {
   "cell_type": "code",
   "execution_count": null,
   "metadata": {},
   "outputs": [],
   "source": [
    "#number pattern\n",
    "n=5\n",
    "pattern=''\n",
    "for i in range(1,n+1):\n",
    "    pattern=str(pattern)+str(i)\n",
    "    print(pattern)"
   ]
  },
  {
   "cell_type": "code",
   "execution_count": null,
   "metadata": {},
   "outputs": [],
   "source": [
    "#remove duplicates from a string\n",
    "str=(\"priya\",\"priya\",\"sachin\")\n",
    "set(str)\n",
    "\n"
   ]
  },
  {
   "cell_type": "code",
   "execution_count": null,
   "metadata": {},
   "outputs": [],
   "source": [
    "#fibonacci series\n",
    "def fib(n):\n",
    "    a=0\n",
    "    b=1\n",
    "    c=0\n",
    "    for i in range(n):\n",
    "        print(a)\n",
    "        c=a+b  # 0+1 = 1  1+1 = 2\n",
    "        a=b  # 1          1\n",
    "        b=c  # 1          2 \n",
    "        \n",
    "fib(6)"
   ]
  },
  {
   "cell_type": "code",
   "execution_count": null,
   "metadata": {},
   "outputs": [],
   "source": [
    "#swapping\n",
    "a=5\n",
    "b=6\n",
    "temp=a\n",
    "a=b\n",
    "b=temp\n",
    "print(a)\n",
    "print(b)"
   ]
  },
  {
   "cell_type": "code",
   "execution_count": 5,
   "metadata": {},
   "outputs": [
    {
     "name": "stdout",
     "output_type": "stream",
     "text": [
      "6\n",
      "5\n"
     ]
    }
   ],
   "source": [
    "#swapping by using two variable\n",
    "a=5\n",
    "b=6\n",
    "a=a+b     #5+6=11 a=11\n",
    "b=a-b   #11-6=5   b=5\n",
    "a=a-b   #11-5=6   a=6\n",
    "print(a)\n",
    "print(b)\n"
   ]
  },
  {
   "cell_type": "code",
   "execution_count": null,
   "metadata": {},
   "outputs": [],
   "source": [
    "#reverse string\n",
    "s = 'priya'\n",
    "print(s[::-1])"
   ]
  },
  {
   "cell_type": "code",
   "execution_count": null,
   "metadata": {},
   "outputs": [],
   "source": [
    "n = 'priya'\n",
    "rev = ''\n",
    "for i in n:\n",
    "    rev =  i + rev\n",
    "print (rev)"
   ]
  },
  {
   "cell_type": "code",
   "execution_count": null,
   "metadata": {
    "scrolled": true
   },
   "outputs": [],
   "source": [
    "n = 8\n",
    "k = 0\n",
    "for i in range(2,n//2+1):\n",
    "    if n % i == 0:\n",
    "        k = 1\n",
    "        break\n",
    "if k == 0:\n",
    "    print('number is prime')\n",
    "else:\n",
    "    print('number is not prime')     "
   ]
  },
  {
   "cell_type": "code",
   "execution_count": 49,
   "metadata": {},
   "outputs": [
    {
     "data": {
      "text/plain": [
       "<function __main__.print.<locals>.message()>"
      ]
     },
     "execution_count": 49,
     "metadata": {},
     "output_type": "execute_result"
    }
   ],
   "source": [
    "def printl(name):\n",
    "    def message():\n",
    "        print(\"hey there\",name)\n",
    "    return message\n",
    "print(printl(\"hitesh\"))\n"
   ]
  },
  {
   "cell_type": "code",
   "execution_count": 51,
   "metadata": {},
   "outputs": [
    {
     "ename": "TypeError",
     "evalue": "print() takes 1 positional argument but 2 were given",
     "output_type": "error",
     "traceback": [
      "\u001b[1;31m---------------------------------------------------------------------------\u001b[0m",
      "\u001b[1;31mTypeError\u001b[0m                                 Traceback (most recent call last)",
      "\u001b[1;32m<ipython-input-51-e5ddfd282b8e>\u001b[0m in \u001b[0;36m<module>\u001b[1;34m\u001b[0m\n\u001b[0;32m      1\u001b[0m \u001b[1;32mdef\u001b[0m \u001b[0mmessage\u001b[0m\u001b[1;33m(\u001b[0m\u001b[0mname\u001b[0m\u001b[1;33m)\u001b[0m\u001b[1;33m:\u001b[0m\u001b[1;33m\u001b[0m\u001b[1;33m\u001b[0m\u001b[0m\n\u001b[0;32m      2\u001b[0m     \u001b[0mprint\u001b[0m\u001b[1;33m(\u001b[0m\u001b[1;34m\"hey there\"\u001b[0m\u001b[1;33m,\u001b[0m\u001b[0mname\u001b[0m\u001b[1;33m)\u001b[0m\u001b[1;33m\u001b[0m\u001b[1;33m\u001b[0m\u001b[0m\n\u001b[1;32m----> 3\u001b[1;33m \u001b[0mmessage\u001b[0m\u001b[1;33m(\u001b[0m\u001b[1;34m\"priya\"\u001b[0m\u001b[1;33m)\u001b[0m\u001b[1;33m\u001b[0m\u001b[1;33m\u001b[0m\u001b[0m\n\u001b[0m",
      "\u001b[1;32m<ipython-input-51-e5ddfd282b8e>\u001b[0m in \u001b[0;36mmessage\u001b[1;34m(name)\u001b[0m\n\u001b[0;32m      1\u001b[0m \u001b[1;32mdef\u001b[0m \u001b[0mmessage\u001b[0m\u001b[1;33m(\u001b[0m\u001b[0mname\u001b[0m\u001b[1;33m)\u001b[0m\u001b[1;33m:\u001b[0m\u001b[1;33m\u001b[0m\u001b[1;33m\u001b[0m\u001b[0m\n\u001b[1;32m----> 2\u001b[1;33m     \u001b[0mprint\u001b[0m\u001b[1;33m(\u001b[0m\u001b[1;34m\"hey there\"\u001b[0m\u001b[1;33m,\u001b[0m\u001b[0mname\u001b[0m\u001b[1;33m)\u001b[0m\u001b[1;33m\u001b[0m\u001b[1;33m\u001b[0m\u001b[0m\n\u001b[0m\u001b[0;32m      3\u001b[0m \u001b[0mmessage\u001b[0m\u001b[1;33m(\u001b[0m\u001b[1;34m\"priya\"\u001b[0m\u001b[1;33m)\u001b[0m\u001b[1;33m\u001b[0m\u001b[1;33m\u001b[0m\u001b[0m\n",
      "\u001b[1;31mTypeError\u001b[0m: print() takes 1 positional argument but 2 were given"
     ]
    }
   ],
   "source": [
    "def message(name):\n",
    "    print(\"hey there\",name)\n",
    "message(\"priya\")"
   ]
  },
  {
   "cell_type": "code",
   "execution_count": 46,
   "metadata": {},
   "outputs": [
    {
     "name": "stdout",
     "output_type": "stream",
     "text": [
      "hey there priya\n"
     ]
    }
   ],
   "source": [
    "def message(name):\n",
    "    print(\"hey there\",name)\n",
    "message(\"priya\")"
   ]
  },
  {
   "cell_type": "code",
   "execution_count": 4,
   "metadata": {},
   "outputs": [
    {
     "name": "stdout",
     "output_type": "stream",
     "text": [
      "factorial is 120\n"
     ]
    }
   ],
   "source": [
    "#factorial\n",
    "n=5\n",
    "fact=1\n",
    "for i in range(1,n+1):\n",
    "    fact=fact*i\n",
    "print(\"factorial is\",fact)"
   ]
  },
  {
   "cell_type": "code",
   "execution_count": 7,
   "metadata": {},
   "outputs": [
    {
     "name": "stdout",
     "output_type": "stream",
     "text": [
      "3\n",
      "2\n"
     ]
    }
   ],
   "source": [
    "#swapping by using two variable\n",
    "a=2\n",
    "b=3\n",
    "a=a+b\n",
    "b=a-b\n",
    "a=a-b\n",
    "print(a)\n",
    "print(b)\n"
   ]
  },
  {
   "cell_type": "code",
   "execution_count": 16,
   "metadata": {},
   "outputs": [
    {
     "name": "stdout",
     "output_type": "stream",
     "text": [
      "******\n",
      "*****\n",
      "****\n",
      "***\n",
      "**\n",
      "*\n"
     ]
    }
   ],
   "source": [
    "n = 6\n",
    "for i in range(n,0,-1):\n",
    "    print(i*'*')"
   ]
  },
  {
   "cell_type": "code",
   "execution_count": 24,
   "metadata": {},
   "outputs": [
    {
     "name": "stdout",
     "output_type": "stream",
     "text": [
      "# # # # \n",
      "# # # # \n",
      "# # # # \n",
      "# # # # \n"
     ]
    }
   ],
   "source": [
    "for i in range(4):\n",
    "    for j in range(4):\n",
    "        print(\"#\",end=\" \")\n",
    "    print()"
   ]
  },
  {
   "cell_type": "code",
   "execution_count": 28,
   "metadata": {},
   "outputs": [
    {
     "name": "stdout",
     "output_type": "stream",
     "text": [
      "# \n",
      "# # \n",
      "# # # \n",
      "# # # # \n"
     ]
    }
   ],
   "source": [
    "for i in range(4):\n",
    "    for j in range(i+1):\n",
    "        print(\"#\",end=\" \")\n",
    "    print()"
   ]
  },
  {
   "cell_type": "code",
   "execution_count": 29,
   "metadata": {},
   "outputs": [
    {
     "name": "stdout",
     "output_type": "stream",
     "text": [
      "# # # # \n",
      "# # # \n",
      "# # \n",
      "# \n"
     ]
    }
   ],
   "source": [
    "for i in range(4):\n",
    "    for j in range(4-i):\n",
    "        print(\"#\",end=\" \")\n",
    "    print()"
   ]
  },
  {
   "cell_type": "markdown",
   "metadata": {},
   "source": [
    "## simple interest and compound interest"
   ]
  },
  {
   "cell_type": "code",
   "execution_count": 1,
   "metadata": {},
   "outputs": [
    {
     "name": "stdout",
     "output_type": "stream",
     "text": [
      "Enter the principal amount: 1000\n",
      "Enter the rate of interest: 10\n",
      "Enter the time: 2\n",
      "Simple interest is:  200.0\n",
      "Compound interest is:  210.00000000000023\n"
     ]
    }
   ],
   "source": [
    "# formula\n",
    "# simple interest = (p*r*t)/100\n",
    "# compound interest = p*(1+r/100)**t\n",
    "# p= principal amoount\n",
    "# r= ratebof interest\n",
    "# t=time\n",
    "# **= raise to the power\n",
    "\n",
    "p= float(input(\"Enter the principal amount: \"))\n",
    "r= float(input(\"Enter the rate of interest: \"))\n",
    "t= float(input(\"Enter the time: \"))\n",
    "s1= (p*r*t)/100\n",
    "a= p*(1+r/100)**t\n",
    "c1=a-p\n",
    "print(\"Simple interest is: \",s1)\n",
    "print(\"Compound interest is: \",c1)"
   ]
  },
  {
   "cell_type": "code",
   "execution_count": null,
   "metadata": {},
   "outputs": [],
   "source": [
    "\n",
    "\n",
    "s = input()\n",
    "\n",
    "if s[2] in 'AEIOUY': \n",
    "    print('invalid')\n",
    "    exit()\n",
    "    \n",
    "flag='valid'\n",
    "for i in range(len(s)-1):\n",
    "    \n",
    "    \n",
    "    if not s[i].isdigit() or not s[i+1].isdigit():\n",
    "        continue\n",
    "        \n",
    "    # print(s[i], s[i+1])\n",
    "    sum_ = int(s[i])+int(s[i+1])\n",
    "\n",
    "    if not sum_ %2==0:\n",
    "        flag = 'invalid'\n",
    "        break\n",
    "print(flag)"
   ]
  },
  {
   "cell_type": "code",
   "execution_count": null,
   "metadata": {},
   "outputs": [],
   "source": [
    "s = input()\n",
    "\n",
    "\n",
    "def check_tag(s):\n",
    "    \n",
    "    if s[2] in 'AEIOUY': \n",
    "        return 'invalid'\n",
    "    \n",
    "    for i in range(len(s)-1):\n",
    "\n",
    "        if not s[i].isdigit() or not s[i+1].isdigit():\n",
    "            continue\n",
    "\n",
    "        sum_ = int(s[i])+int(s[i+1])\n",
    "\n",
    "        if not sum_ %2==0:\n",
    "            return 'invalid'\n",
    "    return 'valid'\n",
    "\n",
    "\n",
    "print(check_tag(s))"
   ]
  },
  {
   "cell_type": "code",
   "execution_count": null,
   "metadata": {},
   "outputs": [],
   "source": []
  }
 ],
 "metadata": {
  "kernelspec": {
   "display_name": "Python 3",
   "language": "python",
   "name": "python3"
  },
  "language_info": {
   "codemirror_mode": {
    "name": "ipython",
    "version": 3
   },
   "file_extension": ".py",
   "mimetype": "text/x-python",
   "name": "python",
   "nbconvert_exporter": "python",
   "pygments_lexer": "ipython3",
   "version": "3.7.3"
  }
 },
 "nbformat": 4,
 "nbformat_minor": 2
}
