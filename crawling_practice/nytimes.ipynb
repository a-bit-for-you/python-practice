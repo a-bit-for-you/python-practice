{
 "cells": [
  {
   "cell_type": "code",
   "execution_count": 10,
   "metadata": {},
   "outputs": [],
   "source": [
    "import requests\n",
    "import re\n",
    "\n",
    "# user agent is required because some times we may get permission error\n",
    "headers = {\n",
    "    'user-agent':'Mozilla/5.0 (Windows NT 10.0; Win64; x64) AppleWebKit/537.36 (KHTML, like Gecko) Chrome/88.0.4324.182 Safari/537.36'\n",
    "}\n",
    "\n",
    "article_url = 'https://www.nytimes.com/2021/02/21/us/texas-electricity-ercot-blackouts.html'\n",
    "\n",
    "# Fetching url\n",
    "article_page = requests.get(article_url, headers=headers, timeout=60).text\n",
    "# ======= Metacharacters =====\n",
    "#     \\s Returns a match where the string contains a white space character\n",
    "#     () Capture and group\n",
    "#     . Any character (except newline character)\n",
    "#     * Zero or more occurrences\n",
    "#     ? Zero or one\n",
    "# =============================\n",
    "headline = re.search('property=\"og:title\"\\s*content=\"(.*?)\"', article_page, flags=re.S).group(1)\n",
    "date_time = re.search('\"article:published_time\"\\s*content=\"(.*?)\"', article_page, flags=re.S).group(1)\n",
    "content = re.search('<p\\s*id=\"article-summary\".*?>(.*?)<div\\s*id=\"bottom-wrapper\"', article_page, flags=re.S).group(1)\n",
    "content = re.sub('<.*?>', '', content, flags=re.S)\n",
    "author = re.search('\"renderedRepresentation\":\"(.*?)\"', article_page, flags=re.S).group(1)"
   ]
  },
  {
   "cell_type": "code",
   "execution_count": null,
   "metadata": {},
   "outputs": [],
   "source": []
  },
  {
   "cell_type": "code",
   "execution_count": null,
   "metadata": {},
   "outputs": [],
   "source": []
  }
 ],
 "metadata": {
  "kernelspec": {
   "display_name": "Python 3",
   "language": "python",
   "name": "python3"
  },
  "language_info": {
   "codemirror_mode": {
    "name": "ipython",
    "version": 3
   },
   "file_extension": ".py",
   "mimetype": "text/x-python",
   "name": "python",
   "nbconvert_exporter": "python",
   "pygments_lexer": "ipython3",
   "version": "3.7.3"
  }
 },
 "nbformat": 4,
 "nbformat_minor": 4
}
