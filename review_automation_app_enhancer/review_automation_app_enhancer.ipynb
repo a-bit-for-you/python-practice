{
 "cells": [
  {
   "cell_type": "code",
   "execution_count": null,
   "metadata": {},
   "outputs": [
    {
     "name": "stdout",
     "output_type": "stream",
     "text": [
      "Point(x=641, y=418)\n",
      "Point(x=896, y=569)\n",
      "Point(x=42, y=103)\n",
      "Point(x=90, y=310)\n",
      "Point(x=93, y=357)\n"
     ]
    }
   ],
   "source": [
    "import pyautogui as pg\n",
    "import time\n",
    "from cv2 import *\n",
    "import sys\n",
    "start_time = time.time()\n",
    "time.sleep(1)\n",
    "def press(command):\n",
    "    pg.press(command)\n",
    "    time.sleep(1)\n",
    "    \n",
    "def hotkey(*command):\n",
    "    pg.hotkey(*command)\n",
    "    time.sleep(1)\n",
    "    \n",
    "def typewrite(command):\n",
    "    pg.typewrite(command)\n",
    "    time.sleep(1)\n",
    "\n",
    "\n",
    "def click(x,y):\n",
    "    pg.click(x,y)\n",
    "    time.sleep(2)\n",
    "    \n",
    "\n",
    "hotkey('ctrl','shift','n')#opens incognito mode\n",
    "typewrite('https://www.appenhancer.com/auth/login/')\n",
    "press('enter')\n",
    "#time.sleep(5)\n",
    "\n",
    "def click_image(image,confid):\n",
    "    start_time = time.time()\n",
    "    while True:\n",
    "        search = pg.locateOnScreen(image,confidence=confid)\n",
    "        if search is not None:\n",
    "            break\n",
    "        if time.time()-start_time > 40:\n",
    "            sys.exit(f'{image} not found.')\n",
    "        #time.sleep(1)\n",
    "    cordinates = pg.center(search)\n",
    "    print(cordinates)\n",
    "    pg.click(cordinates.x,cordinates.y)\n",
    "    \n",
    "click_image(r'images/email.png',0.7)\n",
    "typewrite('guptask10121@gmail.com')\n",
    "press('tab')\n",
    "typewrite('Universe@123')\n",
    "click(1194,686)#Accept cookies\n",
    "click_image(r'images/login.png',0.7)\n",
    "time.sleep(3)\n",
    "hotkey('ctrl','shift','i')#mobile view\n",
    "time.sleep(1)\n",
    "click_image(r'images/menu.png',0.7)#menu\n",
    "click_image(r'images/appreviews.png',0.7)#app reviews\n",
    "click_image(r'images/review.png',0.7)#review app\n",
    "time.sleep(3)\n",
    "press('esc')\n",
    "press(\"pagedown\")\n",
    "click_image(r'images/accept.png',0.7)#accept\n",
    "click_image(r'images/open_google_play.png',0.7)#open playstore url\n",
    "click_image(r'images/install.png',0.7)\n",
    "click_image(r'images/sign_in.png',0.7)#sign in \n",
    "print('Processing finished in',time.time()-start_time,'seconds.')"
   ]
  },
  {
   "cell_type": "code",
   "execution_count": 22,
   "metadata": {},
   "outputs": [
    {
     "name": "stdout",
     "output_type": "stream",
     "text": [
      "Point(x=263, y=378)\n"
     ]
    }
   ],
   "source": [
    "print(pg.position())"
   ]
  },
  {
   "cell_type": "code",
   "execution_count": 12,
   "metadata": {},
   "outputs": [],
   "source": [
    "pg.click(724,612)"
   ]
  },
  {
   "cell_type": "code",
   "execution_count": 3,
   "metadata": {},
   "outputs": [
    {
     "name": "stdout",
     "output_type": "stream",
     "text": [
      "2.000821590423584\n",
      "4.014849901199341\n",
      "6.030430555343628\n",
      "8.031334161758423\n",
      "10.046570301055908\n"
     ]
    },
    {
     "ename": "SystemExit",
     "evalue": "time zyada hogaya",
     "output_type": "error",
     "traceback": [
      "An exception has occurred, use %tb to see the full traceback.\n",
      "\u001b[1;31mSystemExit\u001b[0m\u001b[1;31m:\u001b[0m time zyada hogaya\n"
     ]
    }
   ],
   "source": [
    "import time\n",
    "import sys\n",
    "start_time = time.time()\n",
    "while True:\n",
    "    time.sleep(2)\n",
    "    print(time.time()-start_time)\n",
    "    if time.time()-start_time > 10:\n",
    "        sys.exit('time zyada hogaya')"
   ]
  },
  {
   "cell_type": "code",
   "execution_count": null,
   "metadata": {},
   "outputs": [],
   "source": []
  }
 ],
 "metadata": {
  "kernelspec": {
   "display_name": "Python 3",
   "language": "python",
   "name": "python3"
  },
  "language_info": {
   "codemirror_mode": {
    "name": "ipython",
    "version": 3
   },
   "file_extension": ".py",
   "mimetype": "text/x-python",
   "name": "python",
   "nbconvert_exporter": "python",
   "pygments_lexer": "ipython3",
   "version": "3.7.3"
  }
 },
 "nbformat": 4,
 "nbformat_minor": 4
}
