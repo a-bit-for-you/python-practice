{
 "cells": [
  {
   "cell_type": "code",
   "execution_count": 1,
   "metadata": {},
   "outputs": [],
   "source": [
    "import logging \n",
    "#Create and configure logger \n",
    "logging.basicConfig(filename=\"logs1.log\", format='%(asctime)s %(process)d %(message)s', filemode='a') \n",
    "logger=logging.getLogger() \n",
    "logger.setLevel(logging.DEBUG) \n",
    "logger.info(\"Process Started =====================================================================================\") \n",
    "#logging.getLogger(\"requests\").setLevel(logging.WARNING)\n"
   ]
  },
  {
   "cell_type": "code",
   "execution_count": 3,
   "metadata": {},
   "outputs": [
    {
     "name": "stdout",
     "output_type": "stream",
     "text": [
      "2020-06-04 12:06:36,504 INF p = 13452 hi\n",
      "2020-06-04 12:06:36,504 INF p = 13452 hi\n",
      "2020-06-04 12:06:36,504 INF p = 13452 hi\n"
     ]
    }
   ],
   "source": [
    "import logging \n",
    "import sys  \n",
    "\n",
    "#Create and configure logger \n",
    "logger = logging.getLogger()\n",
    "logger.setLevel(logging.DEBUG)\n",
    "handler = logging.StreamHandler(sys.stdout)\n",
    "handler.setLevel(logging.DEBUG)\n",
    "formatter = logging.Formatter('%(asctime)s INF p = %(process)d %(message)s')\n",
    "handler.setFormatter(formatter)\n",
    "logger.addHandler(handler)\n",
    "\n",
    "logger.info('hi')"
   ]
  }
 ],
 "metadata": {
  "kernelspec": {
   "display_name": "Python 3",
   "language": "python",
   "name": "python3"
  },
  "language_info": {
   "codemirror_mode": {
    "name": "ipython",
    "version": 3
   },
   "file_extension": ".py",
   "mimetype": "text/x-python",
   "name": "python",
   "nbconvert_exporter": "python",
   "pygments_lexer": "ipython3",
   "version": "3.7.3"
  }
 },
 "nbformat": 4,
 "nbformat_minor": 4
}
