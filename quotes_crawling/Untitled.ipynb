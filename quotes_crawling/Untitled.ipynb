{
 "cells": [
  {
   "cell_type": "code",
   "execution_count": 53,
   "metadata": {},
   "outputs": [
    {
     "data": {
      "text/plain": [
       "'Scraping tutorial'"
      ]
     },
     "execution_count": 53,
     "metadata": {},
     "output_type": "execute_result"
    }
   ],
   "source": [
    "import requests\n",
    "import re\n",
    "\n",
    "# ignore everything\n",
    "r = '''<h1>\n",
    "<h2><h3>bye<h3>\n",
    "<h1><h2>Python is awesome.<h2><h3>Scraping tutorial<h3>\n",
    "'''\n",
    "r = re.search('<h3>.*?<h3>.*?<h3>(.*?)<', r, re.S).group(1)\n",
    "r"
   ]
  },
  {
   "cell_type": "code",
   "execution_count": 56,
   "metadata": {},
   "outputs": [],
   "source": [
    "r = requests.get('https://unsplash.com/photos/glrBDgQMAsY/download?force=true')\n",
    "with open('remi.png', 'wb') as f: \n",
    "    f.write(r.content)"
   ]
  },
  {
   "cell_type": "code",
   "execution_count": null,
   "metadata": {},
   "outputs": [],
   "source": [
    "fire # store\n",
    "The mountain # store \n",
    "An author # store\n",
    "A mobile # store\n",
    "da dsa das ds dsadas # remove\n",
    "\n"
   ]
  }
 ],
 "metadata": {
  "kernelspec": {
   "display_name": "Python 3",
   "language": "python",
   "name": "python3"
  },
  "language_info": {
   "codemirror_mode": {
    "name": "ipython",
    "version": 3
   },
   "file_extension": ".py",
   "mimetype": "text/x-python",
   "name": "python",
   "nbconvert_exporter": "python",
   "pygments_lexer": "ipython3",
   "version": "3.7.3"
  }
 },
 "nbformat": 4,
 "nbformat_minor": 4
}
