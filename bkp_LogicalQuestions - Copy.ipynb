{
 "cells": [
  {
   "cell_type": "code",
   "execution_count": null,
   "metadata": {},
   "outputs": [],
   "source": [
    "s,dic = 'daabbbbcbcc',{}\n",
    "for i in set(s): dic[i] = s.count(i)\n",
    "sorted(dic.items(), key = lambda x:(x[1]),reverse = True)"
   ]
  },
  {
   "cell_type": "code",
   "execution_count": null,
   "metadata": {},
   "outputs": [],
   "source": [
    "s = 'aabbbcccc'\n",
    "l = len(s)\n",
    "li = []\n",
    "cnt = 1\n",
    "sum = 0\n",
    "for i in range(l-1):\n",
    "    if s[i]==s[i+1]:\n",
    "        cnt += 1\n",
    "    else:\n",
    "        print(s[i],cnt)\n",
    "        sum = sum + cnt\n",
    "        cnt = 1\n",
    "print(s[sum],l-sum)"
   ]
  },
  {
   "cell_type": "code",
   "execution_count": null,
   "metadata": {
    "scrolled": false
   },
   "outputs": [],
   "source": [
    "s = 'aaaabbbhhhbaa'\n",
    "l = len(s)\n",
    "li = []\n",
    "cnt = 1\n",
    "sum = 0\n",
    "for i in range(l-1):\n",
    "    if s[i]==s[i+1]:\n",
    "        cnt += 1\n",
    "    else:\n",
    "        li.append(f'{s[i]}{cnt}')\n",
    "        sum = sum + cnt\n",
    "        cnt = 1\n",
    "li.append(f'{s[sum]}{l-sum}')\n",
    "li.sort()\n",
    "li"
   ]
  },
  {
   "cell_type": "code",
   "execution_count": null,
   "metadata": {},
   "outputs": [],
   "source": [
    "def linear_search(li,n):\n",
    "    for i in li:\n",
    "        if i==n:\n",
    "            global pos \n",
    "            pos = li.index(i)\n",
    "            return True\n",
    "    return False\n",
    "n = 34\n",
    "li = [1,2,34,5,2,1,5,1,2,34]\n",
    "\n",
    "if linear_search(li,n):\n",
    "    print(f'Found {n} at position {pos}')\n",
    "else:\n",
    "    print('not found')"
   ]
  },
  {
   "cell_type": "code",
   "execution_count": null,
   "metadata": {},
   "outputs": [],
   "source": [
    "def binary_search(li,n):\n",
    "    l = 0\n",
    "    u = len(li)-1\n",
    "    while l<=u:\n",
    "        mid = (l+u)//2\n",
    "        if li[mid] == n:\n",
    "            globals()['pos'] = mid\n",
    "            return True\n",
    "        else:\n",
    "            if li[mid] < n:\n",
    "                l = mid\n",
    "            else:\n",
    "                u = mid\n",
    "                \n",
    "n = 10\n",
    "li = [10,20,30,40,50,60,70,80]\n",
    "\n",
    "if linear_search(li,n):\n",
    "    print(f'Found {n} at position {pos}')\n",
    "else:\n",
    "    print('not found')"
   ]
  },
  {
   "cell_type": "code",
   "execution_count": 4,
   "metadata": {},
   "outputs": [
    {
     "name": "stdout",
     "output_type": "stream",
     "text": [
      "['~~~~~~', '~~~~c~', '~~mcd~', '~~mca~', 'rat~~~', '~~~~~~']\n"
     ]
    }
   ],
   "source": [
    "matrix =\"\"\"~ ~ ~ ~ ~ ~\n",
    "~ ~ ~ ~ c ~\n",
    "~ ~ m c d ~\n",
    "~ ~ m c a ~\n",
    "r a t ~ ~ ~\n",
    "~ ~ ~ ~ ~ ~\"\"\".replace(\" \",\"\").split('\\n')\n",
    "\n",
    "words = ['mca','mcd','rat','cda']\n",
    "print(matrix)\n",
    "def print_cordinates(lenght,x,y):\n",
    "    #cordinates = tuple(range(y,y+len(word)))\n",
    "    #print(cordinates)\n",
    "    #cordinates = tuple(map(lambda z:str(x)+str(z),cordinates))  \n",
    "    return [str(x)+str(i) for i in range(y,y+lenght)]\n",
    "\n",
    "for word in words:\n",
    "    for x in range(len(matrix)):\n",
    "        y = (matrix[x].find(word))\n",
    "        if y != -1:\n",
    "            #print(word,print_cordinates(len(word),x,y))\n",
    "            print(word,[str(x)+str(i) for i in range(y,y+len(word))])\n",
    "            break"
   ]
  },
  {
   "cell_type": "code",
   "execution_count": 181,
   "metadata": {},
   "outputs": [
    {
     "name": "stdout",
     "output_type": "stream",
     "text": [
      "cat ['14', '24', '34']\n",
      "ram ['40', '41', '42']\n",
      "ram ['43', '44', '45']\n"
     ]
    }
   ],
   "source": [
    "from numpy import *\n",
    "matrix =\"\"\"~ ~ ~ ~ ~ ~\n",
    "~ ~ ~ ~ c ~\n",
    "~ ~ m c a m\n",
    "~ ~ a ~ t a\n",
    "r a m r a m\n",
    "~ ~ ~ ~ ~ ~\"\"\".replace(\" \",\"\").split('\\n')\n",
    "words = ['cat','mat','ram','bat']\n",
    "\n",
    "matrix = list(map(lambda x:list(x),matrix))\n",
    "matrix = array(matrix)#numpy array\n",
    "\n",
    "for word in words:\n",
    "    for x in range(len(matrix)):\n",
    "        word_len = len(word)\n",
    "        if word[0] in matrix[x]:#if 1st letter of word is present in sub array\n",
    "            for y in argwhere(matrix[x]==word[0]):#if we get multiple occurence of a letter then search multiple times\n",
    "                y = int(y)#find y axis of word\n",
    "                if word == ''.join(matrix[x][y:y+word_len]):#slice horizontally and check if it is equal to the word\n",
    "                    print(word,[str(x)+str(y) for y in range(y,y+word_len)])#calculate other cordinates of the word\n",
    "                    #break#if words are getting repeated in your word list then remove breaks and change elif to if\n",
    "                if word == ''.join(matrix[x:x+word_len,y]):#slice horizontally and check if it is equal to the word\n",
    "                    print(word,[str(x)+str(y) for x in range(x,x+word_len)])#calculate other cordinates of the word\n",
    "                    #break"
   ]
  },
  {
   "cell_type": "code",
   "execution_count": null,
   "metadata": {},
   "outputs": [],
   "source": []
  },
  {
   "cell_type": "code",
   "execution_count": 182,
   "metadata": {},
   "outputs": [
    {
     "data": {
      "text/plain": [
       "[['~', '~', '~', '~', '~', '~'],\n",
       " ['~', '~', '~', '~', 'c', '~'],\n",
       " ['~', '~', 'm', 'c', 'a', '~'],\n",
       " ['~', '~', 'a', '~', 't', '~'],\n",
       " ['r', 'a', 't', '~', '~', '~'],\n",
       " ['~', '~', '~', '~', '~', '~']]"
      ]
     },
     "execution_count": 182,
     "metadata": {},
     "output_type": "execute_result"
    }
   ],
   "source": [
    "from numpy import *\n",
    "matrix =\"\"\"~ ~ ~ ~ ~ ~\n",
    "~ ~ ~ ~ c ~\n",
    "~ ~ m c a ~\n",
    "~ ~ a ~ t ~\n",
    "r a t ~ ~ ~\n",
    "~ ~ ~ ~ ~ ~\"\"\".replace(\" \",\"\").split('\\n')\n",
    "words = ['cat','mat','rat','mca']\n",
    "\n",
    "matrix = list(map(lambda x:list(x),matrix))\n",
    "matrix"
   ]
  },
  {
   "cell_type": "code",
   "execution_count": 183,
   "metadata": {},
   "outputs": [
    {
     "data": {
      "text/plain": [
       "[['~', '~', 'm', 'c', 'a', '~'],\n",
       " ['~', '~', 'a', '~', 't', '~'],\n",
       " ['r', 'a', 't', '~', '~', '~']]"
      ]
     },
     "execution_count": 183,
     "metadata": {},
     "output_type": "execute_result"
    }
   ],
   "source": [
    "matrix[2][2:2+3]\n",
    "matrix[2:5]"
   ]
  },
  {
   "cell_type": "code",
   "execution_count": null,
   "metadata": {},
   "outputs": [],
   "source": []
  },
  {
   "cell_type": "code",
   "execution_count": null,
   "metadata": {},
   "outputs": [],
   "source": []
  },
  {
   "cell_type": "code",
   "execution_count": null,
   "metadata": {},
   "outputs": [],
   "source": []
  },
  {
   "cell_type": "code",
   "execution_count": null,
   "metadata": {},
   "outputs": [],
   "source": []
  },
  {
   "cell_type": "code",
   "execution_count": null,
   "metadata": {},
   "outputs": [],
   "source": []
  },
  {
   "cell_type": "code",
   "execution_count": null,
   "metadata": {},
   "outputs": [],
   "source": []
  },
  {
   "cell_type": "code",
   "execution_count": 29,
   "metadata": {},
   "outputs": [
    {
     "name": "stdout",
     "output_type": "stream",
     "text": [
      "mca ('22', '23', '24')\n",
      "mca ('22', '32', '42')\n"
     ]
    }
   ],
   "source": [
    "import numpy as np\n",
    "\n",
    "hmatrix =\"\"\"~ ~ ~ ~ ~ ~\n",
    "~ ~ ~ ~ c ~\n",
    "~ ~ m c a ~\n",
    "~ ~ c ~ t ~\n",
    "r a a ~ ~ ~\n",
    "~ ~ ~ ~ ~ ~\"\"\".replace(\" \",\"\").split('\\n')\n",
    "\n",
    "words = ['mca']\n",
    "\n",
    "vmatrix = list(map(lambda x:list(x),hmatrix))\n",
    "vmatrix = np.array(vmatrix).T\n",
    "vmatrix = list(map(lambda x:''.join(x),vmatrix.tolist()))\n",
    "\n",
    "def print_cordinates(word,x,y,orientation):\n",
    "    cordinates = tuple(range(y,y+len(word)))\n",
    "    if orientation == 'verticle':\n",
    "        cordinates = tuple(map(lambda z:str(z)+str(x),cordinates))\n",
    "    else:\n",
    "        cordinates = tuple(map(lambda z:str(x)+str(z),cordinates))\n",
    "    return cordinates\n",
    "\n",
    "def search(orientation,matrix):\n",
    "    for word in words:\n",
    "        for x in range(len(matrix)):\n",
    "            y = (matrix[x].find(word))\n",
    "            if y != -1:\n",
    "                print(word,print_cordinates(word,x,y,orientation))\n",
    "                break\n",
    "            \n",
    "search('horizontal',hmatrix)\n",
    "search('verticle',vmatrix)"
   ]
  },
  {
   "cell_type": "code",
   "execution_count": null,
   "metadata": {},
   "outputs": [],
   "source": []
  },
  {
   "cell_type": "code",
   "execution_count": null,
   "metadata": {},
   "outputs": [],
   "source": []
  },
  {
   "cell_type": "code",
   "execution_count": null,
   "metadata": {},
   "outputs": [],
   "source": []
  }
 ],
 "metadata": {
  "kernelspec": {
   "display_name": "Python 3",
   "language": "python",
   "name": "python3"
  },
  "language_info": {
   "codemirror_mode": {
    "name": "ipython",
    "version": 3
   },
   "file_extension": ".py",
   "mimetype": "text/x-python",
   "name": "python",
   "nbconvert_exporter": "python",
   "pygments_lexer": "ipython3",
   "version": "3.7.3"
  }
 },
 "nbformat": 4,
 "nbformat_minor": 2
}
