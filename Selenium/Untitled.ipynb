{
 "cells": [
  {
   "cell_type": "code",
   "execution_count": 5,
   "metadata": {},
   "outputs": [],
   "source": [
    "from selenium import webdriver\n",
    "from selenium.webdriver.common.keys import Keys\n",
    "from selenium.webdriver.common.by import By\n",
    "from selenium.webdriver.support.ui import WebDriverWait\n",
    "from selenium.webdriver.support import expected_conditions as ec\n",
    "\n",
    "#functions\n",
    "def button_wait(xpath):\n",
    "    e = WebDriverWait(driver, 20).until(ec.visibility_of_element_located((By.XPATH, xpath)))\n",
    "    e.click()\n",
    "def text_wait(xpath,text):\n",
    "    e = WebDriverWait(driver, 20).until(ec.visibility_of_element_located((By.XPATH, xpath)))\n",
    "    e.send_keys(text)\n",
    "    #e.send_keys(Keys.ENTER)\n",
    "def text_wait_enter(xpath,text):\n",
    "    e = WebDriverWait(driver, 20).until(ec.visibility_of_element_located((By.XPATH, xpath)))\n",
    "    e.send_keys(text)\n",
    "    e.send_keys(Keys.ENTER)\n",
    "#=============================================================================================\n",
    "driver=webdriver.Chrome('chromedriver')\n",
    "driver.get('https://developer.amazon.com/apps-and-games')\n",
    "driver.maximize_window()\n",
    "\n",
    "button_wait('//*[@id=\"a-page\"]/header/div[1]/div[2]/div[1]/a')#sign in\n",
    "text_wait('//*[@id=\"ap_email\"]','softogames10@gmail.com')\n",
    "text_wait_enter('//*[@id=\"ap_password\"]','softopreneurs')"
   ]
  }
 ],
 "metadata": {
  "kernelspec": {
   "display_name": "Python 3",
   "language": "python",
   "name": "python3"
  },
  "language_info": {
   "codemirror_mode": {
    "name": "ipython",
    "version": 3
   },
   "file_extension": ".py",
   "mimetype": "text/x-python",
   "name": "python",
   "nbconvert_exporter": "python",
   "pygments_lexer": "ipython3",
   "version": "3.7.3"
  }
 },
 "nbformat": 4,
 "nbformat_minor": 4
}
