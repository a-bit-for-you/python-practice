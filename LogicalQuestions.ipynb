{
 "cells": [
  {
   "cell_type": "markdown",
   "metadata": {},
   "source": [
    "# 1. Sort and Count"
   ]
  },
  {
   "cell_type": "code",
   "execution_count": 1,
   "metadata": {},
   "outputs": [
    {
     "name": "stdout",
     "output_type": "stream",
     "text": [
      "{'a': 2, 'd': 1, 'c': 3, 'b': 5}\n"
     ]
    },
    {
     "data": {
      "text/plain": [
       "['b', 'c', 'a', 'd']"
      ]
     },
     "execution_count": 1,
     "metadata": {},
     "output_type": "execute_result"
    }
   ],
   "source": [
    "s,dic = 'daabbbbcbcc',{}\n",
    "for i in set(s): dic[i] = s.count(i)\n",
    "print(dic)\n",
    "li = sorted(dic.items(), key = lambda x:(x[1]),reverse = True)\n",
    "list(map(lambda x:x[0],li))"
   ]
  },
  {
   "cell_type": "markdown",
   "metadata": {},
   "source": [
    "# 2. Count"
   ]
  },
  {
   "cell_type": "code",
   "execution_count": null,
   "metadata": {},
   "outputs": [],
   "source": [
    "s = 'aabbbcccc'\n",
    "l = len(s)\n",
    "li = []\n",
    "cnt = 1\n",
    "sum = 0\n",
    "for i in range(l-1):\n",
    "    if s[i]==s[i+1]:\n",
    "        cnt += 1\n",
    "    else:\n",
    "        print(s[i],cnt)\n",
    "        sum = sum + cnt\n",
    "        cnt = 1\n",
    "print(s[sum],l-sum)"
   ]
  },
  {
   "cell_type": "markdown",
   "metadata": {},
   "source": [
    "# 3. Sort and count part 2"
   ]
  },
  {
   "cell_type": "code",
   "execution_count": null,
   "metadata": {
    "scrolled": false
   },
   "outputs": [],
   "source": [
    "s = 'aaaabbbhhhbaa'\n",
    "l = len(s)\n",
    "li = []\n",
    "cnt = 1\n",
    "sum = 0\n",
    "for i in range(l-1):\n",
    "    if s[i]==s[i+1]:\n",
    "        cnt += 1\n",
    "    else:\n",
    "        li.append(f'{s[i]}{cnt}')\n",
    "        sum = sum + cnt\n",
    "        cnt = 1\n",
    "li.append(f'{s[sum]}{l-sum}')\n",
    "li.sort()\n",
    "li"
   ]
  },
  {
   "cell_type": "markdown",
   "metadata": {},
   "source": [
    "# 4. Linear search"
   ]
  },
  {
   "cell_type": "code",
   "execution_count": null,
   "metadata": {},
   "outputs": [],
   "source": [
    "def linear_search(li,n):\n",
    "    for i in li:\n",
    "        if i==n:\n",
    "            global pos \n",
    "            pos = li.index(i)\n",
    "            return True\n",
    "    return False\n",
    "n = 34\n",
    "li = [1,2,34,5,2,1,5,1,2,34]\n",
    "\n",
    "if linear_search(li,n):\n",
    "    print(f'Found {n} at position {pos}')\n",
    "else:\n",
    "    print('not found')"
   ]
  },
  {
   "cell_type": "markdown",
   "metadata": {},
   "source": [
    "# 5. Binary search"
   ]
  },
  {
   "cell_type": "code",
   "execution_count": null,
   "metadata": {},
   "outputs": [],
   "source": [
    "def binary_search(li,n):\n",
    "    l = 0\n",
    "    u = len(li)-1\n",
    "    while l<=u:\n",
    "        mid = (l+u)//2\n",
    "        if li[mid] == n:\n",
    "            globals()['pos'] = mid\n",
    "            return True\n",
    "        else:\n",
    "            if li[mid] < n:\n",
    "                l = mid+1\n",
    "            else:\n",
    "                u = mid-1\n",
    "                \n",
    "n = 80\n",
    "li = [10,20,30,40,50,60,70,80]\n",
    "\n",
    "if binary_search(li,n):\n",
    "    print(f'Found {n} at position {pos}')\n",
    "else:\n",
    "    print('not found')"
   ]
  },
  {
   "cell_type": "markdown",
   "metadata": {},
   "source": [
    "# 6. Find cordinates"
   ]
  },
  {
   "cell_type": "code",
   "execution_count": null,
   "metadata": {},
   "outputs": [],
   "source": [
    "import time\n",
    "from numpy import array,argwhere\n",
    "\n",
    "\n",
    "matrix =\"\"\"~ ~ ~ ~ ~ ~\n",
    "~ ~ ~ ~ c ~\n",
    "~ ~ m c a ~\n",
    "~ ~ a ~ t ~\n",
    "r a t ~ ~ ~\n",
    "~ ~ ~ ~ ~ ~\"\"\".replace(\" \",\"\").split('\\n')\n",
    "words = ['cat','mat','rat','mca']\n",
    "\n",
    "matrix = list(map(lambda x:list(x),matrix))\n",
    "matrix = array(matrix)#numpy array\n",
    "tilde = '~'\n",
    "grid_dimension = (5,5)\n",
    "\n",
    "start_time = time.time()\n",
    "for word in words:\n",
    "    for x in range(len(matrix)):\n",
    "        word_len = len(word)\n",
    "        if word[0] in matrix[x]:#if 1st letter of word is present in sub array\n",
    "            for y in argwhere(matrix[x]==word[0]):#if we get multiple occurence of a letter then search multiple times\n",
    "                y = int(y)#find y axis of word\n",
    "                #slice horizontally, check if it is equal to the word and check if it is isolated\n",
    "                if word == ''.join(matrix[x][y:y+word_len]) and (y==0 or matrix[x,y-1] == tilde) and (y+word_len-1==grid_dimension[0] or matrix[x,y+word_len]==tilde):\n",
    "                    print(word,[str(x)+str(y) for y in range(y,y+word_len)])#calculate other cordinates of the word\n",
    "                    break#if words are getting repeated in your word list then remove breaks and change elif to if\n",
    "                #slice vertically, check if it is equal to the word and check if it is isolated\n",
    "                elif word == ''.join(matrix[x:x+word_len,y]) and (x==0 or matrix[x-1,y] == tilde) and (x+word_len-1==grid_dimension[1] or matrix[x+word_len,y]==tilde):\n",
    "                    print(word,[str(x)+str(y) for x in range(x,x+word_len)])#calculate other cordinates of the word\n",
    "                    break\n",
    "                    \n",
    "print('Processing finished in' ,time.time() - start_time,'seconds.')"
   ]
  },
  {
   "cell_type": "markdown",
   "metadata": {},
   "source": [
    "# 7. Days"
   ]
  },
  {
   "cell_type": "code",
   "execution_count": null,
   "metadata": {},
   "outputs": [],
   "source": [
    "days = ['SUNDAY', 'MONDAY', 'TUESDAY', 'WEDNESDAY', 'THURSDAY', 'FRIDAY', 'SATURDAY']\n",
    "len_days = len(days)\n",
    "start_day = 'MONDAY'\n",
    "total_no_of_days = 30\n",
    "index = days.index(start_day)\n",
    "days = days[index:]+days[:index]\n",
    "multi = total_no_of_days//len_days\n",
    "days = days*multi+days[:total_no_of_days - len_days * multi]\n",
    "print(days)\n",
    "len(days)"
   ]
  },
  {
   "cell_type": "markdown",
   "metadata": {},
   "source": [
    "# 8. Extra Words"
   ]
  },
  {
   "cell_type": "code",
   "execution_count": null,
   "metadata": {},
   "outputs": [],
   "source": [
    "import time\n",
    "temp_common_words = [['cat',],['at'],[]]\n",
    "random_letters = ['ctama', 'bta', 'ta']\n",
    "complete_list = ['cat', 'at', 'mat', 'bat', 'tat']\n",
    "start_time = time.time()\n",
    "def find_extra_words(temp_common_words,random_letters,complete_list):\n",
    "    complete_list1 = list(map(lambda x:list(x),complete_list))\n",
    "    for i in range(len(random_letters)):\n",
    "        temp = []\n",
    "        for j in range(len(complete_list1)):\n",
    "            if complete_list[j] not in temp_common_words[i]:\n",
    "                word_copy = complete_list1[j].copy()\n",
    "                for letter in random_letters[i]:\n",
    "                    if letter in word_copy:\n",
    "                        word_copy.remove(letter)\n",
    "                if word_copy == []:temp.append(complete_list[j])\n",
    "        yield temp\n",
    "print(list(find_extra_words(temp_common_words,random_letters,complete_list)))\n",
    "print('Processing finished in' ,time.time() - start_time,'seconds.')"
   ]
  },
  {
   "cell_type": "markdown",
   "metadata": {},
   "source": [
    "# 9. Partition"
   ]
  },
  {
   "cell_type": "code",
   "execution_count": null,
   "metadata": {},
   "outputs": [],
   "source": [
    "def partition(parts,li):\n",
    "    sub_list_len = len(li)//parts    \n",
    "    partition_li = []\n",
    "    for i in range(parts-1):\n",
    "        partition_li.append(li[sub_list_len*i:sub_list_len*(i+1)])\n",
    "    partition_li.append(li[sub_list_len*(parts-1):]) \n",
    "    return partition_li\n",
    "li = ['sachin','komal','shivam','sunny','vikas','shushant']\n",
    "partition(3,li)"
   ]
  },
  {
   "cell_type": "markdown",
   "metadata": {},
   "source": [
    "# 10. Shuffle"
   ]
  },
  {
   "cell_type": "code",
   "execution_count": null,
   "metadata": {},
   "outputs": [],
   "source": [
    "import random\n",
    "li = ['sachin','komal','shivam','sunny','vikas','shushant']\n",
    "def shuffle_list(li):\n",
    "    len_li = len(li)\n",
    "    for i in range(len_li):\n",
    "        index = random.randint(i,len_li-1)\n",
    "        li[i],li[index] = li[index],li[i]\n",
    "    return li\n",
    "shuffle_list(li)"
   ]
  },
  {
   "cell_type": "code",
   "execution_count": null,
   "metadata": {},
   "outputs": [],
   "source": [
    "import random\n",
    "li = ['sachin','komal','shivam','sunny','vikas','shushant']\n",
    "random.shuffle(li)\n",
    "li"
   ]
  },
  {
   "cell_type": "markdown",
   "metadata": {},
   "source": [
    "# 11. Minimum spaces"
   ]
  },
  {
   "cell_type": "code",
   "execution_count": null,
   "metadata": {},
   "outputs": [],
   "source": [
    "s = '31415798056'\n",
    "li = ['150','314','15','79','800','80','56','55']\n",
    "min_space = 0\n",
    "for no in li:\n",
    "    if no in s:\n",
    "        min_space+=1\n",
    "print(min_space)"
   ]
  },
  {
   "cell_type": "markdown",
   "metadata": {},
   "source": [
    "# 12. Average"
   ]
  },
  {
   "cell_type": "code",
   "execution_count": null,
   "metadata": {},
   "outputs": [],
   "source": [
    "def averages(li,k):\n",
    "    s = sum(li[:k])\n",
    "    yield s/k\n",
    "    for i in range(len(li)-k):\n",
    "        s = s-(li[i])+(li[i+k])\n",
    "        yield s/k\n",
    "print(list(averages([1,3,2,6,-1,4,1,8,2],5)))"
   ]
  },
  {
   "cell_type": "code",
   "execution_count": null,
   "metadata": {},
   "outputs": [],
   "source": [
    "import time\n",
    "start_time = time.time()\n",
    "for _ in range(1000):\n",
    "    #shushant's code\n",
    "    def find_average_of_subarrays(size, input_arr):\n",
    "        result = []\n",
    "        sum, window_start = 0.0, 0\n",
    "        for window_end in range(len(input_arr)):\n",
    "            sum += input_arr[window_end]\n",
    "            if window_end >= size - 1:\n",
    "                result.append(sum / size)\n",
    "                sum -= input_arr[window_start]\n",
    "                window_start += 1        \n",
    "        return result   \n",
    "    find_average_of_subarrays(5, [1, 3, 2, 6, -1, 4, 1, 8, 2]*10000)\n",
    "print('Processing finished in' ,time.time() - start_time,'seconds.')\n",
    "\n",
    "import time\n",
    "start_time = time.time()\n",
    "for _ in range(1000):\n",
    "    def averages(li,k):\n",
    "        s = sum(li[:k])\n",
    "        yield s/k\n",
    "        for i in range(len(li)-k):\n",
    "            s = s-(li[i])+(li[i+k])\n",
    "            yield s/k\n",
    "    list(averages([1,3,2,6,-1,4,1,8,2]*10000,5))\n",
    "print('Processing finished in' ,time.time() - start_time,'seconds.')"
   ]
  },
  {
   "cell_type": "markdown",
   "metadata": {},
   "source": [
    "# 13. Bayblade"
   ]
  },
  {
   "cell_type": "markdown",
   "metadata": {},
   "source": [
    "## Find the maximum number of team1 wins"
   ]
  },
  {
   "cell_type": "raw",
   "metadata": {},
   "source": [
    "Test cases\n",
    "\n",
    "20 50 30\n",
    "60 40 25\n",
    "output 2\n",
    "\n",
    "3 6 7 5 3 5 6 2 9 1 \n",
    "2 7 0 9 3 6 0 6 2 6\n",
    "output 7"
   ]
  },
  {
   "cell_type": "code",
   "execution_count": 1,
   "metadata": {},
   "outputs": [
    {
     "name": "stdout",
     "output_type": "stream",
     "text": [
      "7\n"
     ]
    }
   ],
   "source": [
    "#team1 = [24,30,50]\n",
    "#team2 = [25,40,60]\n",
    "team1 = [3, 6, 7, 5, 3, 5, 6, 2, 9, 1]\n",
    "team2 = [2, 7, 0, 9, 3, 6, 0, 6, 2, 6]\n",
    "team1.sort()\n",
    "team2.sort()\n",
    "wins = 0\n",
    "for i in team1:\n",
    "    if i > team2[wins]:wins+=1\n",
    "print(wins)"
   ]
  },
  {
   "cell_type": "markdown",
   "metadata": {},
   "source": [
    "## Other ways"
   ]
  },
  {
   "cell_type": "code",
   "execution_count": 11,
   "metadata": {},
   "outputs": [
    {
     "name": "stdout",
     "output_type": "stream",
     "text": [
      "wins 7\n",
      "loops 10\n"
     ]
    }
   ],
   "source": [
    "#slow\n",
    "#Shushant's code\n",
    "team_G_power = [3, 6, 7, 5, 3, 5, 6, 2, 9, 1]\n",
    "opponent_team_power = [2, 7, 0, 9, 3, 6, 0, 6, 2, 6]\n",
    "team_G_power.sort()\n",
    "opponent_team_power.sort()\n",
    "win_count = 0\n",
    "opp_ind = 0\n",
    "G_ind = 0\n",
    "\n",
    "while G_ind < len(team_G_power):\n",
    "    if opponent_team_power[opp_ind] < team_G_power[G_ind]:\n",
    "        win_count += 1\n",
    "        G_ind += 1\n",
    "        opp_ind += 1\n",
    "    else:\n",
    "        G_ind += 1\n",
    "print(win_count)\n",
    "\n",
    "#slower\n",
    "team1 = [3, 6, 7, 5, 3, 5, 6, 2, 9, 1]\n",
    "team1.sort()\n",
    "team2 = [2, 7, 0, 9, 3, 6, 0, 6, 2, 6]\n",
    "team2.sort()\n",
    "wins = 0\n",
    "cnt = 0\n",
    "n = len(team2)\n",
    "for i in range(len(team1)):\n",
    "    for j in range(wins,n):\n",
    "        cnt+=1\n",
    "        if team1[i] > team2[j]:\n",
    "            wins+=1\n",
    "            break\n",
    "        else:\n",
    "            n-=1\n",
    "            break\n",
    "print('wins',wins)\n",
    "print('loops',cnt)\n",
    "\n",
    "#slowest\n",
    "team1 = [3, 6, 7, 5, 3, 5, 6, 2, 9, 1]\n",
    "team1.sort()\n",
    "team2 = [2, 7, 0, 9, 3, 6, 0, 6, 2, 6]\n",
    "team2.sort()\n",
    "wins = 0\n",
    "cnt = 0\n",
    "n = len(team2)\n",
    "for i in range(len(team1)):\n",
    "    for j in range(n):\n",
    "        cnt+=1\n",
    "        if team1[i] > team2[j]:\n",
    "            wins+=1\n",
    "            team2.pop(j)\n",
    "            break\n",
    "        else:\n",
    "            n-=1#I used pop here also so it was more slower\n",
    "            break\n",
    "print('wins',wins)\n",
    "print('loops',cnt)"
   ]
  },
  {
   "cell_type": "markdown",
   "metadata": {},
   "source": [
    "# 14. PowerPuff girls"
   ]
  },
  {
   "cell_type": "markdown",
   "metadata": {},
   "source": [
    "## Question"
   ]
  },
  {
   "cell_type": "markdown",
   "metadata": {},
   "source": [
    "#### Print maximum number of powerpuff girls that can be made from the given number of ingredients and units."
   ]
  },
  {
   "cell_type": "raw",
   "metadata": {},
   "source": [
    "Test case\n",
    "4\n",
    "2 5 6 3 \n",
    "20 40 90 50 \n",
    "Output: 4"
   ]
  },
  {
   "cell_type": "code",
   "execution_count": 1,
   "metadata": {},
   "outputs": [
    {
     "name": "stdout",
     "output_type": "stream",
     "text": [
      "8\n",
      "Processing finished in 0.0 seconds.\n"
     ]
    }
   ],
   "source": [
    "import time\n",
    "n = 4\n",
    "ing = [2, 5, 6, 3]\n",
    "units = [20, 40, 90, 50]\n",
    "start_time = time.time()\n",
    "no = units[0]//ing[0]\n",
    "for i in range(1,n):\n",
    "    var = units[i]//ing[i]\n",
    "    if  var < no:\n",
    "        no = var\n",
    "print(no)\n",
    "print('Processing finished in' ,time.time() - start_time,'seconds.')"
   ]
  },
  {
   "cell_type": "markdown",
   "metadata": {},
   "source": [
    "## other ways"
   ]
  },
  {
   "cell_type": "code",
   "execution_count": null,
   "metadata": {},
   "outputs": [],
   "source": [
    "#slow\n",
    "n = 4\n",
    "ing = [2, 5, 6, 3]\n",
    "units = [20, 40, 90, 50]\n",
    "start_time = time.time()\n",
    "def calculate_maximum(ing,units):\n",
    "    for i in range(len(ing)):\n",
    "        yield (units[i]//ing[i])\n",
    "min(calculate_maximum(ing,units))\n",
    "\n",
    "#very slow\n",
    "n = 4\n",
    "ing = [2, 5, 6, 3]\n",
    "units = [20, 40, 90, 50]\n",
    "start_time = time.time()\n",
    "min(map(lambda x:units[x[0]]//x[1],enumerate(ing)))"
   ]
  },
  {
   "cell_type": "markdown",
   "metadata": {},
   "source": [
    "# 15. Smallest sub array"
   ]
  },
  {
   "cell_type": "markdown",
   "metadata": {},
   "source": [
    "## Find the smallest subarray with a sum greater than or equal to s"
   ]
  },
  {
   "cell_type": "markdown",
   "metadata": {},
   "source": [
    "### Single For loop"
   ]
  },
  {
   "cell_type": "code",
   "execution_count": 4,
   "metadata": {},
   "outputs": [
    {
     "name": "stdout",
     "output_type": "stream",
     "text": [
      "1\n"
     ]
    }
   ],
   "source": [
    "li=[2,1,5,2,3,2]\n",
    "li=[2,1,5,2,8]\n",
    "#li=[3,4,1,1,6]\n",
    "s = 7\n",
    "add = 0\n",
    "index = 1\n",
    "length = len(li)\n",
    "for i in li:\n",
    "    if i >= s:\n",
    "        length = 1\n",
    "        break\n",
    "    if add + i >= s:\n",
    "        if index < length:\n",
    "            length = index    \n",
    "        index = 1\n",
    "        add = i\n",
    "    else:\n",
    "        add += i\n",
    "    index+=1\n",
    "print(length)"
   ]
  },
  {
   "cell_type": "markdown",
   "metadata": {},
   "source": [
    "### Double For Loop"
   ]
  },
  {
   "cell_type": "code",
   "execution_count": 16,
   "metadata": {},
   "outputs": [
    {
     "name": "stdout",
     "output_type": "stream",
     "text": [
      "2\n"
     ]
    }
   ],
   "source": [
    "li = [2,1,5,2,3,2]\n",
    "s = 7\n",
    "len_li = len(li)\n",
    "length = len_li\n",
    "for i in range(len_li):\n",
    "    add,cnt = 0,0\n",
    "    for j in range(i,len_li):\n",
    "        add = add+li[j]\n",
    "        cnt+=1\n",
    "        if add >= s:\n",
    "            if cnt < length:\n",
    "                length = cnt\n",
    "            break\n",
    "print(length)"
   ]
  },
  {
   "cell_type": "code",
   "execution_count": 2,
   "metadata": {},
   "outputs": [
    {
     "name": "stdout",
     "output_type": "stream",
     "text": [
      "2\n"
     ]
    }
   ],
   "source": [
    "li=[2,1,5,2,3,2]\n",
    "#li=[2,1,5,2,8]\n",
    "#li=[3,4,1,1,6]\n",
    "s = 7\n",
    "add = 0\n",
    "index = 1\n",
    "length = len(li)\n",
    "for i in li:\n",
    "    if i >= s:\n",
    "        length = 1\n",
    "        break\n",
    "    if add + i >= s:\n",
    "        if index < length:\n",
    "            length = index  \n",
    "        index = 1\n",
    "        add = i\n",
    "    else:\n",
    "        add += i\n",
    "    index+=1\n",
    "print(length)"
   ]
  },
  {
   "cell_type": "markdown",
   "metadata": {},
   "source": [
    "# 16. PairSum"
   ]
  },
  {
   "cell_type": "markdown",
   "metadata": {},
   "source": [
    "You have been given an integer array A and a number K. Now, you need to find out whether any two different elements of the array A sum to the number K. \n",
    "Two elements are considered to be different if they lie at different positions in the array. \n",
    "If there exists such a pair of numbers, print \"YES\" (without quotes), else print \"NO\" without quotes.\n",
    "\n",
    "Input Format:\n",
    "\n",
    "The first line consists of two integers N, denoting the size of array A and K. The next line consists of N space separated integers denoting the elements of the array A.\n",
    "\n",
    "Output Format:\n",
    "\n",
    "Print the required answer on a single line.\n",
    "\n",
    "5 9\n",
    "1 2 4 3 5\n",
    "\n",
    "Output:\n",
    "YES"
   ]
  },
  {
   "cell_type": "markdown",
   "metadata": {},
   "source": [
    "### Single for loop"
   ]
  },
  {
   "cell_type": "code",
   "execution_count": 24,
   "metadata": {},
   "outputs": [
    {
     "name": "stdout",
     "output_type": "stream",
     "text": [
      "NO\n"
     ]
    }
   ],
   "source": [
    "#Shushant's code\n",
    "import time\n",
    "li = [4,2,3,2,8]\n",
    "k = 8\n",
    "def pair_sum(input_arr,target_sum):\n",
    "    input_map = {}\n",
    "    for num in input_arr:\n",
    "        if num in input_map:\n",
    "            return 'YES'\n",
    "        else:\n",
    "            input_map[target_sum - num] = 1\n",
    "    return 'NO'\n",
    "start_time = time.time()\n",
    "print(pair_sum(li,k))"
   ]
  },
  {
   "cell_type": "code",
   "execution_count": 25,
   "metadata": {},
   "outputs": [
    {
     "data": {
      "text/plain": [
       "'YES'"
      ]
     },
     "execution_count": 25,
     "metadata": {},
     "output_type": "execute_result"
    }
   ],
   "source": [
    "#slow\n",
    "li = [6,2,3,2,8]\n",
    "k = 8\n",
    "def check_sum(li,k):\n",
    "    if k/2 in li and li.count(k/2) > 1:\n",
    "        return 'YES'\n",
    "    li = list(set(li))\n",
    "    for i in range(len(li)):\n",
    "        if k - li[i] in li[:i]:\n",
    "            return 'YES'\n",
    "    return 'NO'\n",
    "check_sum(li,k)"
   ]
  },
  {
   "cell_type": "markdown",
   "metadata": {},
   "source": [
    "### Double for"
   ]
  },
  {
   "cell_type": "code",
   "execution_count": 9,
   "metadata": {},
   "outputs": [
    {
     "data": {
      "text/plain": [
       "'NO'"
      ]
     },
     "execution_count": 9,
     "metadata": {},
     "output_type": "execute_result"
    }
   ],
   "source": [
    "li = [1,2,3,2,1]\n",
    "k = 8\n",
    "def check_sum(li,k):\n",
    "    len_li = len(li)\n",
    "    for i in range(len_li):\n",
    "        for j in range(i+1,len_li):\n",
    "            if li[i]+li[j] == k:\n",
    "                return 'YES'\n",
    "    return 'NO'\n",
    "start_time = time.time()\n",
    "check_sum(li,k)"
   ]
  },
  {
   "cell_type": "code",
   "execution_count": null,
   "metadata": {},
   "outputs": [],
   "source": []
  }
 ],
 "metadata": {
  "kernelspec": {
   "display_name": "Python 3",
   "language": "python",
   "name": "python3"
  },
  "language_info": {
   "codemirror_mode": {
    "name": "ipython",
    "version": 3
   },
   "file_extension": ".py",
   "mimetype": "text/x-python",
   "name": "python",
   "nbconvert_exporter": "python",
   "pygments_lexer": "ipython3",
   "version": "3.7.3"
  }
 },
 "nbformat": 4,
 "nbformat_minor": 2
}
