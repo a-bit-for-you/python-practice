{
 "cells": [
  {
   "cell_type": "code",
   "execution_count": 6,
   "metadata": {},
   "outputs": [
    {
     "name": "stdout",
     "output_type": "stream",
     "text": [
      "Processing finished in 32.47713303565979 seconds.\n"
     ]
    }
   ],
   "source": [
    "import time\n",
    "start_time = time.time()\n",
    "for _ in range(1000):\n",
    "    def averages(li,k):\n",
    "        s = sum(li[:k])\n",
    "        yield s/k\n",
    "        for i in range(len(li)-k):\n",
    "            s = s-(li[i])+(li[i+k])\n",
    "            yield s/k\n",
    "    list(averages([1,3,2,6,-1,4,1,8,2]*10000,5))\n",
    "print('Processing finished in' ,time.time() - start_time,'seconds.')"
   ]
  },
  {
   "cell_type": "code",
   "execution_count": null,
   "metadata": {},
   "outputs": [],
   "source": []
  }
 ],
 "metadata": {
  "kernelspec": {
   "display_name": "Python 3",
   "language": "python",
   "name": "python3"
  },
  "language_info": {
   "codemirror_mode": {
    "name": "ipython",
    "version": 3
   },
   "file_extension": ".py",
   "mimetype": "text/x-python",
   "name": "python",
   "nbconvert_exporter": "python",
   "pygments_lexer": "ipython3",
   "version": "3.7.3"
  }
 },
 "nbformat": 4,
 "nbformat_minor": 4
}
