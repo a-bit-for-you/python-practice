{
 "cells": [
  {
   "cell_type": "code",
   "execution_count": 4,
   "metadata": {},
   "outputs": [
    {
     "name": "stdout",
     "output_type": "stream",
     "text": [
      "Processing finished in 4.6605706214904785 seconds.\n"
     ]
    }
   ],
   "source": [
    "import time \n",
    "start_time = time.time()\n",
    "def fun():\n",
    "    a = [3,0,1,1,6]*2000\n",
    "    s = 8\n",
    "    var=0\n",
    "    for _ in range(len(a)):\n",
    "        var+=1\n",
    "        for x in range(len(a)):\n",
    "            if sum(a[x:x+var])>=s:\n",
    "                return var\n",
    "for _ in range(1000):\n",
    "    fun()\n",
    "print('Processing finished in' ,time.time() - start_time,'seconds.')"
   ]
  },
  {
   "cell_type": "code",
   "execution_count": 9,
   "metadata": {},
   "outputs": [
    {
     "name": "stdout",
     "output_type": "stream",
     "text": [
      "Processing finished in 25.10250687599182 seconds.\n"
     ]
    }
   ],
   "source": [
    "import time \n",
    "start_time = time.time()\n",
    "def fun():\n",
    "    a=[3,4,1,1,6]*20000\n",
    "    s=8\n",
    "    var=0\n",
    "    len_a = len(a)\n",
    "    for _ in range(len_a):\n",
    "        var+=1\n",
    "        num=sum(a[0:var])\n",
    "        if num>=s:\n",
    "            return var\n",
    "        else:\n",
    "            for x in range(var,len_a):\n",
    "                num=num+(a[x]-a[x-var])\n",
    "                if num>=s:\n",
    "                    return var\n",
    "\n",
    "for _ in range(1000):\n",
    "    fun()\n",
    "print('Processing finished in' ,time.time() - start_time,'seconds.')"
   ]
  }
 ],
 "metadata": {
  "kernelspec": {
   "display_name": "Python 3",
   "language": "python",
   "name": "python3"
  },
  "language_info": {
   "codemirror_mode": {
    "name": "ipython",
    "version": 3
   },
   "file_extension": ".py",
   "mimetype": "text/x-python",
   "name": "python",
   "nbconvert_exporter": "python",
   "pygments_lexer": "ipython3",
   "version": "3.7.3"
  }
 },
 "nbformat": 4,
 "nbformat_minor": 4
}
