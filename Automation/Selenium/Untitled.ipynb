{
 "cells": [
  {
   "cell_type": "code",
   "execution_count": 1,
   "metadata": {},
   "outputs": [],
   "source": [
    "from selenium import webdriver\n",
    "from selenium.webdriver.common.keys import Keys\n",
    "from selenium.webdriver.common.by import By\n",
    "from selenium.webdriver.support.ui import WebDriverWait\n",
    "from selenium.webdriver.support import expected_conditions as ec\n",
    "import time\n",
    "from selenium.webdriver.support.select import Select\n",
    "from selenium import webdriver\n",
    "\n",
    "#driver = webdriver.Chrome('C:\\Users\\prapunj.tiwari\\Downloads\\chromedriver_win32')  # Optional argument, if not specified will search path.\n",
    "\n",
    "#functions\n",
    "def bw(xpath):\n",
    "    e = WebDriverWait(browser, 30).until(ec.visibility_of_element_located((By.XPATH, xpath)))\n",
    "    e.click()\n",
    "    \n",
    "def tw(xpath,text):\n",
    "    e = WebDriverWait(browser, 30).until(ec.visibility_of_element_located((By.XPATH, xpath)))\n",
    "    e.send_keys(text)\n",
    "\n",
    "options = webdriver.ChromeOptions()\n",
    "\n",
    "browser = webdriver.Chrome('chromedriver')\n",
    "browser.maximize_window()\n",
    "browser.get('https://internshala.com/')\n",
    "\n",
    "bw('//*[@id=\"header\"]/div/nav/div[3]/ul/li[4]/button')  # login button\n",
    "tw('//*[@id=\"modal_email\"]','info@softoscience.com')  # email\n",
    "tw('//*[@id=\"modal_password\"]','Softo@1496')  # password\n",
    "bw('//*[@id=\"modal_login_submit\"]')  # login button\n",
    "bw('//*[@id=\"969333\"]/td[5]/a/button')  # view applicants\n",
    "\n",
    "application_page = browser.page_source\n"
   ]
  },
  {
   "cell_type": "code",
   "execution_count": null,
   "metadata": {},
   "outputs": [],
   "source": []
  }
 ],
 "metadata": {
  "kernelspec": {
   "display_name": "Python 3",
   "language": "python",
   "name": "python3"
  },
  "language_info": {
   "codemirror_mode": {
    "name": "ipython",
    "version": 3
   },
   "file_extension": ".py",
   "mimetype": "text/x-python",
   "name": "python",
   "nbconvert_exporter": "python",
   "pygments_lexer": "ipython3",
   "version": "3.7.3"
  }
 },
 "nbformat": 4,
 "nbformat_minor": 4
}
