{
 "cells": [
  {
   "cell_type": "code",
   "execution_count": 2,
   "metadata": {},
   "outputs": [],
   "source": [
    "from selenium import webdriver\n",
    "from selenium.webdriver.common.keys import Keys\n",
    "from selenium.webdriver.common.by import By\n",
    "from selenium.webdriver.support.ui import WebDriverWait\n",
    "from selenium.webdriver.support import expected_conditions as ec\n",
    "import time\n",
    "from selenium.webdriver.support.select import Select\n",
    "from selenium import webdriver\n",
    "\n",
    "#driver = webdriver.Chrome('C:\\Users\\prapunj.tiwari\\Downloads\\chromedriver_win32')  # Optional argument, if not specified will search path.\n",
    "\n",
    "#functions\n",
    "def button_wait(xpath):\n",
    "    e = WebDriverWait(browser, 30).until(ec.visibility_of_element_located((By.XPATH, xpath)))\n",
    "    e.click()\n",
    "def text_wait(xpath,text):\n",
    "    e = WebDriverWait(browser, 30).until(ec.visibility_of_element_located((By.XPATH, xpath)))\n",
    "    e.send_keys(text)\n",
    "\n",
    "options = webdriver.ChromeOptions()\n",
    "\n",
    "browser = webdriver.Chrome('chromedriver')\n",
    "browser.maximize_window()\n",
    "\n",
    "#browser.add_cookie('__cfduid=d713c205ffd1c0cc973e07c6652c66b631596313944; csrf_token=NNUH5FzP56ag; _ga=GA1.2.1251703900.1596313969; _gid=GA1.2.373049007.1596313969; hide_push_msg=1; btc_address=1BNZiDKPq4wK8os5QDZ4X1wubapZTMD4ep; password=78f37d84bec43f38dc1266f7e0bba752e64c0d8ed0079e7b04b15f5b2ab07d87; have_account=1; login_auth=1306ecd77d54e7e9d2fdd1e6afae56cda5d8ab481ccb86a90684afd8da2e3bc6; _gat=1')\n",
    "browser.get('https://freebitco.in/')\n",
    "button_wait('/html/body/div[2]/div/nav/section/ul/li[10]/a')\n",
    "#button_wait('/html/body/div[16]/div[1]/div[2]/div/div[2]')\n",
    "text_wait('//*[@id=\"login_form_btc_address\"]','praptech@gmail.com')\n",
    "text_wait('//*[@id=\"login_form_password\"]','Pr@12345')\n",
    "button_wait('//*[@id=\"login_button\"]')\n",
    "#button_waiton_wait('//*[@id=\"push_notification_modal\"]/div[1]/div[2]/div/div[2]')\n",
    "button_wait('//*[@id=\"free_play_link_li\"]/a')\n",
    "#button_wait('//*[@id=\"recaptcha-anchor\"]/div[1]')\n",
    "button_wait('//*[@id=\"push_notification_modal\"]/div[1]/div[2]/div/div[1]')\n",
    "button_wait('/html/body/div[1]/div/a[1]')\n",
    "#button_wait('/html/body/div[2]/div[3]/div[1]/div/div/span/div[1]')\n",
    "button_wait('//*[@id=\"play_with_captcha_button\"])"
   ]
  },
  {
   "cell_type": "code",
   "execution_count": null,
   "metadata": {},
   "outputs": [],
   "source": []
  }
 ],
 "metadata": {
  "kernelspec": {
   "display_name": "Python 3",
   "language": "python",
   "name": "python3"
  },
  "language_info": {
   "codemirror_mode": {
    "name": "ipython",
    "version": 3
   },
   "file_extension": ".py",
   "mimetype": "text/x-python",
   "name": "python",
   "nbconvert_exporter": "python",
   "pygments_lexer": "ipython3",
   "version": "3.7.3"
  }
 },
 "nbformat": 4,
 "nbformat_minor": 4
}
