{
 "cells": [
  {
   "cell_type": "markdown",
   "metadata": {},
   "source": [
    "# Open Jupyter notebook"
   ]
  },
  {
   "cell_type": "code",
   "execution_count": 13,
   "metadata": {},
   "outputs": [],
   "source": [
    "import pyautogui as pg\n",
    "import time\n",
    "time.sleep(0.5)\n",
    "def press(command):\n",
    "    pg.press(command)\n",
    "    time.sleep(2)\n",
    "\n",
    "def typewrite(command):\n",
    "    pg.typewrite(command)\n",
    "    time.sleep(2)\n",
    "    \n",
    "press('win')\n",
    "typewrite('Anaconda')\n",
    "press('enter')\n",
    "typewrite('f:')\n",
    "press('enter')\n",
    "typewrite('jupyter notebook')\n",
    "press('enter')"
   ]
  },
  {
   "cell_type": "markdown",
   "metadata": {},
   "source": [
    "# Create directories"
   ]
  },
  {
   "cell_type": "code",
   "execution_count": 3,
   "metadata": {},
   "outputs": [],
   "source": [
    "import pyautogui as pg\n",
    "import time\n",
    "time.sleep(1)\n",
    "def press(command):\n",
    "    pg.press(command)\n",
    "    time.sleep(1)\n",
    "    \n",
    "def hotkey(*command):\n",
    "    pg.hotkey(*command)\n",
    "    time.sleep(1)\n",
    "    \n",
    "def typewrite(command):\n",
    "    pg.typewrite(command)\n",
    "    time.sleep(1)\n",
    "\n",
    "\n",
    "def click(x,y):\n",
    "    pg.click(x,y)\n",
    "    time.sleep(2)\n",
    "\n",
    "\n",
    "hotkey('win', 'e') #opens file explorer\n",
    "click(x=78, y=230) #find outs desktop\n",
    "click(x=483, y=101)# create new folder\n",
    "pg.typewrite('Schools')\n",
    "press('enter')\n",
    "press('enter')\n",
    "\n",
    "for i in range(1,6):\n",
    "    click(x=483, y=101)# create new folder\n",
    "    typewrite(f'school{i}')\n",
    "    press('enter')\n",
    "\n",
    "\n"
   ]
  },
  {
   "cell_type": "markdown",
   "metadata": {},
   "source": [
    "print(pg.position())"
   ]
  },
  {
   "cell_type": "markdown",
   "metadata": {},
   "source": [
    "# Searching for image"
   ]
  },
  {
   "cell_type": "code",
   "execution_count": 2,
   "metadata": {},
   "outputs": [],
   "source": [
    "import pyautogui as pg\n",
    "import time\n",
    "time.sleep(0.5)\n",
    "def press(command):\n",
    "    pg.press(command)\n",
    "    time.sleep(2)\n",
    "\n",
    "def typewrite(command):\n",
    "    pg.typewrite(command)\n",
    "    time.sleep(2)\n",
    "      \n",
    "\n",
    "def click(x,y):\n",
    "    pg.click(x,y)\n",
    "    time.sleep(2)\n",
    "    \n",
    "click(x=612, y=748)#opens google chrome\n",
    "typewrite('https://www.google.co.in/imghp?hl=en')\n",
    "press('enter')\n",
    "typewrite('tulip')\n",
    "press('enter')"
   ]
  },
  {
   "cell_type": "code",
   "execution_count": 58,
   "metadata": {},
   "outputs": [
    {
     "name": "stdout",
     "output_type": "stream",
     "text": [
      "school1\n",
      "school2\n",
      "school3\n",
      "school4\n",
      "school5\n"
     ]
    }
   ],
   "source": [
    "for i in range(1,6):\n",
    "    print(f'school{i}')"
   ]
  },
  {
   "cell_type": "code",
   "execution_count": 1,
   "metadata": {},
   "outputs": [],
   "source": [
    "#open yrkkh serial\n",
    "import pyautogui as pg\n",
    "import time\n",
    "time.sleep(1)\n",
    "def press(command):\n",
    "    pg.press(command)\n",
    "    time.sleep(1)\n",
    "    \n",
    "def hotkey(*command):\n",
    "    pg.hotkey(*command)\n",
    "    time.sleep(1)\n",
    "    \n",
    "def typewrite(command):\n",
    "    pg.typewrite(command)\n",
    "    time.sleep(1)\n",
    "\n",
    "\n",
    "def click(x,y):\n",
    "    pg.click(x,y)\n",
    "    time.sleep(2)\n",
    "press(\"win\")\n",
    "typewrite(\"priya chrome\")\n",
    "press(\"enter\")\n",
    "typewrite(\"yeh rishta kya kahelata hai on hotstar\")\n",
    "press(\"enter\")\n",
    "click(x=540, y=374)\n",
    "press(\"enter\")\n",
    "click(x=211, y=667)\n",
    "press(\"enter\")\n",
    "\n",
    "\n"
   ]
  },
  {
   "cell_type": "code",
   "execution_count": 11,
   "metadata": {},
   "outputs": [
    {
     "name": "stdout",
     "output_type": "stream",
     "text": [
      "Point(x=211, y=667)\n"
     ]
    }
   ],
   "source": [
    "import pyautogui as pg\n",
    "print(pg.position())"
   ]
  },
  {
   "cell_type": "code",
   "execution_count": null,
   "metadata": {},
   "outputs": [],
   "source": []
  }
 ],
 "metadata": {
  "kernelspec": {
   "display_name": "Python 3",
   "language": "python",
   "name": "python3"
  },
  "language_info": {
   "codemirror_mode": {
    "name": "ipython",
    "version": 3
   },
   "file_extension": ".py",
   "mimetype": "text/x-python",
   "name": "python",
   "nbconvert_exporter": "python",
   "pygments_lexer": "ipython3",
   "version": "3.7.3"
  }
 },
 "nbformat": 4,
 "nbformat_minor": 4
}
