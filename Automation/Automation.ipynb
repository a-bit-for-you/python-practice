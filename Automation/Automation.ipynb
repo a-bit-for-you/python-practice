{
 "cells": [
  {
   "cell_type": "markdown",
   "metadata": {},
   "source": [
    "# Open Jupyter notebook"
   ]
  },
  {
   "cell_type": "code",
   "execution_count": 13,
   "metadata": {},
   "outputs": [],
   "source": [
    "import pyautogui as pg\n",
    "import time\n",
    "time.sleep(0.5)\n",
    "def press(command):\n",
    "    pg.press(command)\n",
    "    time.sleep(2)\n",
    "\n",
    "def typewrite(command):\n",
    "    pg.typewrite(command)\n",
    "    time.sleep(2)\n",
    "    \n",
    "press('win')\n",
    "typewrite('Anaconda')\n",
    "press('enter')\n",
    "typewrite('f:')\n",
    "press('enter')\n",
    "typewrite('jupyter notebook')\n",
    "press('enter')"
   ]
  },
  {
   "cell_type": "markdown",
   "metadata": {},
   "source": [
    "# Create directories"
   ]
  },
  {
   "cell_type": "code",
   "execution_count": 3,
   "metadata": {},
   "outputs": [],
   "source": [
    "import pyautogui as pg\n",
    "import time\n",
    "time.sleep(1)\n",
    "def press(command):\n",
    "    pg.press(command)\n",
    "    time.sleep(1)\n",
    "    \n",
    "def hotkey(*command):\n",
    "    pg.hotkey(*command)\n",
    "    time.sleep(1)\n",
    "    \n",
    "def typewrite(command):\n",
    "    pg.typewrite(command)\n",
    "    time.sleep(1)\n",
    "\n",
    "\n",
    "def click(x,y):\n",
    "    pg.click(x,y)\n",
    "    time.sleep(2)\n",
    "\n",
    "\n",
    "hotkey('win', 'e') #opens file explorer\n",
    "click(x=78, y=230) #find outs desktop\n",
    "click(x=483, y=101)# create new folder\n",
    "pg.typewrite('Schools')\n",
    "press('enter')\n",
    "press('enter')\n",
    "\n",
    "for i in range(1,6):\n",
    "    click(x=483, y=101)# create new folder\n",
    "    typewrite(f'school{i}')\n",
    "    press('enter')\n",
    "\n",
    "\n"
   ]
  },
  {
   "cell_type": "markdown",
   "metadata": {},
   "source": [
    "print(pg.position())"
   ]
  },
  {
   "cell_type": "markdown",
   "metadata": {},
   "source": [
    "# Searching for image"
   ]
  },
  {
   "cell_type": "code",
   "execution_count": 2,
   "metadata": {},
   "outputs": [],
   "source": [
    "import pyautogui as pg\n",
    "import time\n",
    "time.sleep(0.5)\n",
    "def press(command):\n",
    "    pg.press(command)\n",
    "    time.sleep(2)\n",
    "\n",
    "def typewrite(command):\n",
    "    pg.typewrite(command)\n",
    "    time.sleep(2)\n",
    "      \n",
    "\n",
    "def click(x,y):\n",
    "    pg.click(x,y)\n",
    "    time.sleep(2)\n",
    "    \n",
    "click(x=612, y=748)#opens google chrome\n",
    "typewrite('https://www.google.co.in/imghp?hl=en')\n",
    "press('enter')\n",
    "typewrite('tulip')\n",
    "press('enter')"
   ]
  },
  {
   "cell_type": "code",
   "execution_count": 58,
   "metadata": {},
   "outputs": [
    {
     "name": "stdout",
     "output_type": "stream",
     "text": [
      "school1\n",
      "school2\n",
      "school3\n",
      "school4\n",
      "school5\n"
     ]
    }
   ],
   "source": [
    "for i in range(1,6):\n",
    "    print(f'school{i}')"
   ]
  },
  {
   "cell_type": "code",
   "execution_count": 2,
   "metadata": {},
   "outputs": [],
   "source": [
    "#open yrkkh serial\n",
    "import pyautogui as pg\n",
    "import time\n",
    "time.sleep(1)\n",
    "def press(command):\n",
    "    pg.press(command)\n",
    "    time.sleep(1)\n",
    "    \n",
    "def hotkey(*command):\n",
    "    pg.hotkey(*command)\n",
    "    \n",
    "    time.sleep(1)\n",
    "    \n",
    "def typewrite(command):\n",
    "    pg.typewrite(command)\n",
    "    time.sleep(1)\n",
    "\n",
    "\n",
    "def click(x,y):\n",
    "    pg.click(x,y)\n",
    "    time.sleep(2)\n",
    "press(\"win\")\n",
    "typewrite(\"priya chrome\")\n",
    "press(\"enter\")\n",
    "typewrite(\"yeh rishta kya kahelata hai on hotstar\")\n",
    "press(\"enter\")\n",
    "click(x=540, y=374)\n",
    "press(\"enter\")\n",
    "click(x=211, y=667)\n",
    "press(\"enter\")\n",
    "\n",
    "\n",
    "\n"
   ]
  },
  {
   "cell_type": "code",
   "execution_count": 2,
   "metadata": {},
   "outputs": [
    {
     "name": "stdout",
     "output_type": "stream",
     "text": [
      "Point(x=413, y=80)\n"
     ]
    }
   ],
   "source": [
    "import pyautogui as pg\n",
    "print(pg.position())"
   ]
  },
  {
   "cell_type": "code",
   "execution_count": 3,
   "metadata": {},
   "outputs": [],
   "source": [
    "from selenium import webdriver\n",
    "from selenium.webdriver.common.keys import Keys\n",
    "from selenium.webdriver.common.by import By\n",
    "from selenium.webdriver.support.ui import WebDriverWait\n",
    "from selenium.webdriver.support import expected_conditions as ec\n",
    "from datetime import datetime\n",
    "from datetime import date\n",
    "import time\n",
    "import pyautogui as pg\n",
    "\n",
    "\n",
    "#functions\n",
    "def button_wait(xpath):\n",
    "    e = WebDriverWait(driver, 20).until(ec.visibility_of_element_located((By.XPATH, xpath)))\n",
    "    e.click()\n",
    "    \n",
    "def text_wait(xpath,text):\n",
    "    e = WebDriverWait(driver, 20).until(ec.visibility_of_element_located((By.XPATH, xpath)))\n",
    "    e.send_keys(text)\n",
    "    \n",
    "def text_wait_enter(xpath,text):\n",
    "    e = WebDriverWait(driver, 20).until(ec.visibility_of_element_located((By.XPATH, xpath)))\n",
    "    e.send_keys(text)\n",
    "    e.send_keys(Keys.ENTER)\n",
    "    \n",
    "options = webdriver.ChromeOptions()\n",
    "#options.add_argument('--headless')\n",
    "driver=webdriver.Chrome('chromedriver')\n",
    "driver.maximize_window()\n",
    "driver.get('https://www.instagram.com/')\n",
    "text_wait('//*[@id=\"react-root\"]/section/main/article/div[2]/div[1]/div/form/div[2]/div/label/input','im.aarohi_')\n",
    "text_wait_enter('//*[@id=\"react-root\"]/section/main/article/div[2]/div[1]/div/form/div[3]/div/label/input','Pihu@321')\n",
    "button_wait('//*[@id=\"react-root\"]/section/main/div/div/div/div/button')#asking login info\n",
    "button_wait('/html/body/div[4]/div/div/div/div[3]/button[2]')#notification\n",
    "driver.get('https://www.instagram.com/im.aarohi_/')"
   ]
  },
  {
   "cell_type": "code",
   "execution_count": 11,
   "metadata": {},
   "outputs": [
    {
     "ename": "TimeoutException",
     "evalue": "Message: \n",
     "output_type": "error",
     "traceback": [
      "\u001b[1;31m---------------------------------------------------------------------------\u001b[0m",
      "\u001b[1;31mTimeoutException\u001b[0m                          Traceback (most recent call last)",
      "\u001b[1;32m<ipython-input-11-0ffe078ce106>\u001b[0m in \u001b[0;36m<module>\u001b[1;34m\u001b[0m\n\u001b[0;32m     38\u001b[0m \u001b[0mpress\u001b[0m\u001b[1;33m(\u001b[0m\u001b[1;34m'esc'\u001b[0m\u001b[1;33m)\u001b[0m\u001b[1;33m\u001b[0m\u001b[1;33m\u001b[0m\u001b[0m\n\u001b[0;32m     39\u001b[0m \u001b[0mtime\u001b[0m\u001b[1;33m.\u001b[0m\u001b[0msleep\u001b[0m\u001b[1;33m(\u001b[0m\u001b[1;36m1\u001b[0m\u001b[1;33m)\u001b[0m\u001b[1;33m\u001b[0m\u001b[1;33m\u001b[0m\u001b[0m\n\u001b[1;32m---> 40\u001b[1;33m \u001b[0mbutton_wait\u001b[0m\u001b[1;33m(\u001b[0m\u001b[1;34m'/html/body/div[1]/div[3]/div[1]/div/div[2]/div[2]/div[1]/div[2]/div/div[3]/div/div/div[2]/div[1]/div/div/div/div[2]/div/div[1]/div/div[1]/div[1]/div[2]/div/div/div/div/div/div/div[2]/div/div/div/div'\u001b[0m\u001b[1;33m)\u001b[0m\u001b[1;33m\u001b[0m\u001b[1;33m\u001b[0m\u001b[0m\n\u001b[0m\u001b[0;32m     41\u001b[0m \u001b[0mtext_wait\u001b[0m\u001b[1;33m(\u001b[0m\u001b[1;34m'//*[@id=\"js_2k\"]/div[1]/div/div[1]/div[1]/div[2]/div/div/div/div/div/div/div[2]/div/div/div/div'\u001b[0m\u001b[1;33m,\u001b[0m\u001b[1;34m'hello world'\u001b[0m\u001b[1;33m)\u001b[0m\u001b[1;33m\u001b[0m\u001b[1;33m\u001b[0m\u001b[0m\n",
      "\u001b[1;32m<ipython-input-11-0ffe078ce106>\u001b[0m in \u001b[0;36mbutton_wait\u001b[1;34m(xpath)\u001b[0m\n\u001b[0;32m     12\u001b[0m \u001b[1;31m#functions\u001b[0m\u001b[1;33m\u001b[0m\u001b[1;33m\u001b[0m\u001b[1;33m\u001b[0m\u001b[0m\n\u001b[0;32m     13\u001b[0m \u001b[1;32mdef\u001b[0m \u001b[0mbutton_wait\u001b[0m\u001b[1;33m(\u001b[0m\u001b[0mxpath\u001b[0m\u001b[1;33m)\u001b[0m\u001b[1;33m:\u001b[0m\u001b[1;33m\u001b[0m\u001b[1;33m\u001b[0m\u001b[0m\n\u001b[1;32m---> 14\u001b[1;33m     \u001b[0me\u001b[0m \u001b[1;33m=\u001b[0m \u001b[0mWebDriverWait\u001b[0m\u001b[1;33m(\u001b[0m\u001b[0mdriver\u001b[0m\u001b[1;33m,\u001b[0m \u001b[1;36m20\u001b[0m\u001b[1;33m)\u001b[0m\u001b[1;33m.\u001b[0m\u001b[0muntil\u001b[0m\u001b[1;33m(\u001b[0m\u001b[0mec\u001b[0m\u001b[1;33m.\u001b[0m\u001b[0mvisibility_of_element_located\u001b[0m\u001b[1;33m(\u001b[0m\u001b[1;33m(\u001b[0m\u001b[0mBy\u001b[0m\u001b[1;33m.\u001b[0m\u001b[0mXPATH\u001b[0m\u001b[1;33m,\u001b[0m \u001b[0mxpath\u001b[0m\u001b[1;33m)\u001b[0m\u001b[1;33m)\u001b[0m\u001b[1;33m)\u001b[0m\u001b[1;33m\u001b[0m\u001b[1;33m\u001b[0m\u001b[0m\n\u001b[0m\u001b[0;32m     15\u001b[0m     \u001b[0me\u001b[0m\u001b[1;33m.\u001b[0m\u001b[0mclick\u001b[0m\u001b[1;33m(\u001b[0m\u001b[1;33m)\u001b[0m\u001b[1;33m\u001b[0m\u001b[1;33m\u001b[0m\u001b[0m\n\u001b[0;32m     16\u001b[0m \u001b[1;33m\u001b[0m\u001b[0m\n",
      "\u001b[1;32m~\\Anaconda3\\lib\\site-packages\\selenium\\webdriver\\support\\wait.py\u001b[0m in \u001b[0;36muntil\u001b[1;34m(self, method, message)\u001b[0m\n\u001b[0;32m     78\u001b[0m             \u001b[1;32mif\u001b[0m \u001b[0mtime\u001b[0m\u001b[1;33m.\u001b[0m\u001b[0mtime\u001b[0m\u001b[1;33m(\u001b[0m\u001b[1;33m)\u001b[0m \u001b[1;33m>\u001b[0m \u001b[0mend_time\u001b[0m\u001b[1;33m:\u001b[0m\u001b[1;33m\u001b[0m\u001b[1;33m\u001b[0m\u001b[0m\n\u001b[0;32m     79\u001b[0m                 \u001b[1;32mbreak\u001b[0m\u001b[1;33m\u001b[0m\u001b[1;33m\u001b[0m\u001b[0m\n\u001b[1;32m---> 80\u001b[1;33m         \u001b[1;32mraise\u001b[0m \u001b[0mTimeoutException\u001b[0m\u001b[1;33m(\u001b[0m\u001b[0mmessage\u001b[0m\u001b[1;33m,\u001b[0m \u001b[0mscreen\u001b[0m\u001b[1;33m,\u001b[0m \u001b[0mstacktrace\u001b[0m\u001b[1;33m)\u001b[0m\u001b[1;33m\u001b[0m\u001b[1;33m\u001b[0m\u001b[0m\n\u001b[0m\u001b[0;32m     81\u001b[0m \u001b[1;33m\u001b[0m\u001b[0m\n\u001b[0;32m     82\u001b[0m     \u001b[1;32mdef\u001b[0m \u001b[0muntil_not\u001b[0m\u001b[1;33m(\u001b[0m\u001b[0mself\u001b[0m\u001b[1;33m,\u001b[0m \u001b[0mmethod\u001b[0m\u001b[1;33m,\u001b[0m \u001b[0mmessage\u001b[0m\u001b[1;33m=\u001b[0m\u001b[1;34m''\u001b[0m\u001b[1;33m)\u001b[0m\u001b[1;33m:\u001b[0m\u001b[1;33m\u001b[0m\u001b[1;33m\u001b[0m\u001b[0m\n",
      "\u001b[1;31mTimeoutException\u001b[0m: Message: \n"
     ]
    }
   ],
   "source": [
    "#upload post on facebook\n",
    "from selenium import webdriver\n",
    "from selenium.webdriver.common.keys import Keys\n",
    "from selenium.webdriver.common.by import By\n",
    "from selenium.webdriver.support.ui import WebDriverWait\n",
    "from selenium.webdriver.support import expected_conditions as ec\n",
    "from datetime import datetime\n",
    "from datetime import date\n",
    "import time\n",
    "import pyautogui as pg\n",
    "\n",
    "#functions\n",
    "def button_wait(xpath):\n",
    "    e = WebDriverWait(driver, 20).until(ec.visibility_of_element_located((By.XPATH, xpath)))\n",
    "    e.click()\n",
    "    \n",
    "def text_wait(xpath,text):\n",
    "    e = WebDriverWait(driver, 20).until(ec.visibility_of_element_located((By.XPATH, xpath)))\n",
    "    e.send_keys(text)\n",
    "    \n",
    "def text_wait_enter(xpath,text):\n",
    "    e = WebDriverWait(driver, 20).until(ec.visibility_of_element_located((By.XPATH, xpath)))\n",
    "    e.send_keys(text)\n",
    "    e.send_keys(Keys.ENTER)\n",
    "    \n",
    "def press(command):\n",
    "    pg.press(command)\n",
    "    time.sleep(1)\n",
    "    \n",
    "options = webdriver.ChromeOptions()\n",
    "#options.add_argument('--headless')\n",
    "driver=webdriver.Chrome('chromedriver')\n",
    "driver.maximize_window()\n",
    "driver.get('https://www.facebook.com/')\n",
    "text_wait('//*[@id=\"email\"]','guptapk03111@gmail.com')\n",
    "text_wait_enter('//*[@id=\"pass\"]','Priya@123')\n",
    "time.sleep(6)\n",
    "press('esc')\n",
    "time.sleep(1)\n",
    "button_wait('/html/body/div[1]/div[3]/div[1]/div/div[2]/div[2]/div[1]/div[2]/div/div[3]/div/div/div[2]/div[1]/div/div/div/div[2]/div/div[1]/div/div[1]/div[1]/div[2]/div/div/div/div/div/div/div[2]/div/div/div/div')\n",
    "text_wait('//*[@id=\"js_2k\"]/div[1]/div/div[1]/div[1]/div[2]/div/div/div/div/div/div/div[2]/div/div/div/div','hello world')"
   ]
  },
  {
   "cell_type": "code",
   "execution_count": null,
   "metadata": {},
   "outputs": [],
   "source": []
  }
 ],
 "metadata": {
  "kernelspec": {
   "display_name": "Python 3",
   "language": "python",
   "name": "python3"
  }
 },
 "nbformat": 4,
 "nbformat_minor": 4
}
