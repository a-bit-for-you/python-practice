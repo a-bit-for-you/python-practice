{
 "cells": [
  {
   "cell_type": "code",
   "execution_count": 1,
   "metadata": {},
   "outputs": [],
   "source": [
    "import pyautogui as pg\n",
    "import time\n",
    "from cv2 import *\n",
    "import sys\n",
    "import random\n",
    "\n",
    "def press(command):\n",
    "    pg.press(command)\n",
    "    \n",
    "def hotkey(*command):\n",
    "    pg.hotkey(*command)\n",
    "    \n",
    "def typewrite(command):\n",
    "    pg.typewrite(command)\n",
    "    \n",
    "def click(x,y):\n",
    "    pg.click(x,y)\n",
    "    \n",
    "\n",
    "def click_image(image,confid):\n",
    "    start_time = time.time()\n",
    "    while True:\n",
    "        search = pg.locateOnScreen(image,confidence=confid)\n",
    "        if search is not None:\n",
    "            break\n",
    "        if time.time()-start_time > 40:\n",
    "            sys.exit(f'{image} not found.')\n",
    "        #time.sleep(1)\n",
    "    cordinates = pg.center(search)\n",
    "    pg.click(cordinates.x,cordinates.y)\n"
   ]
  },
  {
   "cell_type": "code",
   "execution_count": 9,
   "metadata": {},
   "outputs": [
    {
     "name": "stdout",
     "output_type": "stream",
     "text": [
      "Processing finished in 3.244997501373291 seconds.\n"
     ]
    }
   ],
   "source": [
    "start_time = time.time()\n",
    "pin = '400067'\n",
    "time.sleep(0.2)\n",
    "for i in range(1,4):\n",
    "    hotkey('ctrl',f'{i}')\n",
    "    click(346, 469)  # enter pin\n",
    "    typewrite(pin)\n",
    "    press('enter')  # search\n",
    "    click_image(r'images/age_18.png', 0.7)  # age filter 18+\n",
    "    click(499, 618)  # age filter 18-44\n",
    "    click(714, 619)  # free filter\n",
    "\n",
    "print('Processing finished in',time.time()-start_time,'seconds.')"
   ]
  },
  {
   "cell_type": "code",
   "execution_count": 7,
   "metadata": {},
   "outputs": [
    {
     "name": "stdout",
     "output_type": "stream",
     "text": [
      "Point(x=346, y=469)\n"
     ]
    }
   ],
   "source": [
    "print(pg.position())"
   ]
  },
  {
   "cell_type": "code",
   "execution_count": 9,
   "metadata": {},
   "outputs": [],
   "source": [
    "pg.click(x=1031, y=2)"
   ]
  }
 ],
 "metadata": {
  "kernelspec": {
   "display_name": "Python 3",
   "language": "python",
   "name": "python3"
  },
  "language_info": {
   "codemirror_mode": {
    "name": "ipython",
    "version": 3
   },
   "file_extension": ".py",
   "mimetype": "text/x-python",
   "name": "python",
   "nbconvert_exporter": "python",
   "pygments_lexer": "ipython3",
   "version": "3.7.3"
  }
 },
 "nbformat": 4,
 "nbformat_minor": 4
}
