{
 "cells": [
  {
   "cell_type": "code",
   "execution_count": 1,
   "metadata": {},
   "outputs": [
    {
     "data": {
      "text/plain": [
       "(221, b'2.0.0 closing connection n22sm8892899pjq.25 - gsmtp')"
      ]
     },
     "execution_count": 1,
     "metadata": {},
     "output_type": "execute_result"
    }
   ],
   "source": [
    "# Python code to illustrate Sending mail with attachments \n",
    "# from your Gmail account \n",
    "\n",
    "# libraries to be imported \n",
    "import smtplib \n",
    "from email.mime.multipart import MIMEMultipart \n",
    "from email.mime.text import MIMEText \n",
    "from email.mime.base import MIMEBase \n",
    "from email import encoders \n",
    "import os\n",
    "\n",
    "from selenium import webdriver\n",
    "from selenium.webdriver.common.keys import Keys\n",
    "from selenium.webdriver.common.by import By\n",
    "from selenium.webdriver.support.ui import WebDriverWait\n",
    "from selenium.webdriver.support import expected_conditions as ec\n",
    "from datetime import datetime\n",
    "from datetime import date\n",
    "import time\n",
    "\n",
    "# Date and time\n",
    "current_time = datetime.now().strftime(\"%H_%M_%S\")\n",
    "current_date = date.today().strftime(\"%d_%b_%Y\")\n",
    "\n",
    "#functions\n",
    "def button_wait(xpath):\n",
    "    e = WebDriverWait(browser, 20).until(ec.visibility_of_element_located((By.XPATH, xpath)))\n",
    "    e.click()\n",
    "    \n",
    "def text_wait(xpath,text):\n",
    "    e = WebDriverWait(browser, 20).until(ec.visibility_of_element_located((By.XPATH, xpath)))\n",
    "    e.send_keys(text)\n",
    "    \n",
    "def text_wait_enter(xpath,text):\n",
    "    e = WebDriverWait(browser, 20).until(ec.visibility_of_element_located((By.XPATH, xpath)))\n",
    "    e.send_keys(text)\n",
    "    e.send_keys(Keys.ENTER)\n",
    "    \n",
    "screenshot_path = 'screenshots'\n",
    "options = webdriver.ChromeOptions()\n",
    "options.add_argument('--headless')\n",
    "driver=webdriver.Chrome('chromedriver',options = options)\n",
    "driver.maximize_window()\n",
    "driver.get('http://kwicky.kanalytics.in/trend/')\n",
    "driver.save_screenshot(f'{screenshot_path}/trending_news_ss{current_date}_{current_time}.png')\n",
    "driver.quit()\n",
    "\n",
    "fromaddr = \"cabtempo@gmail.com\"\n",
    "toaddr = \"guptask1012@gmail.com\"\n",
    "\n",
    "# instance of MIMEMultipart \n",
    "msg = MIMEMultipart() \n",
    "\n",
    "# storing the senders email address \n",
    "msg['From'] = fromaddr \n",
    "\n",
    "# storing the receivers email address \n",
    "msg['To'] = toaddr \n",
    "\n",
    "# storing the subject \n",
    "msg['Subject'] = \"Trending news screenshot\"\n",
    "\n",
    "# string to store the body of the mail \n",
    "body = '''Hi,\n",
    "This is an automated mail which contains screenshot of trending news.\n",
    "\n",
    "Thanks and Regards,\n",
    "Sachin\n",
    "'''\n",
    "\n",
    "# attach the body with the msg instance \n",
    "msg.attach(MIMEText(body, 'plain')) \n",
    "\n",
    "# open the file to be sent \n",
    "#filename = \"trending_news_ss11_Jul_2020_21_38_15.png\"\n",
    "ss_list = os.listdir(screenshot_path)\n",
    "\n",
    "for filename in ss_list:\n",
    "\n",
    "    attachment = open(rf\"{screenshot_path}/{filename}\", \"rb\") \n",
    "\n",
    "    # instance of MIMEBase and named as p \n",
    "    p = MIMEBase('application', 'octet-stream') \n",
    "\n",
    "    # To change the payload into encoded form \n",
    "    p.set_payload((attachment).read()) \n",
    "\n",
    "    # encode into base64 \n",
    "    encoders.encode_base64(p) \n",
    "\n",
    "    p.add_header('Content-Disposition', \"attachment; filename= %s\" % filename) \n",
    "\n",
    "    # attach the instance 'p' to instance 'msg' \n",
    "    msg.attach(p) \n",
    "\n",
    "# creates SMTP session \n",
    "s = smtplib.SMTP('smtp.gmail.com', 587) \n",
    "\n",
    "# start TLS for security \n",
    "s.starttls() \n",
    "\n",
    "# Authentication \n",
    "s.login(fromaddr, \"cabtempo@123\") \n",
    "\n",
    "# Converts the Multipart msg into a string \n",
    "text = msg.as_string() \n",
    "\n",
    "# sending the mail \n",
    "s.sendmail(fromaddr, toaddr, text) \n",
    "\n",
    "# terminating the session \n",
    "s.quit() "
   ]
  },
  {
   "cell_type": "code",
   "execution_count": 2,
   "metadata": {},
   "outputs": [
    {
     "name": "stdout",
     "output_type": "stream",
     "text": [
      "['hello.txt', 'trending_news_ss11_Jul_2020_21_38_15.png', 'trending_news_ss11_Jul_2020_21_51_29.png']\n"
     ]
    }
   ],
   "source": [
    "print(ss_list)"
   ]
  },
  {
   "cell_type": "code",
   "execution_count": null,
   "metadata": {},
   "outputs": [],
   "source": []
  }
 ],
 "metadata": {
  "kernelspec": {
   "display_name": "Python 3",
   "language": "python",
   "name": "python3"
  },
  "language_info": {
   "codemirror_mode": {
    "name": "ipython",
    "version": 3
   },
   "file_extension": ".py",
   "mimetype": "text/x-python",
   "name": "python",
   "nbconvert_exporter": "python",
   "pygments_lexer": "ipython3",
   "version": "3.7.3"
  }
 },
 "nbformat": 4,
 "nbformat_minor": 4
}
