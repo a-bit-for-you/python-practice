{
 "cells": [
  {
   "cell_type": "code",
   "execution_count": 10,
   "metadata": {},
   "outputs": [
    {
     "name": "stdout",
     "output_type": "stream",
     "text": [
      "1 1 1\n",
      "1 2 1\n",
      "3 2 3\n"
     ]
    }
   ],
   "source": [
    "class Parent(object):\n",
    "    x = 1\n",
    "class Child1(Parent):\n",
    "    pass\n",
    "class Child2(Parent):\n",
    "    pass\n",
    "print(Parent.x,Child1.x,Child2.x)\n",
    "Child1.x = 2\n",
    "print(Parent.x,Child1.x,Child2.x)\n",
    "Parent.x = 3\n",
    "print(Parent.x,Child1.x,Child2.x)"
   ]
  },
  {
   "cell_type": "code",
   "execution_count": 30,
   "metadata": {},
   "outputs": [
    {
     "name": "stdout",
     "output_type": "stream",
     "text": [
      "{}\n",
      "[]\n",
      "{'florp': 127}\n"
     ]
    }
   ],
   "source": [
    "class DefaultDict(dict):\n",
    "    def __missing__(self,key):\n",
    "        return []\n",
    "d = DefaultDict()\n",
    "print(d)\n",
    "print(d['florp'])\n",
    "d['florp']=127\n",
    "print(d)"
   ]
  },
  {
   "cell_type": "code",
   "execution_count": 38,
   "metadata": {},
   "outputs": [
    {
     "name": "stdout",
     "output_type": "stream",
     "text": [
      "[<function multipliers.<locals>.<listcomp>.<lambda> at 0x000001C37C9B1620>, <function multipliers.<locals>.<listcomp>.<lambda> at 0x000001C37C9B1D08>, <function multipliers.<locals>.<listcomp>.<lambda> at 0x000001C37C9B1510>, <function multipliers.<locals>.<listcomp>.<lambda> at 0x000001C37C9B1598>]\n",
      "[6, 6, 6, 6]\n"
     ]
    }
   ],
   "source": [
    "def multipliers():\n",
    "    return [lambda x:i*x for i in range(4)]\n",
    "print(multipliers())\n",
    "print([m(2) for m in multipliers()])"
   ]
  },
  {
   "cell_type": "markdown",
   "metadata": {},
   "source": [
    "# Deadlock"
   ]
  },
  {
   "cell_type": "raw",
   "metadata": {},
   "source": [
    "Deadlock is a situation where a set of processes are blocked because each process is holding a resource and waiting for another resource acquired by some other process."
   ]
  },
  {
   "cell_type": "raw",
   "metadata": {},
   "source": [
    "Consider an example when two trains are coming toward each other on same track and there is only one track, none of the trains can move once they are in front of each other."
   ]
  },
  {
   "cell_type": "markdown",
   "metadata": {},
   "source": [
    "# Multi-threading and Multi-processing"
   ]
  },
  {
   "cell_type": "code",
   "execution_count": null,
   "metadata": {},
   "outputs": [],
   "source": []
  }
 ],
 "metadata": {
  "kernelspec": {
   "display_name": "Python 3",
   "language": "python",
   "name": "python3"
  },
  "language_info": {
   "codemirror_mode": {
    "name": "ipython",
    "version": 3
   },
   "file_extension": ".py",
   "mimetype": "text/x-python",
   "name": "python",
   "nbconvert_exporter": "python",
   "pygments_lexer": "ipython3",
   "version": "3.7.3"
  }
 },
 "nbformat": 4,
 "nbformat_minor": 4
}
