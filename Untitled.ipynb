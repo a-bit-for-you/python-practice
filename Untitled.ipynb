{
 "cells": [
  {
   "cell_type": "code",
   "execution_count": 13,
   "metadata": {},
   "outputs": [
    {
     "name": "stdout",
     "output_type": "stream",
     "text": [
      "0 0\n",
      "1 1\n",
      "2 2\n",
      "3 3\n",
      "4 4\n",
      "5 5\n",
      "6 6\n",
      "wins 7\n",
      "loops 10\n"
     ]
    }
   ],
   "source": [
    "team1 = [3, 6, 7, 5, 3, 5, 6, 2, 9, 1]\n",
    "team2 = [2, 7, 0, 9, 3, 6, 0, 6, 2, 6]\n",
    "team1.sort()\n",
    "team2.sort()\n",
    "wins = 0\n",
    "cnt = 0\n",
    "n = len(team2)\n",
    "for i in range(len(team1)):\n",
    "    for j in range(wins,n):\n",
    "        cnt+=1\n",
    "        \n",
    "        if team1[i] > team2[j]:\n",
    "            print(wins,j)\n",
    "            wins+=1\n",
    "            break\n",
    "        else:\n",
    "            n-=1\n",
    "            break\n",
    "print('wins',wins)\n",
    "print('loops',cnt)"
   ]
  },
  {
   "cell_type": "raw",
   "metadata": {},
   "source": [
    "10\n",
    "3 6 7 5 3 5 6 2 9 1 \n",
    "2 7 0 9 3 6 0 6 2 6\n",
    "output 7\n",
    "\n",
    "20 50 30\n",
    "60 40 25\n",
    "output 2"
   ]
  },
  {
   "cell_type": "code",
   "execution_count": 44,
   "metadata": {},
   "outputs": [
    {
     "name": "stdout",
     "output_type": "stream",
     "text": [
      "7\n"
     ]
    }
   ],
   "source": [
    "team1 = [24,30,50]\n",
    "team2 = [25,40,60]\n",
    "team1 = [3, 6, 7, 5, 3, 5, 6, 2, 9, 1]\n",
    "team2 = [2, 7, 0, 9, 3, 6, 0, 6, 2, 6]\n",
    "team1.sort()\n",
    "team2.sort()\n",
    "wins = 0\n",
    "for i in team1:\n",
    "    if i > team2[wins]:wins+=1\n",
    "print(wins)"
   ]
  },
  {
   "cell_type": "code",
   "execution_count": 1,
   "metadata": {},
   "outputs": [
    {
     "name": "stdout",
     "output_type": "stream",
     "text": [
      "7\n"
     ]
    }
   ],
   "source": [
    "#team1 = [24,30,50]\n",
    "#team2 = [25,40,60]\n",
    "team1 = [3, 6, 7, 5, 3, 5, 6, 2, 9, 1]\n",
    "team2 = [2, 7, 0, 9, 3, 6, 0, 6, 2, 6]\n",
    "team1.sort()\n",
    "team2.sort()\n",
    "wins = 0\n",
    "for i in team1:\n",
    "    if i > team2[wins]:wins+=1\n",
    "print(wins)"
   ]
  },
  {
   "cell_type": "raw",
   "metadata": {},
   "source": [
    "10\n",
    "3 6 7 5 3 5 6 2 9 1 \n",
    "2 7 0 9 3 6 0 6 2 6\n",
    "output 7\n",
    "\n",
    "20 50 30\n",
    "60 40 25\n",
    "output 2"
   ]
  },
  {
   "cell_type": "code",
   "execution_count": 47,
   "metadata": {},
   "outputs": [
    {
     "name": "stdout",
     "output_type": "stream",
     "text": [
      "2\n",
      "10\n",
      "3 6 7 5 3 5 6 2 9 1\n",
      "2 7 0 9 3 6 0 6 2 6\n",
      "7\n",
      "3\n",
      "20 50 30\n",
      "60 40 25\n",
      "2\n"
     ]
    }
   ],
   "source": [
    "test_cases = int(input())\n",
    "for _ in range(test_cases):\n",
    "    n = int(input())\n",
    "    team1 = list(map(int,input().split()))[:n]\n",
    "    team2 = list(map(int,input().split()))[:n]\n",
    "    team1.sort()\n",
    "    team2.sort()\n",
    "    wins = 0\n",
    "    for i in team1:\n",
    "        if i > team2[wins]:wins+=1\n",
    "    print(wins)"
   ]
  }
 ],
 "metadata": {
  "kernelspec": {
   "display_name": "Python 3",
   "language": "python",
   "name": "python3"
  },
  "language_info": {
   "codemirror_mode": {
    "name": "ipython",
    "version": 3
   },
   "file_extension": ".py",
   "mimetype": "text/x-python",
   "name": "python",
   "nbconvert_exporter": "python",
   "pygments_lexer": "ipython3",
   "version": "3.7.3"
  }
 },
 "nbformat": 4,
 "nbformat_minor": 4
}
