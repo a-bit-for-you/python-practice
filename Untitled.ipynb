{
 "cells": [
  {
   "cell_type": "code",
   "execution_count": 73,
   "metadata": {},
   "outputs": [
    {
     "name": "stdout",
     "output_type": "stream",
     "text": [
      "0.2692878246307373\n"
     ]
    }
   ],
   "source": [
    "import time\n",
    "li = [4,2,3,2,4]*200000\n",
    "k = 8\n",
    "def check_sum(li,k):\n",
    "    for i in range(len(li)):\n",
    "        if k - li[i] in li[:i]:\n",
    "            return 'YES'\n",
    "    return 'NO'\n",
    "start_time = time.time()\n",
    "for _ in range(100000):\n",
    "    check_sum(li,k)\n",
    "print(time.time()-start_time)"
   ]
  },
  {
   "cell_type": "code",
   "execution_count": 74,
   "metadata": {},
   "outputs": [
    {
     "name": "stdout",
     "output_type": "stream",
     "text": [
      "0.10724210739135742\n"
     ]
    }
   ],
   "source": [
    "#Shushant's code\n",
    "import time\n",
    "li = [4,2,3,2,4]*200000\n",
    "k = 8\n",
    "def pair_sum(input_arr,target_sum):\n",
    "    input_map = {}\n",
    "    for num in input_arr:\n",
    "        if num in input_map:\n",
    "            return 'YES'\n",
    "        else:\n",
    "            input_map[target_sum - num] = 1\n",
    "    return 'NO'\n",
    "start_time = time.time()\n",
    "for _ in range(100000):\n",
    "    pair_sum(li,k)\n",
    "print(time.time()-start_time)"
   ]
  },
  {
   "cell_type": "code",
   "execution_count": null,
   "metadata": {},
   "outputs": [],
   "source": [
    "#slow\n",
    "li = [6,2,3,2,8]\n",
    "k = 8\n",
    "def check_sum(li,k):\n",
    "    if k/2 in li and li.count(k/2) > 1:\n",
    "        return 'YES'\n",
    "    li = list(set(li))\n",
    "    for i in range(len(li)):\n",
    "        if k - li[i] in li[:i]:\n",
    "            return 'YES'\n",
    "    return 'NO'\n",
    "check_sum(li,k)"
   ]
  }
 ],
 "metadata": {
  "kernelspec": {
   "display_name": "Python 3",
   "language": "python",
   "name": "python3"
  },
  "language_info": {
   "codemirror_mode": {
    "name": "ipython",
    "version": 3
   },
   "file_extension": ".py",
   "mimetype": "text/x-python",
   "name": "python",
   "nbconvert_exporter": "python",
   "pygments_lexer": "ipython3",
   "version": "3.7.3"
  }
 },
 "nbformat": 4,
 "nbformat_minor": 4
}
