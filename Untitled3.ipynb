{
 "cells": [
  {
   "cell_type": "code",
   "execution_count": 8,
   "metadata": {},
   "outputs": [
    {
     "name": "stdout",
     "output_type": "stream",
     "text": [
      "Processing finished in 6.2189109325408936 seconds.\n"
     ]
    }
   ],
   "source": [
    "import time\n",
    "team_G_power = [3, 6, 7, 5, 3, 5, 6, 2, 9, 1]*1000\n",
    "opponent_team_power = [2, 7, 0, 9, 3, 6, 0, 6, 2, 6]*1000\n",
    "start_time = time.time()\n",
    "for _ in range(1000):\n",
    "    team_G_power.sort()\n",
    "    opponent_team_power.sort()\n",
    "    win_count = 0\n",
    "    opp_ind = 0\n",
    "    G_ind = 0\n",
    "\n",
    "    while G_ind < len(team_G_power):\n",
    "        if opponent_team_power[opp_ind] < team_G_power[G_ind]:\n",
    "            win_count += 1\n",
    "            G_ind += 1\n",
    "            opp_ind += 1\n",
    "        else:\n",
    "            G_ind += 1\n",
    "print('Processing finished in' ,time.time() - start_time,'seconds.')"
   ]
  },
  {
   "cell_type": "code",
   "execution_count": 9,
   "metadata": {},
   "outputs": [
    {
     "name": "stdout",
     "output_type": "stream",
     "text": [
      "Processing finished in 2.273254632949829 seconds.\n"
     ]
    }
   ],
   "source": [
    "import time\n",
    "team1 = [3, 6, 7, 5, 3, 5, 6, 2, 9, 1]*1000\n",
    "team2 = [2, 7, 0, 9, 3, 6, 0, 6, 2, 6]*1000\n",
    "start_time = time.time()\n",
    "for _ in range(1000):\n",
    "    team1.sort()\n",
    "    team2.sort()\n",
    "    wins = 0\n",
    "    for i in team1:\n",
    "        if i > team2[wins]:wins+=1\n",
    "print('Processing finished in' ,time.time() - start_time,'seconds.')"
   ]
  },
  {
   "cell_type": "code",
   "execution_count": null,
   "metadata": {},
   "outputs": [],
   "source": [
    "team1 = [24,30,50]\n",
    "team2 = [25,40,60]\n",
    "#team1 = [3, 6, 7, 5, 3, 5, 6, 2, 9, 1]\n",
    "#team2 = [2, 7, 0, 9, 3, 6, 0, 6, 2, 6]\n",
    "team1.sort()\n",
    "team2.sort()\n",
    "wins = 0\n",
    "cnt = 0\n",
    "n = 0\n",
    "i = 0\n",
    "while i<len(team2):\n",
    "    if team1[i] > team2[wins]:\n",
    "        print(i,wins)\n",
    "        #print(team1[i],team2[wins])\n",
    "        wins+=1\n",
    "    i+=1\n",
    "    \n",
    "print('wins',wins)\n",
    "print('loops',i)"
   ]
  }
 ],
 "metadata": {
  "kernelspec": {
   "display_name": "Python 3",
   "language": "python",
   "name": "python3"
  },
  "language_info": {
   "codemirror_mode": {
    "name": "ipython",
    "version": 3
   },
   "file_extension": ".py",
   "mimetype": "text/x-python",
   "name": "python",
   "nbconvert_exporter": "python",
   "pygments_lexer": "ipython3",
   "version": "3.7.3"
  }
 },
 "nbformat": 4,
 "nbformat_minor": 4
}
