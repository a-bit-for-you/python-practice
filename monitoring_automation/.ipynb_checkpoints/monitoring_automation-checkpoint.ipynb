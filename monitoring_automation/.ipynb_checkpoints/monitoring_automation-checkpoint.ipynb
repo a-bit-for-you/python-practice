{
 "cells": [
  {
   "cell_type": "code",
   "execution_count": 7,
   "metadata": {},
   "outputs": [],
   "source": [
    "from selenium import webdriver\n",
    "from selenium.webdriver.common.keys import Keys\n",
    "from selenium.webdriver.common.by import By\n",
    "from selenium.webdriver.support.ui import WebDriverWait\n",
    "from selenium.webdriver.support import expected_conditions as ec\n",
    "from datetime import datetime\n",
    "from datetime import date\n",
    "import time\n",
    "\n",
    "# Date and time\n",
    "current_time = datetime.now().strftime(\"%H_%M_%S\")\n",
    "current_date = date.today().strftime(\"%d_%b_%Y\")\n",
    "\n",
    "#functions\n",
    "def button_wait(xpath):\n",
    "    e = WebDriverWait(driver, 20).until(ec.visibility_of_element_located((By.XPATH, xpath)))\n",
    "    e.click()\n",
    "    \n",
    "def text_wait(xpath,text):\n",
    "    e = WebDriverWait(driver, 20).until(ec.visibility_of_element_located((By.XPATH, xpath)))\n",
    "    e.send_keys(text)\n",
    "    \n",
    "def text_wait_enter(xpath,text):\n",
    "    e = WebDriverWait(driver, 20).until(ec.visibility_of_element_located((By.XPATH, xpath)))\n",
    "    e.send_keys(text)\n",
    "    e.send_keys(Keys.ENTER)\n",
    "    \n",
    "options = webdriver.ChromeOptions()\n",
    "#options.add_argument('--headless')\n",
    "driver=webdriver.Chrome('chromedriver',options = options)\n",
    "driver.maximize_window()\n",
    "driver.get('https://www.amazon.in/')\n",
    "text_wait_enter('//*[@id=\"twotabsearchtextbox\"]','latest mobile')#search for latest mobile\n",
    "button_wait('//*[@id=\"p_85/10440599031\"]/span/a/div/label/i')#prime check box \n",
    "button_wait('//*[@id=\"n/1389402031\"]/span/a/span')#mobile accessories"
   ]
  },
  {
   "cell_type": "code",
   "execution_count": null,
   "metadata": {},
   "outputs": [],
   "source": []
  }
 ],
 "metadata": {
  "kernelspec": {
   "display_name": "Python 3",
   "language": "python",
   "name": "python3"
  },
  "language_info": {
   "codemirror_mode": {
    "name": "ipython",
    "version": 3
   },
   "file_extension": ".py",
   "mimetype": "text/x-python",
   "name": "python",
   "nbconvert_exporter": "python",
   "pygments_lexer": "ipython3",
   "version": "3.7.3"
  }
 },
 "nbformat": 4,
 "nbformat_minor": 4
}
